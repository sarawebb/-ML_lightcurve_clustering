{
 "cells": [
  {
   "cell_type": "code",
   "execution_count": 1,
   "metadata": {},
   "outputs": [],
   "source": [
    "import feets\n",
    "import os \n",
    "import math \n",
    "import numpy as np \n",
    "import argparse \n",
    "from astropy.table import Table, Column, join\n",
    "from astropy.coordinates import SkyCoord\n",
    "from astropy import units as u\n",
    "from astroquery.vizier import Vizier\n",
    "import sys\n",
    "import hdbscan\n",
    "from sklearn.manifold import TSNE\n",
    "import matplotlib.pyplot as plt\n",
    "import seaborn as sns\n",
    "from sklearn.decomposition import PCA\n",
    "import pandas as pd\n",
    "from sklearn.preprocessing import StandardScaler\n",
    "fft = False\n",
    "import pickle\n",
    "import matplotlib.pylab as pylab\n",
    "from astropy.table import Table, Column, join \n"
   ]
  },
  {
   "cell_type": "markdown",
   "metadata": {},
   "source": [
    "### Step 1: Reading in the light curves and extracting features "
   ]
  },
  {
   "cell_type": "code",
   "execution_count": 2,
   "metadata": {},
   "outputs": [],
   "source": [
    "def load_LC_get_feats(input_path):\n",
    "    path = input_path+'/LC_files/'\n",
    "    lc_with_only_zeros = []\n",
    "    used_lcs = []\n",
    "    filenames = []\n",
    "    \n",
    "    # the following at the features we'll grab using the feets package \n",
    "    Autocor_length = []\n",
    "    Beyond1Std = []\n",
    "    CAR_sigma = []\n",
    "    CAR_mean = []\n",
    "    CAR_tau =[]\n",
    "    Con =[]\n",
    "    Eta_e = []\n",
    "    LinearTrend = []\n",
    "    MaxSlope =[]\n",
    "    Mean = []\n",
    "    Meanvariance = []\n",
    "    MedianAbsDev =[]\n",
    "    MedianBRP =[]\n",
    "    PairSlopeTrend =[]\n",
    "    PercentAmplitude =[]\n",
    "    Q31 =[]\n",
    "    Rcs =[]\n",
    "    Skew =[]\n",
    "    SlottedA_length =[]\n",
    "    SmallKurtosis =[]\n",
    "    Std = []\n",
    "    StetsonK_AC = []\n",
    "    Amplitudes = []\n",
    "    VariabilityIndex = []\n",
    "    hl_ratio = []\n",
    "    amp1_val = []\n",
    "    amp_2_1_ratio = []\n",
    "    amp_3_1_ratio = []\n",
    "    phase_2_1_ratio = []\n",
    "    phase_3_1_ratio = []\n",
    "    files = os.listdir(path)\n",
    "    for filename in files: \n",
    "        if filename.endswith('.ascii'):\n",
    "            try:\n",
    "                hjd, mag, emag = np.loadtxt(path + filename, unpack = True, skiprows=1)\n",
    "            except: \n",
    "                print('FILE EMPTY)')\n",
    "            sum_mag = np.sum(mag)\n",
    "            #print(filename, sum_mag)\n",
    "            if sum_mag == 0:\n",
    "                lc_with_only_zeros.append(filename)\n",
    "            elif sum_mag != 0:\n",
    "                used_lcs.append(filename)\n",
    "            clean_hjd = []\n",
    "            clean_mag = []\n",
    "            clean_emag = []\n",
    "            for l,m,n in zip(hjd,mag, emag):\n",
    "                if m != 0:\n",
    "                    if m != 0:\n",
    "                        clean_hjd.append(l)\n",
    "                        clean_mag.append(m)\n",
    "                        clean_emag.append(n)\n",
    "                    elif m != float: \n",
    "                        pass \n",
    "            if len(clean_hjd) > 3:\n",
    "                lc = np.array([clean_mag, clean_hjd, clean_emag])\n",
    "                fs=feets.FeatureSpace(only=['Autocor_length', 'Beyond1Std', 'CAR_sigma', 'CAR_mean',\n",
    "                                            'CAR_tau', 'Con', 'LinearTrend', 'MaxSlope',\n",
    "                                            'Mean', 'Meanvariance', 'MedianAbsDev', 'MedianBRP',\n",
    "                                            'PairSlopeTrend', 'PercentAmplitude', 'Q31', 'Rcs', 'Skew',\n",
    "                                            'SlottedA_length', 'SmallKurtosis', 'Std',\n",
    "                                            'StetsonK_AC' ])\n",
    "                features, values = fs.extract(*lc)\n",
    "                print(features, values)\n",
    "                results = dict(zip(features,values))\n",
    "                filenames.append(filename)\n",
    "                Autocor_length.append(results['Autocor_length'])\n",
    "                Beyond1Std.append(results['Beyond1Std'])\n",
    "                CAR_sigma.append(results['CAR_sigma'])\n",
    "                CAR_mean.append(results['CAR_mean'])\n",
    "                CAR_tau.append(results['CAR_tau'])\n",
    "                Con.append(results['Con'])\n",
    "                LinearTrend.append(results['LinearTrend'])\n",
    "                MaxSlope.append(results['MaxSlope'])\n",
    "                Mean.append(results['Mean'])\n",
    "                Meanvariance.append(results['Meanvariance'])\n",
    "                MedianAbsDev.append(results['MedianAbsDev'])\n",
    "                MedianBRP.append(results['MedianBRP'])\n",
    "                PairSlopeTrend.append(results['PairSlopeTrend'])\n",
    "                PercentAmplitude.append(results['PercentAmplitude'])\n",
    "                Q31.append(results['Q31'])\n",
    "                Rcs.append(results['Rcs'])\n",
    "                Skew.append(results['Skew'])\n",
    "                SlottedA_length.append(results['SlottedA_length'])\n",
    "                SmallKurtosis.append(results['SmallKurtosis'])\n",
    "                Std.append(results['Std'])\n",
    "                StetsonK_AC.append(results['StetsonK_AC'])\n",
    "                N = len(clean_mag)\n",
    "                sorted_mag = np.sort(clean_mag)\n",
    "                amp = (np.median(sorted_mag[-int(math.ceil(0.05*N)):]) - np.median(sorted_mag[0:int(math.ceil(0.05*N))])) / 2\n",
    "                Amplitudes.append(amp)\n",
    "                clean_mag_array = np.asarray(clean_mag)\n",
    "                sigma2 = np.var(clean_mag)\n",
    "                VarIndex = 1/((N-1)*sigma2)*np.sum(np.power(clean_mag_array[1:]-clean_mag_array[:-1], 2))\n",
    "                VariabilityIndex.append(VarIndex)\n",
    "                non_detects = []\n",
    "                fft = np.fft.rfft(clean_mag)\n",
    "                amps = np.sqrt(fft.real**2+fft.imag**2)\n",
    "                amp1 = amps[0]\n",
    "                amp1_val.append(amp1)\n",
    "                amp2 = amps[1]\n",
    "                amp3 = amps[2]\n",
    "                amp_2_1 = amp2/amp1\n",
    "                amp_3_1 = amp3/amp1 \n",
    "                amp_2_1_ratio.append(amp_2_1)\n",
    "                amp_3_1_ratio.append(amp_3_1)\n",
    "                phases = np.arctan2(fft.imag, fft.real)\n",
    "                phase1 = phases[0]\n",
    "                phase2 = phases[1]\n",
    "                phase3 = phases[2]\n",
    "                phase_2_1 = phase2/phase1\n",
    "                phase_3_1 = phase3/phase1  \n",
    "                phase_2_1_ratio.append(phase_2_1)\n",
    "                phase_3_1_ratio.append(phase_3_1)\n",
    "            else: \n",
    "                print('Not enough data points')\n",
    "    #put all into a mega table with each row representing a different light curve \n",
    "    feature_table = Table()\n",
    "    feature_table['LC_name'] = filenames\n",
    "    feature_table['Autocor_length'] = Autocor_length\n",
    "    feature_table['Beyond1Std'] = Beyond1Std\n",
    "    feature_table['CAR_sigma'] = CAR_sigma\n",
    "    feature_table['CAR_mean'] = CAR_mean\n",
    "    feature_table['CAR_tau'] = CAR_tau\n",
    "    feature_table['Con'] = Con\n",
    "    feature_table['LinearTrend'] = LinearTrend\n",
    "    feature_table['MaxSlope'] = MaxSlope\n",
    "    feature_table['Mean'] =Mean\n",
    "    feature_table['Meanvariance'] =Meanvariance\n",
    "    feature_table['MedianAbsDev'] =MedianAbsDev\n",
    "    feature_table['MedianBRP'] =MedianBRP\n",
    "    feature_table['PairSlopeTrend'] =PairSlopeTrend\n",
    "    feature_table['PercentAmplitude'] =PercentAmplitude\n",
    "    feature_table['Q31'] =Q31\n",
    "    feature_table['Rcs'] =Rcs\n",
    "    feature_table['Skew'] =Skew\n",
    "    feature_table['SlottedA_length'] =SlottedA_length\n",
    "    feature_table['SmallKurtosis'] =SmallKurtosis\n",
    "    feature_table['Std'] =Std\n",
    "    feature_table['StetsonK_AC'] =StetsonK_AC\n",
    "    feature_table['Amplitudes'] = Amplitudes\n",
    "    feature_table['amp1'] = amp1_val\n",
    "    feature_table['amp_2_1_ratio'] = amp_2_1_ratio \n",
    "    feature_table['amp_3_1_ratio'] = amp_3_1_ratio\n",
    "    output =input_path+'/features_set.csv'\n",
    "    df = feature_table.to_pandas()\n",
    "    df = df.replace(np.nan, 0)\n",
    "    df.to_csv(output)\n",
    "    return feature_table"
   ]
  },
  {
   "cell_type": "code",
   "execution_count": 3,
   "metadata": {},
   "outputs": [
    {
     "name": "stderr",
     "output_type": "stream",
     "text": [
      "/Users/swebb/opt/anaconda3/lib/python3.9/site-packages/numpy/core/fromnumeric.py:3419: RuntimeWarning: Mean of empty slice.\n",
      "  return _methods._mean(a, axis=axis, dtype=dtype,\n",
      "/Users/swebb/opt/anaconda3/lib/python3.9/site-packages/numpy/core/_methods.py:188: RuntimeWarning: invalid value encountered in double_scalars\n",
      "  ret = ret.dtype.type(ret / rcount)\n",
      "/Users/swebb/opt/anaconda3/lib/python3.9/site-packages/numpy/core/_methods.py:261: RuntimeWarning: Degrees of freedom <= 0 for slice\n",
      "  ret = _var(a, axis=axis, dtype=dtype, out=out, ddof=ddof,\n",
      "/Users/swebb/opt/anaconda3/lib/python3.9/site-packages/numpy/core/_methods.py:221: RuntimeWarning: invalid value encountered in true_divide\n",
      "  arrmean = um.true_divide(arrmean, div, out=arrmean, casting='unsafe',\n",
      "/Users/swebb/opt/anaconda3/lib/python3.9/site-packages/numpy/core/_methods.py:253: RuntimeWarning: invalid value encountered in double_scalars\n",
      "  ret = ret.dtype.type(ret / rcount)\n",
      "/Users/swebb/opt/anaconda3/lib/python3.9/site-packages/feets/extractors/ext_stetson.py:247: RuntimeWarning: divide by zero encountered in double_scalars\n",
      "  K = (1 / np.sqrt(N_autocor * 1.0) *\n",
      "/Users/swebb/opt/anaconda3/lib/python3.9/site-packages/feets/extractors/ext_stetson.py:247: RuntimeWarning: invalid value encountered in double_scalars\n",
      "  K = (1 / np.sqrt(N_autocor * 1.0) *\n",
      "/Users/swebb/opt/anaconda3/lib/python3.9/site-packages/feets/extractors/ext_max_slope.py:91: RuntimeWarning: divide by zero encountered in true_divide\n",
      "  slope = np.abs(magnitude[1:] - magnitude[:-1]) / (time[1:] - time[:-1])\n",
      "/Users/swebb/opt/anaconda3/lib/python3.9/site-packages/statsmodels/tsa/stattools.py:667: FutureWarning: fft=True will become the default after the release of the 0.12 release of statsmodels. To suppress this warning, explicitly set fft=False.\n",
      "  warnings.warn(\n",
      "/var/folders/rw/x2cf5q4d4pb3gjtnt9b1qkbx3lm9jr/T/ipykernel_73733/1328582039.py:118: RuntimeWarning: divide by zero encountered in double_scalars\n",
      "  phase_2_1 = phase2/phase1\n",
      "/var/folders/rw/x2cf5q4d4pb3gjtnt9b1qkbx3lm9jr/T/ipykernel_73733/1328582039.py:119: RuntimeWarning: divide by zero encountered in double_scalars\n",
      "  phase_3_1 = phase3/phase1\n"
     ]
    },
    {
     "name": "stdout",
     "output_type": "stream",
     "text": [
      "['Autocor_length' 'Beyond1Std' 'CAR_mean' 'CAR_sigma' 'CAR_tau' 'Con'\n",
      " 'LinearTrend' 'MaxSlope' 'Mean' 'Meanvariance' 'MedianAbsDev' 'MedianBRP'\n",
      " 'PairSlopeTrend' 'PercentAmplitude' 'Q31' 'Rcs' 'Skew' 'SlottedA_length'\n",
      " 'SmallKurtosis' 'Std' 'StetsonK_AC'] [ 1.25000000e+02  4.12280702e-01  1.17667376e+05  1.00000000e+01\n",
      "  5.00000000e-01  0.00000000e+00 -2.19368740e-01             inf\n",
      "  5.88336882e+04  1.59349126e-06  8.13110000e-02  1.98245614e-01\n",
      "  9.66666667e-01  2.75752728e-06  1.62340750e-01  4.33347058e-01\n",
      "  1.49098131e-03             nan -1.19727335e+00  9.37509679e-02\n",
      "             nan]\n"
     ]
    },
    {
     "name": "stderr",
     "output_type": "stream",
     "text": [
      "/Users/swebb/opt/anaconda3/lib/python3.9/site-packages/feets/extractors/ext_max_slope.py:91: RuntimeWarning: divide by zero encountered in true_divide\n",
      "  slope = np.abs(magnitude[1:] - magnitude[:-1]) / (time[1:] - time[:-1])\n",
      "/Users/swebb/opt/anaconda3/lib/python3.9/site-packages/numpy/core/fromnumeric.py:3419: RuntimeWarning: Mean of empty slice.\n",
      "  return _methods._mean(a, axis=axis, dtype=dtype,\n",
      "/Users/swebb/opt/anaconda3/lib/python3.9/site-packages/numpy/core/_methods.py:188: RuntimeWarning: invalid value encountered in double_scalars\n",
      "  ret = ret.dtype.type(ret / rcount)\n",
      "/Users/swebb/opt/anaconda3/lib/python3.9/site-packages/numpy/core/_methods.py:261: RuntimeWarning: Degrees of freedom <= 0 for slice\n",
      "  ret = _var(a, axis=axis, dtype=dtype, out=out, ddof=ddof,\n",
      "/Users/swebb/opt/anaconda3/lib/python3.9/site-packages/numpy/core/_methods.py:221: RuntimeWarning: invalid value encountered in true_divide\n",
      "  arrmean = um.true_divide(arrmean, div, out=arrmean, casting='unsafe',\n",
      "/Users/swebb/opt/anaconda3/lib/python3.9/site-packages/numpy/core/_methods.py:253: RuntimeWarning: invalid value encountered in double_scalars\n",
      "  ret = ret.dtype.type(ret / rcount)\n",
      "/Users/swebb/opt/anaconda3/lib/python3.9/site-packages/feets/extractors/ext_stetson.py:247: RuntimeWarning: divide by zero encountered in double_scalars\n",
      "  K = (1 / np.sqrt(N_autocor * 1.0) *\n",
      "/Users/swebb/opt/anaconda3/lib/python3.9/site-packages/feets/extractors/ext_stetson.py:247: RuntimeWarning: invalid value encountered in double_scalars\n",
      "  K = (1 / np.sqrt(N_autocor * 1.0) *\n",
      "/Users/swebb/opt/anaconda3/lib/python3.9/site-packages/statsmodels/tsa/stattools.py:667: FutureWarning: fft=True will become the default after the release of the 0.12 release of statsmodels. To suppress this warning, explicitly set fft=False.\n",
      "  warnings.warn(\n",
      "/var/folders/rw/x2cf5q4d4pb3gjtnt9b1qkbx3lm9jr/T/ipykernel_73733/1328582039.py:118: RuntimeWarning: divide by zero encountered in double_scalars\n",
      "  phase_2_1 = phase2/phase1\n",
      "/var/folders/rw/x2cf5q4d4pb3gjtnt9b1qkbx3lm9jr/T/ipykernel_73733/1328582039.py:119: RuntimeWarning: divide by zero encountered in double_scalars\n",
      "  phase_3_1 = phase3/phase1\n"
     ]
    },
    {
     "name": "stdout",
     "output_type": "stream",
     "text": [
      "['Autocor_length' 'Beyond1Std' 'CAR_mean' 'CAR_sigma' 'CAR_tau' 'Con'\n",
      " 'LinearTrend' 'MaxSlope' 'Mean' 'Meanvariance' 'MedianAbsDev' 'MedianBRP'\n",
      " 'PairSlopeTrend' 'PercentAmplitude' 'Q31' 'Rcs' 'Skew' 'SlottedA_length'\n",
      " 'SmallKurtosis' 'Std' 'StetsonK_AC'] [ 1.22000000e+02  4.15467626e-01  1.17667375e+05  1.00000000e+01\n",
      "  5.00000000e-01  0.00000000e+00 -2.94066711e-01             inf\n",
      "  5.88336874e+04  1.59786859e-06  8.18815000e-02  1.90647482e-01\n",
      "  9.66666667e-01  2.75805417e-06  1.63447250e-01  4.34882434e-01\n",
      "  3.29451879e-03             nan -1.21192043e+00  9.40085009e-02\n",
      "             nan]\n"
     ]
    },
    {
     "name": "stderr",
     "output_type": "stream",
     "text": [
      "/Users/swebb/opt/anaconda3/lib/python3.9/site-packages/statsmodels/tsa/stattools.py:667: FutureWarning: fft=True will become the default after the release of the 0.12 release of statsmodels. To suppress this warning, explicitly set fft=False.\n",
      "  warnings.warn(\n",
      "/Users/swebb/opt/anaconda3/lib/python3.9/site-packages/numpy/core/fromnumeric.py:3419: RuntimeWarning: Mean of empty slice.\n",
      "  return _methods._mean(a, axis=axis, dtype=dtype,\n",
      "/Users/swebb/opt/anaconda3/lib/python3.9/site-packages/numpy/core/_methods.py:188: RuntimeWarning: invalid value encountered in double_scalars\n",
      "  ret = ret.dtype.type(ret / rcount)\n",
      "/Users/swebb/opt/anaconda3/lib/python3.9/site-packages/numpy/core/_methods.py:261: RuntimeWarning: Degrees of freedom <= 0 for slice\n",
      "  ret = _var(a, axis=axis, dtype=dtype, out=out, ddof=ddof,\n",
      "/Users/swebb/opt/anaconda3/lib/python3.9/site-packages/numpy/core/_methods.py:221: RuntimeWarning: invalid value encountered in true_divide\n",
      "  arrmean = um.true_divide(arrmean, div, out=arrmean, casting='unsafe',\n",
      "/Users/swebb/opt/anaconda3/lib/python3.9/site-packages/numpy/core/_methods.py:253: RuntimeWarning: invalid value encountered in double_scalars\n",
      "  ret = ret.dtype.type(ret / rcount)\n",
      "/Users/swebb/opt/anaconda3/lib/python3.9/site-packages/feets/extractors/ext_stetson.py:247: RuntimeWarning: divide by zero encountered in double_scalars\n",
      "  K = (1 / np.sqrt(N_autocor * 1.0) *\n",
      "/Users/swebb/opt/anaconda3/lib/python3.9/site-packages/feets/extractors/ext_stetson.py:247: RuntimeWarning: invalid value encountered in double_scalars\n",
      "  K = (1 / np.sqrt(N_autocor * 1.0) *\n",
      "/var/folders/rw/x2cf5q4d4pb3gjtnt9b1qkbx3lm9jr/T/ipykernel_73733/1328582039.py:118: RuntimeWarning: divide by zero encountered in double_scalars\n",
      "  phase_2_1 = phase2/phase1\n",
      "/var/folders/rw/x2cf5q4d4pb3gjtnt9b1qkbx3lm9jr/T/ipykernel_73733/1328582039.py:119: RuntimeWarning: divide by zero encountered in double_scalars\n",
      "  phase_3_1 = phase3/phase1\n",
      "/Users/swebb/opt/anaconda3/lib/python3.9/site-packages/feets/extractors/ext_max_slope.py:91: RuntimeWarning: divide by zero encountered in true_divide\n",
      "  slope = np.abs(magnitude[1:] - magnitude[:-1]) / (time[1:] - time[:-1])\n"
     ]
    },
    {
     "name": "stdout",
     "output_type": "stream",
     "text": [
      "['Autocor_length' 'Beyond1Std' 'CAR_mean' 'CAR_sigma' 'CAR_tau' 'Con'\n",
      " 'LinearTrend' 'MaxSlope' 'Mean' 'Meanvariance' 'MedianAbsDev' 'MedianBRP'\n",
      " 'PairSlopeTrend' 'PercentAmplitude' 'Q31' 'Rcs' 'Skew' 'SlottedA_length'\n",
      " 'SmallKurtosis' 'Std' 'StetsonK_AC'] [ 1.24000000e+02  4.03169014e-01  1.17667378e+05  1.00000000e+01\n",
      "  5.00000000e-01  0.00000000e+00 -4.36008074e-01  2.43222000e+05\n",
      "  5.88336888e+04  1.58922163e-06  8.10295000e-02  1.98943662e-01\n",
      "  9.66666667e-01  2.75805417e-06  1.61779000e-01  4.33242183e-01\n",
      " -1.15181956e-03             nan -1.19403865e+00  9.34997710e-02\n",
      "             nan]\n",
      "['Autocor_length' 'Beyond1Std' 'CAR_mean' 'CAR_sigma' 'CAR_tau' 'Con'\n",
      " 'LinearTrend' 'MaxSlope' 'Mean' 'Meanvariance' 'MedianAbsDev' 'MedianBRP'\n",
      " 'PairSlopeTrend' 'PercentAmplitude' 'Q31' 'Rcs' 'Skew' 'SlottedA_length'\n",
      " 'SmallKurtosis' 'Std' 'StetsonK_AC'] [ 1.25000000e+02  4.22807018e-01  1.17667376e+05  1.00000000e+01\n",
      "  5.00000000e-01  0.00000000e+00 -6.92059852e-01             inf\n",
      "  5.88336882e+04  1.59349126e-06  8.13110000e-02  1.98245614e-01\n",
      "  9.66666667e-01  2.75752728e-06  1.62340750e-01  4.33347058e-01\n",
      "  1.49098131e-03             nan -1.19727335e+00  9.37509679e-02\n",
      "             nan]\n"
     ]
    },
    {
     "name": "stderr",
     "output_type": "stream",
     "text": [
      "/var/folders/rw/x2cf5q4d4pb3gjtnt9b1qkbx3lm9jr/T/ipykernel_73733/1328582039.py:118: RuntimeWarning: divide by zero encountered in double_scalars\n",
      "  phase_2_1 = phase2/phase1\n",
      "/var/folders/rw/x2cf5q4d4pb3gjtnt9b1qkbx3lm9jr/T/ipykernel_73733/1328582039.py:119: RuntimeWarning: divide by zero encountered in double_scalars\n",
      "  phase_3_1 = phase3/phase1\n",
      "/Users/swebb/opt/anaconda3/lib/python3.9/site-packages/numpy/core/fromnumeric.py:3419: RuntimeWarning: Mean of empty slice.\n",
      "  return _methods._mean(a, axis=axis, dtype=dtype,\n",
      "/Users/swebb/opt/anaconda3/lib/python3.9/site-packages/numpy/core/_methods.py:188: RuntimeWarning: invalid value encountered in double_scalars\n",
      "  ret = ret.dtype.type(ret / rcount)\n",
      "/Users/swebb/opt/anaconda3/lib/python3.9/site-packages/numpy/core/_methods.py:261: RuntimeWarning: Degrees of freedom <= 0 for slice\n",
      "  ret = _var(a, axis=axis, dtype=dtype, out=out, ddof=ddof,\n",
      "/Users/swebb/opt/anaconda3/lib/python3.9/site-packages/numpy/core/_methods.py:221: RuntimeWarning: invalid value encountered in true_divide\n",
      "  arrmean = um.true_divide(arrmean, div, out=arrmean, casting='unsafe',\n",
      "/Users/swebb/opt/anaconda3/lib/python3.9/site-packages/numpy/core/_methods.py:253: RuntimeWarning: invalid value encountered in double_scalars\n",
      "  ret = ret.dtype.type(ret / rcount)\n",
      "/Users/swebb/opt/anaconda3/lib/python3.9/site-packages/feets/extractors/ext_stetson.py:247: RuntimeWarning: divide by zero encountered in double_scalars\n",
      "  K = (1 / np.sqrt(N_autocor * 1.0) *\n",
      "/Users/swebb/opt/anaconda3/lib/python3.9/site-packages/feets/extractors/ext_stetson.py:247: RuntimeWarning: invalid value encountered in double_scalars\n",
      "  K = (1 / np.sqrt(N_autocor * 1.0) *\n",
      "/Users/swebb/opt/anaconda3/lib/python3.9/site-packages/statsmodels/tsa/stattools.py:667: FutureWarning: fft=True will become the default after the release of the 0.12 release of statsmodels. To suppress this warning, explicitly set fft=False.\n",
      "  warnings.warn(\n",
      "/Users/swebb/opt/anaconda3/lib/python3.9/site-packages/feets/extractors/ext_max_slope.py:91: RuntimeWarning: divide by zero encountered in true_divide\n",
      "  slope = np.abs(magnitude[1:] - magnitude[:-1]) / (time[1:] - time[:-1])\n",
      "/var/folders/rw/x2cf5q4d4pb3gjtnt9b1qkbx3lm9jr/T/ipykernel_73733/1328582039.py:118: RuntimeWarning: divide by zero encountered in double_scalars\n",
      "  phase_2_1 = phase2/phase1\n",
      "/var/folders/rw/x2cf5q4d4pb3gjtnt9b1qkbx3lm9jr/T/ipykernel_73733/1328582039.py:119: RuntimeWarning: divide by zero encountered in double_scalars\n",
      "  phase_3_1 = phase3/phase1\n",
      "/Users/swebb/opt/anaconda3/lib/python3.9/site-packages/numpy/core/fromnumeric.py:3419: RuntimeWarning: Mean of empty slice.\n",
      "  return _methods._mean(a, axis=axis, dtype=dtype,\n",
      "/Users/swebb/opt/anaconda3/lib/python3.9/site-packages/numpy/core/_methods.py:188: RuntimeWarning: invalid value encountered in double_scalars\n",
      "  ret = ret.dtype.type(ret / rcount)\n",
      "/Users/swebb/opt/anaconda3/lib/python3.9/site-packages/numpy/core/_methods.py:261: RuntimeWarning: Degrees of freedom <= 0 for slice\n",
      "  ret = _var(a, axis=axis, dtype=dtype, out=out, ddof=ddof,\n",
      "/Users/swebb/opt/anaconda3/lib/python3.9/site-packages/numpy/core/_methods.py:221: RuntimeWarning: invalid value encountered in true_divide\n",
      "  arrmean = um.true_divide(arrmean, div, out=arrmean, casting='unsafe',\n",
      "/Users/swebb/opt/anaconda3/lib/python3.9/site-packages/numpy/core/_methods.py:253: RuntimeWarning: invalid value encountered in double_scalars\n",
      "  ret = ret.dtype.type(ret / rcount)\n",
      "/Users/swebb/opt/anaconda3/lib/python3.9/site-packages/feets/extractors/ext_stetson.py:247: RuntimeWarning: divide by zero encountered in double_scalars\n",
      "  K = (1 / np.sqrt(N_autocor * 1.0) *\n",
      "/Users/swebb/opt/anaconda3/lib/python3.9/site-packages/feets/extractors/ext_stetson.py:247: RuntimeWarning: invalid value encountered in double_scalars\n",
      "  K = (1 / np.sqrt(N_autocor * 1.0) *\n"
     ]
    },
    {
     "name": "stdout",
     "output_type": "stream",
     "text": [
      "['Autocor_length' 'Beyond1Std' 'CAR_mean' 'CAR_sigma' 'CAR_tau' 'Con'\n",
      " 'LinearTrend' 'MaxSlope' 'Mean' 'Meanvariance' 'MedianAbsDev' 'MedianBRP'\n",
      " 'PairSlopeTrend' 'PercentAmplitude' 'Q31' 'Rcs' 'Skew' 'SlottedA_length'\n",
      " 'SmallKurtosis' 'Std' 'StetsonK_AC'] [ 1.25000000e+02  4.03508772e-01  1.17667376e+05  1.00000000e+01\n",
      "  5.00000000e-01  0.00000000e+00 -4.13297050e-01             inf\n",
      "  5.88336882e+04  1.59349126e-06  8.13110000e-02  1.98245614e-01\n",
      "  9.66666667e-01  2.75752728e-06  1.62340750e-01  4.33347058e-01\n",
      "  1.49098131e-03             nan -1.19727335e+00  9.37509679e-02\n",
      "             nan]\n"
     ]
    },
    {
     "name": "stderr",
     "output_type": "stream",
     "text": [
      "/Users/swebb/opt/anaconda3/lib/python3.9/site-packages/statsmodels/tsa/stattools.py:667: FutureWarning: fft=True will become the default after the release of the 0.12 release of statsmodels. To suppress this warning, explicitly set fft=False.\n",
      "  warnings.warn(\n"
     ]
    },
    {
     "name": "stdout",
     "output_type": "stream",
     "text": [
      "['Autocor_length' 'Beyond1Std' 'CAR_mean' 'CAR_sigma' 'CAR_tau' 'Con'\n",
      " 'LinearTrend' 'MaxSlope' 'Mean' 'Meanvariance' 'MedianAbsDev' 'MedianBRP'\n",
      " 'PairSlopeTrend' 'PercentAmplitude' 'Q31' 'Rcs' 'Skew' 'SlottedA_length'\n",
      " 'SmallKurtosis' 'Std' 'StetsonK_AC'] [ 1.25000000e+02  4.22807018e-01  1.17667376e+05  1.00000000e+01\n",
      "  5.00000000e-01  0.00000000e+00 -9.76935954e-01             inf\n",
      "  5.88336882e+04  1.59349126e-06  8.13110000e-02  1.98245614e-01\n",
      "  9.66666667e-01  2.75752728e-06  1.62340750e-01  4.33347058e-01\n",
      "  1.49098131e-03             nan -1.19727335e+00  9.37509679e-02\n",
      "             nan]\n"
     ]
    },
    {
     "name": "stderr",
     "output_type": "stream",
     "text": [
      "/var/folders/rw/x2cf5q4d4pb3gjtnt9b1qkbx3lm9jr/T/ipykernel_73733/1328582039.py:118: RuntimeWarning: divide by zero encountered in double_scalars\n",
      "  phase_2_1 = phase2/phase1\n",
      "/var/folders/rw/x2cf5q4d4pb3gjtnt9b1qkbx3lm9jr/T/ipykernel_73733/1328582039.py:119: RuntimeWarning: divide by zero encountered in double_scalars\n",
      "  phase_3_1 = phase3/phase1\n",
      "/Users/swebb/opt/anaconda3/lib/python3.9/site-packages/statsmodels/tsa/stattools.py:667: FutureWarning: fft=True will become the default after the release of the 0.12 release of statsmodels. To suppress this warning, explicitly set fft=False.\n",
      "  warnings.warn(\n",
      "/Users/swebb/opt/anaconda3/lib/python3.9/site-packages/feets/extractors/ext_max_slope.py:91: RuntimeWarning: divide by zero encountered in true_divide\n",
      "  slope = np.abs(magnitude[1:] - magnitude[:-1]) / (time[1:] - time[:-1])\n",
      "/Users/swebb/opt/anaconda3/lib/python3.9/site-packages/numpy/core/fromnumeric.py:3419: RuntimeWarning: Mean of empty slice.\n",
      "  return _methods._mean(a, axis=axis, dtype=dtype,\n",
      "/Users/swebb/opt/anaconda3/lib/python3.9/site-packages/numpy/core/_methods.py:188: RuntimeWarning: invalid value encountered in double_scalars\n",
      "  ret = ret.dtype.type(ret / rcount)\n",
      "/Users/swebb/opt/anaconda3/lib/python3.9/site-packages/numpy/core/_methods.py:261: RuntimeWarning: Degrees of freedom <= 0 for slice\n",
      "  ret = _var(a, axis=axis, dtype=dtype, out=out, ddof=ddof,\n",
      "/Users/swebb/opt/anaconda3/lib/python3.9/site-packages/numpy/core/_methods.py:221: RuntimeWarning: invalid value encountered in true_divide\n",
      "  arrmean = um.true_divide(arrmean, div, out=arrmean, casting='unsafe',\n",
      "/Users/swebb/opt/anaconda3/lib/python3.9/site-packages/numpy/core/_methods.py:253: RuntimeWarning: invalid value encountered in double_scalars\n",
      "  ret = ret.dtype.type(ret / rcount)\n",
      "/Users/swebb/opt/anaconda3/lib/python3.9/site-packages/feets/extractors/ext_stetson.py:247: RuntimeWarning: divide by zero encountered in double_scalars\n",
      "  K = (1 / np.sqrt(N_autocor * 1.0) *\n",
      "/Users/swebb/opt/anaconda3/lib/python3.9/site-packages/feets/extractors/ext_stetson.py:247: RuntimeWarning: invalid value encountered in double_scalars\n",
      "  K = (1 / np.sqrt(N_autocor * 1.0) *\n",
      "/var/folders/rw/x2cf5q4d4pb3gjtnt9b1qkbx3lm9jr/T/ipykernel_73733/1328582039.py:118: RuntimeWarning: divide by zero encountered in double_scalars\n",
      "  phase_2_1 = phase2/phase1\n",
      "/var/folders/rw/x2cf5q4d4pb3gjtnt9b1qkbx3lm9jr/T/ipykernel_73733/1328582039.py:119: RuntimeWarning: divide by zero encountered in double_scalars\n",
      "  phase_3_1 = phase3/phase1\n",
      "/Users/swebb/opt/anaconda3/lib/python3.9/site-packages/statsmodels/tsa/stattools.py:667: FutureWarning: fft=True will become the default after the release of the 0.12 release of statsmodels. To suppress this warning, explicitly set fft=False.\n",
      "  warnings.warn(\n"
     ]
    },
    {
     "name": "stdout",
     "output_type": "stream",
     "text": [
      "['Autocor_length' 'Beyond1Std' 'CAR_mean' 'CAR_sigma' 'CAR_tau' 'Con'\n",
      " 'LinearTrend' 'MaxSlope' 'Mean' 'Meanvariance' 'MedianAbsDev' 'MedianBRP'\n",
      " 'PairSlopeTrend' 'PercentAmplitude' 'Q31' 'Rcs' 'Skew' 'SlottedA_length'\n",
      " 'SmallKurtosis' 'Std' 'StetsonK_AC'] [ 1.24000000e+02  4.04929577e-01  1.17667377e+05  1.00000000e+01\n",
      "  5.00000000e-01  0.00000000e+00 -3.86032198e-01             inf\n",
      "  5.88336886e+04  1.59337103e-06  8.10295000e-02  1.98943662e-01\n",
      "  9.66666667e-01  2.75805417e-06  1.61779000e-01  4.33109238e-01\n",
      " -5.54018958e-03             nan -1.19414677e+00  9.37438948e-02\n",
      "             nan]\n"
     ]
    },
    {
     "name": "stderr",
     "output_type": "stream",
     "text": [
      "/Users/swebb/opt/anaconda3/lib/python3.9/site-packages/feets/extractors/ext_max_slope.py:91: RuntimeWarning: divide by zero encountered in true_divide\n",
      "  slope = np.abs(magnitude[1:] - magnitude[:-1]) / (time[1:] - time[:-1])\n",
      "/Users/swebb/opt/anaconda3/lib/python3.9/site-packages/numpy/core/fromnumeric.py:3419: RuntimeWarning: Mean of empty slice.\n",
      "  return _methods._mean(a, axis=axis, dtype=dtype,\n",
      "/Users/swebb/opt/anaconda3/lib/python3.9/site-packages/numpy/core/_methods.py:188: RuntimeWarning: invalid value encountered in double_scalars\n",
      "  ret = ret.dtype.type(ret / rcount)\n",
      "/Users/swebb/opt/anaconda3/lib/python3.9/site-packages/numpy/core/_methods.py:261: RuntimeWarning: Degrees of freedom <= 0 for slice\n",
      "  ret = _var(a, axis=axis, dtype=dtype, out=out, ddof=ddof,\n",
      "/Users/swebb/opt/anaconda3/lib/python3.9/site-packages/numpy/core/_methods.py:221: RuntimeWarning: invalid value encountered in true_divide\n",
      "  arrmean = um.true_divide(arrmean, div, out=arrmean, casting='unsafe',\n",
      "/Users/swebb/opt/anaconda3/lib/python3.9/site-packages/numpy/core/_methods.py:253: RuntimeWarning: invalid value encountered in double_scalars\n",
      "  ret = ret.dtype.type(ret / rcount)\n",
      "/Users/swebb/opt/anaconda3/lib/python3.9/site-packages/feets/extractors/ext_stetson.py:247: RuntimeWarning: divide by zero encountered in double_scalars\n",
      "  K = (1 / np.sqrt(N_autocor * 1.0) *\n",
      "/Users/swebb/opt/anaconda3/lib/python3.9/site-packages/feets/extractors/ext_stetson.py:247: RuntimeWarning: invalid value encountered in double_scalars\n",
      "  K = (1 / np.sqrt(N_autocor * 1.0) *\n",
      "/var/folders/rw/x2cf5q4d4pb3gjtnt9b1qkbx3lm9jr/T/ipykernel_73733/1328582039.py:118: RuntimeWarning: divide by zero encountered in double_scalars\n",
      "  phase_2_1 = phase2/phase1\n",
      "/var/folders/rw/x2cf5q4d4pb3gjtnt9b1qkbx3lm9jr/T/ipykernel_73733/1328582039.py:119: RuntimeWarning: divide by zero encountered in double_scalars\n",
      "  phase_3_1 = phase3/phase1\n",
      "/Users/swebb/opt/anaconda3/lib/python3.9/site-packages/statsmodels/tsa/stattools.py:667: FutureWarning: fft=True will become the default after the release of the 0.12 release of statsmodels. To suppress this warning, explicitly set fft=False.\n",
      "  warnings.warn(\n"
     ]
    },
    {
     "name": "stdout",
     "output_type": "stream",
     "text": [
      "['Autocor_length' 'Beyond1Std' 'CAR_mean' 'CAR_sigma' 'CAR_tau' 'Con'\n",
      " 'LinearTrend' 'MaxSlope' 'Mean' 'Meanvariance' 'MedianAbsDev' 'MedianBRP'\n",
      " 'PairSlopeTrend' 'PercentAmplitude' 'Q31' 'Rcs' 'Skew' 'SlottedA_length'\n",
      " 'SmallKurtosis' 'Std' 'StetsonK_AC'] [ 1.22000000e+02  4.12500000e-01  1.17667380e+05  1.00000000e+01\n",
      "  5.00000000e-01  0.00000000e+00 -1.23572937e-01             inf\n",
      "  5.88336898e+04  1.59349440e-06  8.10295000e-02  2.01785714e-01\n",
      "  9.66666667e-01  2.79674788e-06  1.61770750e-01  4.32513494e-01\n",
      " -2.99680559e-02             nan -1.18686295e+00  9.37511555e-02\n",
      "             nan]\n",
      "['Autocor_length' 'Beyond1Std' 'CAR_mean' 'CAR_sigma' 'CAR_tau' 'Con'\n",
      " 'LinearTrend' 'MaxSlope' 'Mean' 'Meanvariance' 'MedianAbsDev' 'MedianBRP'\n",
      " 'PairSlopeTrend' 'PercentAmplitude' 'Q31' 'Rcs' 'Skew' 'SlottedA_length'\n",
      " 'SmallKurtosis' 'Std' 'StetsonK_AC'] [ 1.20000000e+02  4.11657559e-01  1.17667379e+05  1.00000000e+01\n",
      "  5.00000000e-01  0.00000000e+00  1.32437817e-01  2.77338000e+05\n",
      "  5.88336895e+04  1.58381779e-06  8.00030000e-02  2.02185792e-01\n",
      "  9.66666667e-01  2.79185273e-06  1.59777000e-01  4.32373911e-01\n",
      " -2.29599062e-02             nan -1.17488248e+00  9.31818443e-02\n",
      "  1.00000000e+00]\n"
     ]
    },
    {
     "name": "stderr",
     "output_type": "stream",
     "text": [
      "/var/folders/rw/x2cf5q4d4pb3gjtnt9b1qkbx3lm9jr/T/ipykernel_73733/1328582039.py:118: RuntimeWarning: divide by zero encountered in double_scalars\n",
      "  phase_2_1 = phase2/phase1\n",
      "/var/folders/rw/x2cf5q4d4pb3gjtnt9b1qkbx3lm9jr/T/ipykernel_73733/1328582039.py:119: RuntimeWarning: divide by zero encountered in double_scalars\n",
      "  phase_3_1 = phase3/phase1\n",
      "/Users/swebb/opt/anaconda3/lib/python3.9/site-packages/statsmodels/tsa/stattools.py:667: FutureWarning: fft=True will become the default after the release of the 0.12 release of statsmodels. To suppress this warning, explicitly set fft=False.\n",
      "  warnings.warn(\n",
      "/Users/swebb/opt/anaconda3/lib/python3.9/site-packages/feets/extractors/ext_max_slope.py:91: RuntimeWarning: divide by zero encountered in true_divide\n",
      "  slope = np.abs(magnitude[1:] - magnitude[:-1]) / (time[1:] - time[:-1])\n",
      "/Users/swebb/opt/anaconda3/lib/python3.9/site-packages/numpy/core/fromnumeric.py:3419: RuntimeWarning: Mean of empty slice.\n",
      "  return _methods._mean(a, axis=axis, dtype=dtype,\n",
      "/Users/swebb/opt/anaconda3/lib/python3.9/site-packages/numpy/core/_methods.py:188: RuntimeWarning: invalid value encountered in double_scalars\n",
      "  ret = ret.dtype.type(ret / rcount)\n",
      "/Users/swebb/opt/anaconda3/lib/python3.9/site-packages/numpy/core/_methods.py:261: RuntimeWarning: Degrees of freedom <= 0 for slice\n",
      "  ret = _var(a, axis=axis, dtype=dtype, out=out, ddof=ddof,\n",
      "/Users/swebb/opt/anaconda3/lib/python3.9/site-packages/numpy/core/_methods.py:221: RuntimeWarning: invalid value encountered in true_divide\n",
      "  arrmean = um.true_divide(arrmean, div, out=arrmean, casting='unsafe',\n",
      "/Users/swebb/opt/anaconda3/lib/python3.9/site-packages/numpy/core/_methods.py:253: RuntimeWarning: invalid value encountered in double_scalars\n",
      "  ret = ret.dtype.type(ret / rcount)\n",
      "/Users/swebb/opt/anaconda3/lib/python3.9/site-packages/feets/extractors/ext_stetson.py:247: RuntimeWarning: divide by zero encountered in double_scalars\n",
      "  K = (1 / np.sqrt(N_autocor * 1.0) *\n",
      "/Users/swebb/opt/anaconda3/lib/python3.9/site-packages/feets/extractors/ext_stetson.py:247: RuntimeWarning: invalid value encountered in double_scalars\n",
      "  K = (1 / np.sqrt(N_autocor * 1.0) *\n"
     ]
    },
    {
     "name": "stdout",
     "output_type": "stream",
     "text": [
      "['Autocor_length' 'Beyond1Std' 'CAR_mean' 'CAR_sigma' 'CAR_tau' 'Con'\n",
      " 'LinearTrend' 'MaxSlope' 'Mean' 'Meanvariance' 'MedianAbsDev' 'MedianBRP'\n",
      " 'PairSlopeTrend' 'PercentAmplitude' 'Q31' 'Rcs' 'Skew' 'SlottedA_length'\n",
      " 'SmallKurtosis' 'Std' 'StetsonK_AC'] [ 1.25000000e+02  4.07732865e-01  1.17667377e+05  1.00000000e+01\n",
      "  5.00000000e-01  0.00000000e+00 -5.06791796e-01             inf\n",
      "  5.88336883e+04  1.59488473e-06  8.14890000e-02  1.96836555e-01\n",
      "  9.66666667e-01  2.75325251e-06  1.62622000e-01  4.33671001e-01\n",
      "  1.14062408e-03             nan -1.20042521e+00  9.38329508e-02\n",
      "             nan]\n"
     ]
    },
    {
     "name": "stderr",
     "output_type": "stream",
     "text": [
      "/var/folders/rw/x2cf5q4d4pb3gjtnt9b1qkbx3lm9jr/T/ipykernel_73733/1328582039.py:118: RuntimeWarning: divide by zero encountered in double_scalars\n",
      "  phase_2_1 = phase2/phase1\n",
      "/var/folders/rw/x2cf5q4d4pb3gjtnt9b1qkbx3lm9jr/T/ipykernel_73733/1328582039.py:119: RuntimeWarning: divide by zero encountered in double_scalars\n",
      "  phase_3_1 = phase3/phase1\n",
      "/Users/swebb/opt/anaconda3/lib/python3.9/site-packages/statsmodels/tsa/stattools.py:667: FutureWarning: fft=True will become the default after the release of the 0.12 release of statsmodels. To suppress this warning, explicitly set fft=False.\n",
      "  warnings.warn(\n",
      "/Users/swebb/opt/anaconda3/lib/python3.9/site-packages/numpy/core/fromnumeric.py:3419: RuntimeWarning: Mean of empty slice.\n",
      "  return _methods._mean(a, axis=axis, dtype=dtype,\n",
      "/Users/swebb/opt/anaconda3/lib/python3.9/site-packages/numpy/core/_methods.py:188: RuntimeWarning: invalid value encountered in double_scalars\n",
      "  ret = ret.dtype.type(ret / rcount)\n",
      "/Users/swebb/opt/anaconda3/lib/python3.9/site-packages/numpy/core/_methods.py:261: RuntimeWarning: Degrees of freedom <= 0 for slice\n",
      "  ret = _var(a, axis=axis, dtype=dtype, out=out, ddof=ddof,\n",
      "/Users/swebb/opt/anaconda3/lib/python3.9/site-packages/numpy/core/_methods.py:221: RuntimeWarning: invalid value encountered in true_divide\n",
      "  arrmean = um.true_divide(arrmean, div, out=arrmean, casting='unsafe',\n",
      "/Users/swebb/opt/anaconda3/lib/python3.9/site-packages/numpy/core/_methods.py:253: RuntimeWarning: invalid value encountered in double_scalars\n",
      "  ret = ret.dtype.type(ret / rcount)\n",
      "/Users/swebb/opt/anaconda3/lib/python3.9/site-packages/feets/extractors/ext_stetson.py:247: RuntimeWarning: divide by zero encountered in double_scalars\n",
      "  K = (1 / np.sqrt(N_autocor * 1.0) *\n",
      "/Users/swebb/opt/anaconda3/lib/python3.9/site-packages/feets/extractors/ext_stetson.py:247: RuntimeWarning: invalid value encountered in double_scalars\n",
      "  K = (1 / np.sqrt(N_autocor * 1.0) *\n",
      "/var/folders/rw/x2cf5q4d4pb3gjtnt9b1qkbx3lm9jr/T/ipykernel_73733/1328582039.py:118: RuntimeWarning: divide by zero encountered in double_scalars\n",
      "  phase_2_1 = phase2/phase1\n",
      "/var/folders/rw/x2cf5q4d4pb3gjtnt9b1qkbx3lm9jr/T/ipykernel_73733/1328582039.py:119: RuntimeWarning: divide by zero encountered in double_scalars\n",
      "  phase_3_1 = phase3/phase1\n"
     ]
    },
    {
     "name": "stdout",
     "output_type": "stream",
     "text": [
      "['Autocor_length' 'Beyond1Std' 'CAR_mean' 'CAR_sigma' 'CAR_tau' 'Con'\n",
      " 'LinearTrend' 'MaxSlope' 'Mean' 'Meanvariance' 'MedianAbsDev' 'MedianBRP'\n",
      " 'PairSlopeTrend' 'PercentAmplitude' 'Q31' 'Rcs' 'Skew' 'SlottedA_length'\n",
      " 'SmallKurtosis' 'Std' 'StetsonK_AC'] [ 1.25000000e+02  4.01754386e-01  1.17667376e+05  1.00000000e+01\n",
      "  5.00000000e-01  0.00000000e+00 -2.49708161e-02  1.49363000e+05\n",
      "  5.88336882e+04  1.59349126e-06  8.13110000e-02  1.98245614e-01\n",
      "  9.66666667e-01  2.75752728e-06  1.62340750e-01  4.33347058e-01\n",
      "  1.49098131e-03             nan -1.19727335e+00  9.37509679e-02\n",
      "             nan]\n"
     ]
    },
    {
     "name": "stderr",
     "output_type": "stream",
     "text": [
      "/Users/swebb/opt/anaconda3/lib/python3.9/site-packages/numpy/core/fromnumeric.py:3419: RuntimeWarning: Mean of empty slice.\n",
      "  return _methods._mean(a, axis=axis, dtype=dtype,\n",
      "/Users/swebb/opt/anaconda3/lib/python3.9/site-packages/numpy/core/_methods.py:188: RuntimeWarning: invalid value encountered in double_scalars\n",
      "  ret = ret.dtype.type(ret / rcount)\n",
      "/Users/swebb/opt/anaconda3/lib/python3.9/site-packages/numpy/core/_methods.py:261: RuntimeWarning: Degrees of freedom <= 0 for slice\n",
      "  ret = _var(a, axis=axis, dtype=dtype, out=out, ddof=ddof,\n",
      "/Users/swebb/opt/anaconda3/lib/python3.9/site-packages/numpy/core/_methods.py:221: RuntimeWarning: invalid value encountered in true_divide\n",
      "  arrmean = um.true_divide(arrmean, div, out=arrmean, casting='unsafe',\n",
      "/Users/swebb/opt/anaconda3/lib/python3.9/site-packages/numpy/core/_methods.py:253: RuntimeWarning: invalid value encountered in double_scalars\n",
      "  ret = ret.dtype.type(ret / rcount)\n",
      "/Users/swebb/opt/anaconda3/lib/python3.9/site-packages/feets/extractors/ext_stetson.py:247: RuntimeWarning: divide by zero encountered in double_scalars\n",
      "  K = (1 / np.sqrt(N_autocor * 1.0) *\n",
      "/Users/swebb/opt/anaconda3/lib/python3.9/site-packages/feets/extractors/ext_stetson.py:247: RuntimeWarning: invalid value encountered in double_scalars\n",
      "  K = (1 / np.sqrt(N_autocor * 1.0) *\n",
      "/Users/swebb/opt/anaconda3/lib/python3.9/site-packages/statsmodels/tsa/stattools.py:667: FutureWarning: fft=True will become the default after the release of the 0.12 release of statsmodels. To suppress this warning, explicitly set fft=False.\n",
      "  warnings.warn(\n",
      "/Users/swebb/opt/anaconda3/lib/python3.9/site-packages/feets/extractors/ext_max_slope.py:91: RuntimeWarning: divide by zero encountered in true_divide\n",
      "  slope = np.abs(magnitude[1:] - magnitude[:-1]) / (time[1:] - time[:-1])\n",
      "/var/folders/rw/x2cf5q4d4pb3gjtnt9b1qkbx3lm9jr/T/ipykernel_73733/1328582039.py:118: RuntimeWarning: divide by zero encountered in double_scalars\n",
      "  phase_2_1 = phase2/phase1\n",
      "/var/folders/rw/x2cf5q4d4pb3gjtnt9b1qkbx3lm9jr/T/ipykernel_73733/1328582039.py:119: RuntimeWarning: divide by zero encountered in double_scalars\n",
      "  phase_3_1 = phase3/phase1\n"
     ]
    },
    {
     "name": "stdout",
     "output_type": "stream",
     "text": [
      "['Autocor_length' 'Beyond1Std' 'CAR_mean' 'CAR_sigma' 'CAR_tau' 'Con'\n",
      " 'LinearTrend' 'MaxSlope' 'Mean' 'Meanvariance' 'MedianAbsDev' 'MedianBRP'\n",
      " 'PairSlopeTrend' 'PercentAmplitude' 'Q31' 'Rcs' 'Skew' 'SlottedA_length'\n",
      " 'SmallKurtosis' 'Std' 'StetsonK_AC'] [ 1.25000000e+02  4.03508772e-01  1.17667376e+05  1.00000000e+01\n",
      "  5.00000000e-01  0.00000000e+00  9.53345905e-01             inf\n",
      "  5.88336882e+04  1.59349126e-06  8.13110000e-02  1.98245614e-01\n",
      "  9.66666667e-01  2.75752728e-06  1.62340750e-01  4.33347058e-01\n",
      "  1.49098131e-03             nan -1.19727335e+00  9.37509679e-02\n",
      "             nan]\n",
      "['Autocor_length' 'Beyond1Std' 'CAR_mean' 'CAR_sigma' 'CAR_tau' 'Con'\n",
      " 'LinearTrend' 'MaxSlope' 'Mean' 'Meanvariance' 'MedianAbsDev' 'MedianBRP'\n",
      " 'PairSlopeTrend' 'PercentAmplitude' 'Q31' 'Rcs' 'Skew' 'SlottedA_length'\n",
      " 'SmallKurtosis' 'Std' 'StetsonK_AC'] [ 1.24000000e+02  4.20774648e-01  1.17667377e+05  1.00000000e+01\n",
      "  5.00000000e-01  0.00000000e+00  4.08919309e-02  2.64286000e+05\n",
      "  5.88336886e+04  1.59318694e-06  8.10295000e-02  1.98943662e-01\n",
      "  9.66666667e-01  2.75805417e-06  1.61779000e-01  4.33106005e-01\n",
      " -5.48602979e-03  1.00000000e+00 -1.19385188e+00  9.37330642e-02\n",
      "  1.00000000e+00]\n"
     ]
    },
    {
     "name": "stderr",
     "output_type": "stream",
     "text": [
      "/var/folders/rw/x2cf5q4d4pb3gjtnt9b1qkbx3lm9jr/T/ipykernel_73733/1328582039.py:118: RuntimeWarning: divide by zero encountered in double_scalars\n",
      "  phase_2_1 = phase2/phase1\n",
      "/var/folders/rw/x2cf5q4d4pb3gjtnt9b1qkbx3lm9jr/T/ipykernel_73733/1328582039.py:119: RuntimeWarning: divide by zero encountered in double_scalars\n",
      "  phase_3_1 = phase3/phase1\n",
      "/Users/swebb/opt/anaconda3/lib/python3.9/site-packages/numpy/core/fromnumeric.py:3419: RuntimeWarning: Mean of empty slice.\n",
      "  return _methods._mean(a, axis=axis, dtype=dtype,\n",
      "/Users/swebb/opt/anaconda3/lib/python3.9/site-packages/numpy/core/_methods.py:188: RuntimeWarning: invalid value encountered in double_scalars\n",
      "  ret = ret.dtype.type(ret / rcount)\n",
      "/Users/swebb/opt/anaconda3/lib/python3.9/site-packages/numpy/core/_methods.py:261: RuntimeWarning: Degrees of freedom <= 0 for slice\n",
      "  ret = _var(a, axis=axis, dtype=dtype, out=out, ddof=ddof,\n",
      "/Users/swebb/opt/anaconda3/lib/python3.9/site-packages/numpy/core/_methods.py:221: RuntimeWarning: invalid value encountered in true_divide\n",
      "  arrmean = um.true_divide(arrmean, div, out=arrmean, casting='unsafe',\n",
      "/Users/swebb/opt/anaconda3/lib/python3.9/site-packages/numpy/core/_methods.py:253: RuntimeWarning: invalid value encountered in double_scalars\n",
      "  ret = ret.dtype.type(ret / rcount)\n",
      "/Users/swebb/opt/anaconda3/lib/python3.9/site-packages/feets/extractors/ext_stetson.py:247: RuntimeWarning: divide by zero encountered in double_scalars\n",
      "  K = (1 / np.sqrt(N_autocor * 1.0) *\n",
      "/Users/swebb/opt/anaconda3/lib/python3.9/site-packages/feets/extractors/ext_stetson.py:247: RuntimeWarning: invalid value encountered in double_scalars\n",
      "  K = (1 / np.sqrt(N_autocor * 1.0) *\n",
      "/Users/swebb/opt/anaconda3/lib/python3.9/site-packages/statsmodels/tsa/stattools.py:667: FutureWarning: fft=True will become the default after the release of the 0.12 release of statsmodels. To suppress this warning, explicitly set fft=False.\n",
      "  warnings.warn(\n"
     ]
    },
    {
     "name": "stdout",
     "output_type": "stream",
     "text": [
      "['Autocor_length' 'Beyond1Std' 'CAR_mean' 'CAR_sigma' 'CAR_tau' 'Con'\n",
      " 'LinearTrend' 'MaxSlope' 'Mean' 'Meanvariance' 'MedianAbsDev' 'MedianBRP'\n",
      " 'PairSlopeTrend' 'PercentAmplitude' 'Q31' 'Rcs' 'Skew' 'SlottedA_length'\n",
      " 'SmallKurtosis' 'Std' 'StetsonK_AC'] [ 1.25000000e+02  4.21052632e-01  1.17667376e+05  1.00000000e+01\n",
      "  5.00000000e-01  0.00000000e+00  1.67060589e+00  4.38760000e+04\n",
      "  5.88336882e+04  1.59349126e-06  8.13110000e-02  1.98245614e-01\n",
      "  9.66666667e-01  2.75752728e-06  1.62340750e-01  4.33347058e-01\n",
      "  1.49098131e-03             nan -1.19727335e+00  9.37509679e-02\n",
      "             nan]\n"
     ]
    },
    {
     "name": "stderr",
     "output_type": "stream",
     "text": [
      "/var/folders/rw/x2cf5q4d4pb3gjtnt9b1qkbx3lm9jr/T/ipykernel_73733/1328582039.py:118: RuntimeWarning: divide by zero encountered in double_scalars\n",
      "  phase_2_1 = phase2/phase1\n",
      "/var/folders/rw/x2cf5q4d4pb3gjtnt9b1qkbx3lm9jr/T/ipykernel_73733/1328582039.py:119: RuntimeWarning: divide by zero encountered in double_scalars\n",
      "  phase_3_1 = phase3/phase1\n",
      "/Users/swebb/opt/anaconda3/lib/python3.9/site-packages/statsmodels/tsa/stattools.py:667: FutureWarning: fft=True will become the default after the release of the 0.12 release of statsmodels. To suppress this warning, explicitly set fft=False.\n",
      "  warnings.warn(\n"
     ]
    },
    {
     "name": "stdout",
     "output_type": "stream",
     "text": [
      "['Autocor_length' 'Beyond1Std' 'CAR_mean' 'CAR_sigma' 'CAR_tau' 'Con'\n",
      " 'LinearTrend' 'MaxSlope' 'Mean' 'Meanvariance' 'MedianAbsDev' 'MedianBRP'\n",
      " 'PairSlopeTrend' 'PercentAmplitude' 'Q31' 'Rcs' 'Skew' 'SlottedA_length'\n",
      " 'SmallKurtosis' 'Std' 'StetsonK_AC'] [ 1.03000000e+02  4.17355372e-01  1.17667393e+05  1.00000000e+01\n",
      "  5.00000000e-01  0.00000000e+00 -5.17954248e-02  1.50284500e+05\n",
      "  5.88336963e+04  1.55792482e-06  7.61815000e-02  2.31404959e-01\n",
      "  9.66666667e-01  2.92962203e-06  1.52798500e-01  4.27139260e-01\n",
      " -8.25497006e-02  1.00000000e+00 -1.12034803e+00  9.16584757e-02\n",
      "  8.46938315e-01]\n"
     ]
    },
    {
     "name": "stderr",
     "output_type": "stream",
     "text": [
      "/var/folders/rw/x2cf5q4d4pb3gjtnt9b1qkbx3lm9jr/T/ipykernel_73733/1328582039.py:118: RuntimeWarning: divide by zero encountered in double_scalars\n",
      "  phase_2_1 = phase2/phase1\n",
      "/var/folders/rw/x2cf5q4d4pb3gjtnt9b1qkbx3lm9jr/T/ipykernel_73733/1328582039.py:119: RuntimeWarning: divide by zero encountered in double_scalars\n",
      "  phase_3_1 = phase3/phase1\n",
      "/Users/swebb/opt/anaconda3/lib/python3.9/site-packages/numpy/core/fromnumeric.py:3419: RuntimeWarning: Mean of empty slice.\n",
      "  return _methods._mean(a, axis=axis, dtype=dtype,\n",
      "/Users/swebb/opt/anaconda3/lib/python3.9/site-packages/numpy/core/_methods.py:188: RuntimeWarning: invalid value encountered in double_scalars\n",
      "  ret = ret.dtype.type(ret / rcount)\n",
      "/Users/swebb/opt/anaconda3/lib/python3.9/site-packages/numpy/core/_methods.py:261: RuntimeWarning: Degrees of freedom <= 0 for slice\n",
      "  ret = _var(a, axis=axis, dtype=dtype, out=out, ddof=ddof,\n",
      "/Users/swebb/opt/anaconda3/lib/python3.9/site-packages/numpy/core/_methods.py:221: RuntimeWarning: invalid value encountered in true_divide\n",
      "  arrmean = um.true_divide(arrmean, div, out=arrmean, casting='unsafe',\n",
      "/Users/swebb/opt/anaconda3/lib/python3.9/site-packages/numpy/core/_methods.py:253: RuntimeWarning: invalid value encountered in double_scalars\n",
      "  ret = ret.dtype.type(ret / rcount)\n",
      "/Users/swebb/opt/anaconda3/lib/python3.9/site-packages/feets/extractors/ext_stetson.py:247: RuntimeWarning: divide by zero encountered in double_scalars\n",
      "  K = (1 / np.sqrt(N_autocor * 1.0) *\n",
      "/Users/swebb/opt/anaconda3/lib/python3.9/site-packages/feets/extractors/ext_stetson.py:247: RuntimeWarning: invalid value encountered in double_scalars\n",
      "  K = (1 / np.sqrt(N_autocor * 1.0) *\n",
      "/Users/swebb/opt/anaconda3/lib/python3.9/site-packages/feets/extractors/ext_max_slope.py:91: RuntimeWarning: divide by zero encountered in true_divide\n",
      "  slope = np.abs(magnitude[1:] - magnitude[:-1]) / (time[1:] - time[:-1])\n",
      "/Users/swebb/opt/anaconda3/lib/python3.9/site-packages/statsmodels/tsa/stattools.py:667: FutureWarning: fft=True will become the default after the release of the 0.12 release of statsmodels. To suppress this warning, explicitly set fft=False.\n",
      "  warnings.warn(\n",
      "/var/folders/rw/x2cf5q4d4pb3gjtnt9b1qkbx3lm9jr/T/ipykernel_73733/1328582039.py:118: RuntimeWarning: divide by zero encountered in double_scalars\n",
      "  phase_2_1 = phase2/phase1\n",
      "/var/folders/rw/x2cf5q4d4pb3gjtnt9b1qkbx3lm9jr/T/ipykernel_73733/1328582039.py:119: RuntimeWarning: divide by zero encountered in double_scalars\n",
      "  phase_3_1 = phase3/phase1\n"
     ]
    },
    {
     "name": "stdout",
     "output_type": "stream",
     "text": [
      "['Autocor_length' 'Beyond1Std' 'CAR_mean' 'CAR_sigma' 'CAR_tau' 'Con'\n",
      " 'LinearTrend' 'MaxSlope' 'Mean' 'Meanvariance' 'MedianAbsDev' 'MedianBRP'\n",
      " 'PairSlopeTrend' 'PercentAmplitude' 'Q31' 'Rcs' 'Skew' 'SlottedA_length'\n",
      " 'SmallKurtosis' 'Std' 'StetsonK_AC'] [ 1.24000000e+02  4.00702988e-01  1.17667376e+05  1.00000000e+01\n",
      "  5.00000000e-01  0.00000000e+00 -1.48655575e-01             inf\n",
      "  5.88336881e+04  1.59386763e-06  8.14740000e-02  1.98594025e-01\n",
      "  9.66666667e-01  2.76236296e-06  1.62622000e-01  4.33254262e-01\n",
      "  4.90077104e-03             nan -1.19671692e+00  9.37731107e-02\n",
      "             nan]\n"
     ]
    },
    {
     "name": "stderr",
     "output_type": "stream",
     "text": [
      "/Users/swebb/opt/anaconda3/lib/python3.9/site-packages/feets/extractors/ext_max_slope.py:91: RuntimeWarning: divide by zero encountered in true_divide\n",
      "  slope = np.abs(magnitude[1:] - magnitude[:-1]) / (time[1:] - time[:-1])\n",
      "/var/folders/rw/x2cf5q4d4pb3gjtnt9b1qkbx3lm9jr/T/ipykernel_73733/1328582039.py:118: RuntimeWarning: divide by zero encountered in double_scalars\n",
      "  phase_2_1 = phase2/phase1\n",
      "/var/folders/rw/x2cf5q4d4pb3gjtnt9b1qkbx3lm9jr/T/ipykernel_73733/1328582039.py:119: RuntimeWarning: divide by zero encountered in double_scalars\n",
      "  phase_3_1 = phase3/phase1\n",
      "/Users/swebb/opt/anaconda3/lib/python3.9/site-packages/statsmodels/tsa/stattools.py:667: FutureWarning: fft=True will become the default after the release of the 0.12 release of statsmodels. To suppress this warning, explicitly set fft=False.\n",
      "  warnings.warn(\n"
     ]
    },
    {
     "name": "stdout",
     "output_type": "stream",
     "text": [
      "['Autocor_length' 'Beyond1Std' 'CAR_mean' 'CAR_sigma' 'CAR_tau' 'Con'\n",
      " 'LinearTrend' 'MaxSlope' 'Mean' 'Meanvariance' 'MedianAbsDev' 'MedianBRP'\n",
      " 'PairSlopeTrend' 'PercentAmplitude' 'Q31' 'Rcs' 'Skew' 'SlottedA_length'\n",
      " 'SmallKurtosis' 'Std' 'StetsonK_AC'] [ 1.11000000e+02  4.10714286e-01  1.17667399e+05  1.00000000e+01\n",
      "  5.00000000e-01  0.00000000e+00 -8.71292959e-02             inf\n",
      "  5.88336993e+04  1.50617530e-06  7.59115000e-02  1.90476190e-01\n",
      "  9.66666667e-01  2.72337980e-06  1.51532250e-01  4.34393127e-01\n",
      " -2.29807668e-02  1.00000000e+00 -1.17220216e+00  8.86138644e-02\n",
      "  1.00000000e+00]\n",
      "['Autocor_length' 'Beyond1Std' 'CAR_mean' 'CAR_sigma' 'CAR_tau' 'Con'\n",
      " 'LinearTrend' 'MaxSlope' 'Mean' 'Meanvariance' 'MedianAbsDev' 'MedianBRP'\n",
      " 'PairSlopeTrend' 'PercentAmplitude' 'Q31' 'Rcs' 'Skew' 'SlottedA_length'\n",
      " 'SmallKurtosis' 'Std' 'StetsonK_AC'] [ 1.25000000e+02  4.10526316e-01  1.17667376e+05  1.00000000e+01\n",
      "  5.00000000e-01  0.00000000e+00 -4.35204264e-01  2.63104000e+05\n",
      "  5.88336882e+04  1.59349126e-06  8.13110000e-02  1.98245614e-01\n",
      "  9.66666667e-01  2.75752728e-06  1.62340750e-01  4.33347058e-01\n",
      "  1.49098131e-03  1.00000000e+00 -1.19727335e+00  9.37509679e-02\n",
      "  1.00000000e+00]\n"
     ]
    },
    {
     "name": "stderr",
     "output_type": "stream",
     "text": [
      "/var/folders/rw/x2cf5q4d4pb3gjtnt9b1qkbx3lm9jr/T/ipykernel_73733/1328582039.py:118: RuntimeWarning: divide by zero encountered in double_scalars\n",
      "  phase_2_1 = phase2/phase1\n",
      "/var/folders/rw/x2cf5q4d4pb3gjtnt9b1qkbx3lm9jr/T/ipykernel_73733/1328582039.py:119: RuntimeWarning: divide by zero encountered in double_scalars\n",
      "  phase_3_1 = phase3/phase1\n",
      "/Users/swebb/opt/anaconda3/lib/python3.9/site-packages/statsmodels/tsa/stattools.py:667: FutureWarning: fft=True will become the default after the release of the 0.12 release of statsmodels. To suppress this warning, explicitly set fft=False.\n",
      "  warnings.warn(\n",
      "/Users/swebb/opt/anaconda3/lib/python3.9/site-packages/numpy/core/fromnumeric.py:3419: RuntimeWarning: Mean of empty slice.\n",
      "  return _methods._mean(a, axis=axis, dtype=dtype,\n",
      "/Users/swebb/opt/anaconda3/lib/python3.9/site-packages/numpy/core/_methods.py:188: RuntimeWarning: invalid value encountered in double_scalars\n",
      "  ret = ret.dtype.type(ret / rcount)\n",
      "/Users/swebb/opt/anaconda3/lib/python3.9/site-packages/numpy/core/_methods.py:261: RuntimeWarning: Degrees of freedom <= 0 for slice\n",
      "  ret = _var(a, axis=axis, dtype=dtype, out=out, ddof=ddof,\n",
      "/Users/swebb/opt/anaconda3/lib/python3.9/site-packages/numpy/core/_methods.py:221: RuntimeWarning: invalid value encountered in true_divide\n",
      "  arrmean = um.true_divide(arrmean, div, out=arrmean, casting='unsafe',\n",
      "/Users/swebb/opt/anaconda3/lib/python3.9/site-packages/numpy/core/_methods.py:253: RuntimeWarning: invalid value encountered in double_scalars\n",
      "  ret = ret.dtype.type(ret / rcount)\n",
      "/Users/swebb/opt/anaconda3/lib/python3.9/site-packages/feets/extractors/ext_stetson.py:247: RuntimeWarning: divide by zero encountered in double_scalars\n",
      "  K = (1 / np.sqrt(N_autocor * 1.0) *\n",
      "/Users/swebb/opt/anaconda3/lib/python3.9/site-packages/feets/extractors/ext_stetson.py:247: RuntimeWarning: invalid value encountered in double_scalars\n",
      "  K = (1 / np.sqrt(N_autocor * 1.0) *\n",
      "/var/folders/rw/x2cf5q4d4pb3gjtnt9b1qkbx3lm9jr/T/ipykernel_73733/1328582039.py:118: RuntimeWarning: divide by zero encountered in double_scalars\n",
      "  phase_2_1 = phase2/phase1\n",
      "/var/folders/rw/x2cf5q4d4pb3gjtnt9b1qkbx3lm9jr/T/ipykernel_73733/1328582039.py:119: RuntimeWarning: divide by zero encountered in double_scalars\n",
      "  phase_3_1 = phase3/phase1\n"
     ]
    },
    {
     "name": "stdout",
     "output_type": "stream",
     "text": [
      "['Autocor_length' 'Beyond1Std' 'CAR_mean' 'CAR_sigma' 'CAR_tau' 'Con'\n",
      " 'LinearTrend' 'MaxSlope' 'Mean' 'Meanvariance' 'MedianAbsDev' 'MedianBRP'\n",
      " 'PairSlopeTrend' 'PercentAmplitude' 'Q31' 'Rcs' 'Skew' 'SlottedA_length'\n",
      " 'SmallKurtosis' 'Std' 'StetsonK_AC'] [ 9.60000000e+01  4.23076923e-01  1.17667402e+05  1.00000000e+01\n",
      "  5.00000000e-01  0.00000000e+00 -1.07089615e+00  2.71890000e+04\n",
      "  5.88337011e+04  1.61008936e-06  8.04370000e-02  1.92307692e-01\n",
      "  9.66666667e-01  3.05569735e-06  1.61443000e-01  4.32904082e-01\n",
      " -1.83040679e-01             nan -1.18534713e+00  9.47275163e-02\n",
      "             nan]\n"
     ]
    },
    {
     "name": "stderr",
     "output_type": "stream",
     "text": [
      "/Users/swebb/opt/anaconda3/lib/python3.9/site-packages/statsmodels/tsa/stattools.py:667: FutureWarning: fft=True will become the default after the release of the 0.12 release of statsmodels. To suppress this warning, explicitly set fft=False.\n",
      "  warnings.warn(\n",
      "/var/folders/rw/x2cf5q4d4pb3gjtnt9b1qkbx3lm9jr/T/ipykernel_73733/1328582039.py:118: RuntimeWarning: divide by zero encountered in double_scalars\n",
      "  phase_2_1 = phase2/phase1\n",
      "/var/folders/rw/x2cf5q4d4pb3gjtnt9b1qkbx3lm9jr/T/ipykernel_73733/1328582039.py:119: RuntimeWarning: divide by zero encountered in double_scalars\n",
      "  phase_3_1 = phase3/phase1\n"
     ]
    },
    {
     "name": "stdout",
     "output_type": "stream",
     "text": [
      "['Autocor_length' 'Beyond1Std' 'CAR_mean' 'CAR_sigma' 'CAR_tau' 'Con'\n",
      " 'LinearTrend' 'MaxSlope' 'Mean' 'Meanvariance' 'MedianAbsDev' 'MedianBRP'\n",
      " 'PairSlopeTrend' 'PercentAmplitude' 'Q31' 'Rcs' 'Skew' 'SlottedA_length'\n",
      " 'SmallKurtosis' 'Std' 'StetsonK_AC'] [ 1.23000000e+02  4.06749556e-01  1.17667379e+05  1.00000000e+01\n",
      "  5.00000000e-01  0.00000000e+00 -1.18487861e-01  1.24707000e+05\n",
      "  5.88336897e+04  1.58700004e-06  8.05740000e-02  2.00710480e-01\n",
      "  9.66666667e-01  2.78214744e-06  1.60916500e-01  4.32737972e-01\n",
      " -1.62818821e-02             nan -1.18706500e+00  9.33690681e-02\n",
      "  1.00000000e+00]\n"
     ]
    },
    {
     "name": "stderr",
     "output_type": "stream",
     "text": [
      "/Users/swebb/opt/anaconda3/lib/python3.9/site-packages/statsmodels/tsa/stattools.py:667: FutureWarning: fft=True will become the default after the release of the 0.12 release of statsmodels. To suppress this warning, explicitly set fft=False.\n",
      "  warnings.warn(\n",
      "/Users/swebb/opt/anaconda3/lib/python3.9/site-packages/numpy/core/fromnumeric.py:3419: RuntimeWarning: Mean of empty slice.\n",
      "  return _methods._mean(a, axis=axis, dtype=dtype,\n",
      "/Users/swebb/opt/anaconda3/lib/python3.9/site-packages/numpy/core/_methods.py:188: RuntimeWarning: invalid value encountered in double_scalars\n",
      "  ret = ret.dtype.type(ret / rcount)\n",
      "/Users/swebb/opt/anaconda3/lib/python3.9/site-packages/numpy/core/_methods.py:261: RuntimeWarning: Degrees of freedom <= 0 for slice\n",
      "  ret = _var(a, axis=axis, dtype=dtype, out=out, ddof=ddof,\n",
      "/Users/swebb/opt/anaconda3/lib/python3.9/site-packages/numpy/core/_methods.py:221: RuntimeWarning: invalid value encountered in true_divide\n",
      "  arrmean = um.true_divide(arrmean, div, out=arrmean, casting='unsafe',\n",
      "/Users/swebb/opt/anaconda3/lib/python3.9/site-packages/numpy/core/_methods.py:253: RuntimeWarning: invalid value encountered in double_scalars\n",
      "  ret = ret.dtype.type(ret / rcount)\n",
      "/Users/swebb/opt/anaconda3/lib/python3.9/site-packages/feets/extractors/ext_stetson.py:247: RuntimeWarning: divide by zero encountered in double_scalars\n",
      "  K = (1 / np.sqrt(N_autocor * 1.0) *\n",
      "/Users/swebb/opt/anaconda3/lib/python3.9/site-packages/feets/extractors/ext_stetson.py:247: RuntimeWarning: invalid value encountered in double_scalars\n",
      "  K = (1 / np.sqrt(N_autocor * 1.0) *\n",
      "/var/folders/rw/x2cf5q4d4pb3gjtnt9b1qkbx3lm9jr/T/ipykernel_73733/1328582039.py:118: RuntimeWarning: divide by zero encountered in double_scalars\n",
      "  phase_2_1 = phase2/phase1\n",
      "/var/folders/rw/x2cf5q4d4pb3gjtnt9b1qkbx3lm9jr/T/ipykernel_73733/1328582039.py:119: RuntimeWarning: divide by zero encountered in double_scalars\n",
      "  phase_3_1 = phase3/phase1\n"
     ]
    },
    {
     "name": "stdout",
     "output_type": "stream",
     "text": [
      "['Autocor_length' 'Beyond1Std' 'CAR_mean' 'CAR_sigma' 'CAR_tau' 'Con'\n",
      " 'LinearTrend' 'MaxSlope' 'Mean' 'Meanvariance' 'MedianAbsDev' 'MedianBRP'\n",
      " 'PairSlopeTrend' 'PercentAmplitude' 'Q31' 'Rcs' 'Skew' 'SlottedA_length'\n",
      " 'SmallKurtosis' 'Std' 'StetsonK_AC'] [ 1.23000000e+02  4.10301954e-01  1.17667378e+05  1.00000000e+01\n",
      "  5.00000000e-01  0.00000000e+00  2.31088936e-01  1.24707000e+05\n",
      "  5.88336889e+04  1.59811958e-06  8.17030000e-02  1.97158082e-01\n",
      "  9.66666667e-01  2.77259511e-06  1.63195500e-01  4.33674889e-01\n",
      " -1.24282764e-02             nan -1.20253223e+00  9.40232700e-02\n",
      "             nan]\n"
     ]
    },
    {
     "name": "stderr",
     "output_type": "stream",
     "text": [
      "/Users/swebb/opt/anaconda3/lib/python3.9/site-packages/feets/extractors/ext_max_slope.py:91: RuntimeWarning: divide by zero encountered in true_divide\n",
      "  slope = np.abs(magnitude[1:] - magnitude[:-1]) / (time[1:] - time[:-1])\n"
     ]
    },
    {
     "name": "stdout",
     "output_type": "stream",
     "text": [
      "['Autocor_length' 'Beyond1Std' 'CAR_mean' 'CAR_sigma' 'CAR_tau' 'Con'\n",
      " 'LinearTrend' 'MaxSlope' 'Mean' 'Meanvariance' 'MedianAbsDev' 'MedianBRP'\n",
      " 'PairSlopeTrend' 'PercentAmplitude' 'Q31' 'Rcs' 'Skew' 'SlottedA_length'\n",
      " 'SmallKurtosis' 'Std' 'StetsonK_AC'] [ 1.24000000e+02  4.11247803e-01  1.17667377e+05  1.00000000e+01\n",
      "  5.00000000e-01  0.00000000e+00 -5.14125827e-01             inf\n",
      "  5.88336884e+04  1.59415877e-06  8.14890000e-02  1.98594025e-01\n",
      "  9.66666667e-01  2.75325251e-06  1.62622000e-01  4.33291460e-01\n",
      " -1.65446606e-03             nan -1.19760112e+00  9.37902402e-02\n",
      "             nan]\n"
     ]
    },
    {
     "name": "stderr",
     "output_type": "stream",
     "text": [
      "/var/folders/rw/x2cf5q4d4pb3gjtnt9b1qkbx3lm9jr/T/ipykernel_73733/1328582039.py:118: RuntimeWarning: divide by zero encountered in double_scalars\n",
      "  phase_2_1 = phase2/phase1\n",
      "/var/folders/rw/x2cf5q4d4pb3gjtnt9b1qkbx3lm9jr/T/ipykernel_73733/1328582039.py:119: RuntimeWarning: divide by zero encountered in double_scalars\n",
      "  phase_3_1 = phase3/phase1\n",
      "/Users/swebb/opt/anaconda3/lib/python3.9/site-packages/statsmodels/tsa/stattools.py:667: FutureWarning: fft=True will become the default after the release of the 0.12 release of statsmodels. To suppress this warning, explicitly set fft=False.\n",
      "  warnings.warn(\n",
      "/Users/swebb/opt/anaconda3/lib/python3.9/site-packages/feets/extractors/ext_max_slope.py:91: RuntimeWarning: divide by zero encountered in true_divide\n",
      "  slope = np.abs(magnitude[1:] - magnitude[:-1]) / (time[1:] - time[:-1])\n",
      "/var/folders/rw/x2cf5q4d4pb3gjtnt9b1qkbx3lm9jr/T/ipykernel_73733/1328582039.py:118: RuntimeWarning: divide by zero encountered in double_scalars\n",
      "  phase_2_1 = phase2/phase1\n",
      "/var/folders/rw/x2cf5q4d4pb3gjtnt9b1qkbx3lm9jr/T/ipykernel_73733/1328582039.py:119: RuntimeWarning: divide by zero encountered in double_scalars\n",
      "  phase_3_1 = phase3/phase1\n"
     ]
    },
    {
     "name": "stdout",
     "output_type": "stream",
     "text": [
      "['Autocor_length' 'Beyond1Std' 'CAR_mean' 'CAR_sigma' 'CAR_tau' 'Con'\n",
      " 'LinearTrend' 'MaxSlope' 'Mean' 'Meanvariance' 'MedianAbsDev' 'MedianBRP'\n",
      " 'PairSlopeTrend' 'PercentAmplitude' 'Q31' 'Rcs' 'Skew' 'SlottedA_length'\n",
      " 'SmallKurtosis' 'Std' 'StetsonK_AC'] [ 1.25000000e+02  4.20035149e-01  1.17667377e+05  1.00000000e+01\n",
      "  5.00000000e-01  0.00000000e+00 -2.77587823e-01             inf\n",
      "  5.88336883e+04  1.59488229e-06  8.14890000e-02  1.96836555e-01\n",
      "  9.66666667e-01  2.75325251e-06  1.62622000e-01  4.33661100e-01\n",
      "  1.07769273e-03  1.00000000e+00 -1.20041424e+00  9.38328075e-02\n",
      "  1.00000000e+00]\n",
      "['Autocor_length' 'Beyond1Std' 'CAR_mean' 'CAR_sigma' 'CAR_tau' 'Con'\n",
      " 'LinearTrend' 'MaxSlope' 'Mean' 'Meanvariance' 'MedianAbsDev' 'MedianBRP'\n",
      " 'PairSlopeTrend' 'PercentAmplitude' 'Q31' 'Rcs' 'Skew' 'SlottedA_length'\n",
      " 'SmallKurtosis' 'Std' 'StetsonK_AC'] [ 1.14000000e+02  4.19047619e-01  1.17667385e+05  1.00000000e+01\n",
      "  5.00000000e-01  0.00000000e+00 -2.61175731e-01  1.91647000e+05\n",
      "  5.88336925e+04  1.59392738e-06  8.10990000e-02  2.07619048e-01\n",
      "  9.66666667e-01  2.84073615e-06  1.61440000e-01  4.31987107e-01\n",
      " -4.39424990e-02  1.00000000e+00 -1.18992260e+00  9.37766335e-02\n",
      "  1.00000000e+00]\n"
     ]
    },
    {
     "name": "stderr",
     "output_type": "stream",
     "text": [
      "/var/folders/rw/x2cf5q4d4pb3gjtnt9b1qkbx3lm9jr/T/ipykernel_73733/1328582039.py:118: RuntimeWarning: divide by zero encountered in double_scalars\n",
      "  phase_2_1 = phase2/phase1\n",
      "/var/folders/rw/x2cf5q4d4pb3gjtnt9b1qkbx3lm9jr/T/ipykernel_73733/1328582039.py:119: RuntimeWarning: divide by zero encountered in double_scalars\n",
      "  phase_3_1 = phase3/phase1\n",
      "/Users/swebb/opt/anaconda3/lib/python3.9/site-packages/statsmodels/tsa/stattools.py:667: FutureWarning: fft=True will become the default after the release of the 0.12 release of statsmodels. To suppress this warning, explicitly set fft=False.\n",
      "  warnings.warn(\n",
      "/var/folders/rw/x2cf5q4d4pb3gjtnt9b1qkbx3lm9jr/T/ipykernel_73733/1328582039.py:118: RuntimeWarning: divide by zero encountered in double_scalars\n",
      "  phase_2_1 = phase2/phase1\n",
      "/var/folders/rw/x2cf5q4d4pb3gjtnt9b1qkbx3lm9jr/T/ipykernel_73733/1328582039.py:119: RuntimeWarning: divide by zero encountered in double_scalars\n",
      "  phase_3_1 = phase3/phase1\n",
      "/Users/swebb/opt/anaconda3/lib/python3.9/site-packages/feets/extractors/ext_max_slope.py:91: RuntimeWarning: divide by zero encountered in true_divide\n",
      "  slope = np.abs(magnitude[1:] - magnitude[:-1]) / (time[1:] - time[:-1])\n"
     ]
    },
    {
     "name": "stdout",
     "output_type": "stream",
     "text": [
      "['Autocor_length' 'Beyond1Std' 'CAR_mean' 'CAR_sigma' 'CAR_tau' 'Con'\n",
      " 'LinearTrend' 'MaxSlope' 'Mean' 'Meanvariance' 'MedianAbsDev' 'MedianBRP'\n",
      " 'PairSlopeTrend' 'PercentAmplitude' 'Q31' 'Rcs' 'Skew' 'SlottedA_length'\n",
      " 'SmallKurtosis' 'Std' 'StetsonK_AC'] [ 1.04000000e+02  4.23799582e-01  1.17667396e+05  1.00000000e+01\n",
      "  5.00000000e-01  0.00000000e+00  4.79383671e-01  1.71080000e+04\n",
      "  5.88336981e+04  1.60470277e-06  8.06530000e-02  2.00417537e-01\n",
      "  9.66666667e-01  3.02185631e-06  1.60916500e-01  4.32564817e-01\n",
      " -1.50551102e-01  1.00000000e+00 -1.17488027e+00  9.44105983e-02\n",
      "  1.00000000e+00]\n"
     ]
    },
    {
     "name": "stderr",
     "output_type": "stream",
     "text": [
      "/Users/swebb/opt/anaconda3/lib/python3.9/site-packages/numpy/core/fromnumeric.py:3419: RuntimeWarning: Mean of empty slice.\n",
      "  return _methods._mean(a, axis=axis, dtype=dtype,\n",
      "/Users/swebb/opt/anaconda3/lib/python3.9/site-packages/numpy/core/_methods.py:188: RuntimeWarning: invalid value encountered in double_scalars\n",
      "  ret = ret.dtype.type(ret / rcount)\n",
      "/Users/swebb/opt/anaconda3/lib/python3.9/site-packages/numpy/core/_methods.py:261: RuntimeWarning: Degrees of freedom <= 0 for slice\n",
      "  ret = _var(a, axis=axis, dtype=dtype, out=out, ddof=ddof,\n",
      "/Users/swebb/opt/anaconda3/lib/python3.9/site-packages/numpy/core/_methods.py:221: RuntimeWarning: invalid value encountered in true_divide\n",
      "  arrmean = um.true_divide(arrmean, div, out=arrmean, casting='unsafe',\n",
      "/Users/swebb/opt/anaconda3/lib/python3.9/site-packages/numpy/core/_methods.py:253: RuntimeWarning: invalid value encountered in double_scalars\n",
      "  ret = ret.dtype.type(ret / rcount)\n",
      "/Users/swebb/opt/anaconda3/lib/python3.9/site-packages/feets/extractors/ext_stetson.py:247: RuntimeWarning: divide by zero encountered in double_scalars\n",
      "  K = (1 / np.sqrt(N_autocor * 1.0) *\n",
      "/Users/swebb/opt/anaconda3/lib/python3.9/site-packages/feets/extractors/ext_stetson.py:247: RuntimeWarning: invalid value encountered in double_scalars\n",
      "  K = (1 / np.sqrt(N_autocor * 1.0) *\n",
      "/var/folders/rw/x2cf5q4d4pb3gjtnt9b1qkbx3lm9jr/T/ipykernel_73733/1328582039.py:118: RuntimeWarning: divide by zero encountered in double_scalars\n",
      "  phase_2_1 = phase2/phase1\n",
      "/var/folders/rw/x2cf5q4d4pb3gjtnt9b1qkbx3lm9jr/T/ipykernel_73733/1328582039.py:119: RuntimeWarning: divide by zero encountered in double_scalars\n",
      "  phase_3_1 = phase3/phase1\n",
      "/Users/swebb/opt/anaconda3/lib/python3.9/site-packages/feets/extractors/ext_max_slope.py:91: RuntimeWarning: divide by zero encountered in true_divide\n",
      "  slope = np.abs(magnitude[1:] - magnitude[:-1]) / (time[1:] - time[:-1])\n"
     ]
    },
    {
     "name": "stdout",
     "output_type": "stream",
     "text": [
      "['Autocor_length' 'Beyond1Std' 'CAR_mean' 'CAR_sigma' 'CAR_tau' 'Con'\n",
      " 'LinearTrend' 'MaxSlope' 'Mean' 'Meanvariance' 'MedianAbsDev' 'MedianBRP'\n",
      " 'PairSlopeTrend' 'PercentAmplitude' 'Q31' 'Rcs' 'Skew' 'SlottedA_length'\n",
      " 'SmallKurtosis' 'Std' 'StetsonK_AC'] [ 1.24000000e+02  4.06690141e-01  1.17667377e+05  1.00000000e+01\n",
      "  5.00000000e-01  0.00000000e+00  3.09184019e-01             inf\n",
      "  5.88336883e+04  1.59225636e-06  8.10300000e-02  1.98943662e-01\n",
      "  9.66666667e-01  2.75752728e-06  1.61778250e-01  4.33101508e-01\n",
      "  1.90337892e-03             nan -1.19275253e+00  9.36783142e-02\n",
      "             nan]\n"
     ]
    },
    {
     "name": "stderr",
     "output_type": "stream",
     "text": [
      "/Users/swebb/opt/anaconda3/lib/python3.9/site-packages/statsmodels/tsa/stattools.py:667: FutureWarning: fft=True will become the default after the release of the 0.12 release of statsmodels. To suppress this warning, explicitly set fft=False.\n",
      "  warnings.warn(\n"
     ]
    },
    {
     "name": "stdout",
     "output_type": "stream",
     "text": [
      "['Autocor_length' 'Beyond1Std' 'CAR_mean' 'CAR_sigma' 'CAR_tau' 'Con'\n",
      " 'LinearTrend' 'MaxSlope' 'Mean' 'Meanvariance' 'MedianAbsDev' 'MedianBRP'\n",
      " 'PairSlopeTrend' 'PercentAmplitude' 'Q31' 'Rcs' 'Skew' 'SlottedA_length'\n",
      " 'SmallKurtosis' 'Std' 'StetsonK_AC'] [ 1.25000000e+02  4.21052632e-01  1.17667376e+05  1.00000000e+01\n",
      "  5.00000000e-01  0.00000000e+00 -1.97815977e+00             inf\n",
      "  5.88336882e+04  1.59349126e-06  8.13110000e-02  1.98245614e-01\n",
      "  9.66666667e-01  2.75752728e-06  1.62340750e-01  4.33347058e-01\n",
      "  1.49098131e-03             nan -1.19727335e+00  9.37509679e-02\n",
      "             nan]\n"
     ]
    },
    {
     "name": "stderr",
     "output_type": "stream",
     "text": [
      "/var/folders/rw/x2cf5q4d4pb3gjtnt9b1qkbx3lm9jr/T/ipykernel_73733/1328582039.py:118: RuntimeWarning: divide by zero encountered in double_scalars\n",
      "  phase_2_1 = phase2/phase1\n",
      "/var/folders/rw/x2cf5q4d4pb3gjtnt9b1qkbx3lm9jr/T/ipykernel_73733/1328582039.py:119: RuntimeWarning: divide by zero encountered in double_scalars\n",
      "  phase_3_1 = phase3/phase1\n",
      "/Users/swebb/opt/anaconda3/lib/python3.9/site-packages/numpy/core/fromnumeric.py:3419: RuntimeWarning: Mean of empty slice.\n",
      "  return _methods._mean(a, axis=axis, dtype=dtype,\n",
      "/Users/swebb/opt/anaconda3/lib/python3.9/site-packages/numpy/core/_methods.py:188: RuntimeWarning: invalid value encountered in double_scalars\n",
      "  ret = ret.dtype.type(ret / rcount)\n",
      "/Users/swebb/opt/anaconda3/lib/python3.9/site-packages/numpy/core/_methods.py:261: RuntimeWarning: Degrees of freedom <= 0 for slice\n",
      "  ret = _var(a, axis=axis, dtype=dtype, out=out, ddof=ddof,\n",
      "/Users/swebb/opt/anaconda3/lib/python3.9/site-packages/numpy/core/_methods.py:221: RuntimeWarning: invalid value encountered in true_divide\n",
      "  arrmean = um.true_divide(arrmean, div, out=arrmean, casting='unsafe',\n",
      "/Users/swebb/opt/anaconda3/lib/python3.9/site-packages/numpy/core/_methods.py:253: RuntimeWarning: invalid value encountered in double_scalars\n",
      "  ret = ret.dtype.type(ret / rcount)\n",
      "/Users/swebb/opt/anaconda3/lib/python3.9/site-packages/feets/extractors/ext_stetson.py:247: RuntimeWarning: divide by zero encountered in double_scalars\n",
      "  K = (1 / np.sqrt(N_autocor * 1.0) *\n",
      "/Users/swebb/opt/anaconda3/lib/python3.9/site-packages/feets/extractors/ext_stetson.py:247: RuntimeWarning: invalid value encountered in double_scalars\n",
      "  K = (1 / np.sqrt(N_autocor * 1.0) *\n",
      "/Users/swebb/opt/anaconda3/lib/python3.9/site-packages/statsmodels/tsa/stattools.py:667: FutureWarning: fft=True will become the default after the release of the 0.12 release of statsmodels. To suppress this warning, explicitly set fft=False.\n",
      "  warnings.warn(\n",
      "/Users/swebb/opt/anaconda3/lib/python3.9/site-packages/feets/extractors/ext_max_slope.py:91: RuntimeWarning: divide by zero encountered in true_divide\n",
      "  slope = np.abs(magnitude[1:] - magnitude[:-1]) / (time[1:] - time[:-1])\n"
     ]
    },
    {
     "name": "stdout",
     "output_type": "stream",
     "text": [
      "['Autocor_length' 'Beyond1Std' 'CAR_mean' 'CAR_sigma' 'CAR_tau' 'Con'\n",
      " 'LinearTrend' 'MaxSlope' 'Mean' 'Meanvariance' 'MedianAbsDev' 'MedianBRP'\n",
      " 'PairSlopeTrend' 'PercentAmplitude' 'Q31' 'Rcs' 'Skew' 'SlottedA_length'\n",
      " 'SmallKurtosis' 'Std' 'StetsonK_AC'] [ 1.25000000e+02  4.08771930e-01  1.17667376e+05  1.00000000e+01\n",
      "  5.00000000e-01  0.00000000e+00  3.42957477e-01             inf\n",
      "  5.88336882e+04  1.59349126e-06  8.13110000e-02  1.98245614e-01\n",
      "  9.66666667e-01  2.75752728e-06  1.62340750e-01  4.33347058e-01\n",
      "  1.49098131e-03             nan -1.19727335e+00  9.37509679e-02\n",
      "             nan]\n"
     ]
    },
    {
     "name": "stderr",
     "output_type": "stream",
     "text": [
      "/var/folders/rw/x2cf5q4d4pb3gjtnt9b1qkbx3lm9jr/T/ipykernel_73733/1328582039.py:118: RuntimeWarning: divide by zero encountered in double_scalars\n",
      "  phase_2_1 = phase2/phase1\n",
      "/var/folders/rw/x2cf5q4d4pb3gjtnt9b1qkbx3lm9jr/T/ipykernel_73733/1328582039.py:119: RuntimeWarning: divide by zero encountered in double_scalars\n",
      "  phase_3_1 = phase3/phase1\n",
      "/Users/swebb/opt/anaconda3/lib/python3.9/site-packages/numpy/core/fromnumeric.py:3419: RuntimeWarning: Mean of empty slice.\n",
      "  return _methods._mean(a, axis=axis, dtype=dtype,\n",
      "/Users/swebb/opt/anaconda3/lib/python3.9/site-packages/numpy/core/_methods.py:188: RuntimeWarning: invalid value encountered in double_scalars\n",
      "  ret = ret.dtype.type(ret / rcount)\n",
      "/Users/swebb/opt/anaconda3/lib/python3.9/site-packages/numpy/core/_methods.py:261: RuntimeWarning: Degrees of freedom <= 0 for slice\n",
      "  ret = _var(a, axis=axis, dtype=dtype, out=out, ddof=ddof,\n",
      "/Users/swebb/opt/anaconda3/lib/python3.9/site-packages/numpy/core/_methods.py:221: RuntimeWarning: invalid value encountered in true_divide\n",
      "  arrmean = um.true_divide(arrmean, div, out=arrmean, casting='unsafe',\n",
      "/Users/swebb/opt/anaconda3/lib/python3.9/site-packages/numpy/core/_methods.py:253: RuntimeWarning: invalid value encountered in double_scalars\n",
      "  ret = ret.dtype.type(ret / rcount)\n",
      "/Users/swebb/opt/anaconda3/lib/python3.9/site-packages/feets/extractors/ext_stetson.py:247: RuntimeWarning: divide by zero encountered in double_scalars\n",
      "  K = (1 / np.sqrt(N_autocor * 1.0) *\n",
      "/Users/swebb/opt/anaconda3/lib/python3.9/site-packages/feets/extractors/ext_stetson.py:247: RuntimeWarning: invalid value encountered in double_scalars\n",
      "  K = (1 / np.sqrt(N_autocor * 1.0) *\n",
      "/Users/swebb/opt/anaconda3/lib/python3.9/site-packages/statsmodels/tsa/stattools.py:667: FutureWarning: fft=True will become the default after the release of the 0.12 release of statsmodels. To suppress this warning, explicitly set fft=False.\n",
      "  warnings.warn(\n"
     ]
    },
    {
     "name": "stdout",
     "output_type": "stream",
     "text": [
      "['Autocor_length' 'Beyond1Std' 'CAR_mean' 'CAR_sigma' 'CAR_tau' 'Con'\n",
      " 'LinearTrend' 'MaxSlope' 'Mean' 'Meanvariance' 'MedianAbsDev' 'MedianBRP'\n",
      " 'PairSlopeTrend' 'PercentAmplitude' 'Q31' 'Rcs' 'Skew' 'SlottedA_length'\n",
      " 'SmallKurtosis' 'Std' 'StetsonK_AC'] [ 1.25000000e+02  4.22807018e-01  1.17667376e+05  1.00000000e+01\n",
      "  5.00000000e-01  0.00000000e+00  1.30735118e+00  6.26919999e+04\n",
      "  5.88336882e+04  1.59349126e-06  8.13110000e-02  1.98245614e-01\n",
      "  9.66666667e-01  2.75752728e-06  1.62340750e-01  4.33347058e-01\n",
      "  1.49098131e-03             nan -1.19727335e+00  9.37509679e-02\n",
      "             nan]\n"
     ]
    },
    {
     "name": "stderr",
     "output_type": "stream",
     "text": [
      "/var/folders/rw/x2cf5q4d4pb3gjtnt9b1qkbx3lm9jr/T/ipykernel_73733/1328582039.py:118: RuntimeWarning: divide by zero encountered in double_scalars\n",
      "  phase_2_1 = phase2/phase1\n",
      "/var/folders/rw/x2cf5q4d4pb3gjtnt9b1qkbx3lm9jr/T/ipykernel_73733/1328582039.py:119: RuntimeWarning: divide by zero encountered in double_scalars\n",
      "  phase_3_1 = phase3/phase1\n",
      "/Users/swebb/opt/anaconda3/lib/python3.9/site-packages/numpy/core/fromnumeric.py:3419: RuntimeWarning: Mean of empty slice.\n",
      "  return _methods._mean(a, axis=axis, dtype=dtype,\n",
      "/Users/swebb/opt/anaconda3/lib/python3.9/site-packages/numpy/core/_methods.py:188: RuntimeWarning: invalid value encountered in double_scalars\n",
      "  ret = ret.dtype.type(ret / rcount)\n",
      "/Users/swebb/opt/anaconda3/lib/python3.9/site-packages/numpy/core/_methods.py:261: RuntimeWarning: Degrees of freedom <= 0 for slice\n",
      "  ret = _var(a, axis=axis, dtype=dtype, out=out, ddof=ddof,\n",
      "/Users/swebb/opt/anaconda3/lib/python3.9/site-packages/numpy/core/_methods.py:221: RuntimeWarning: invalid value encountered in true_divide\n",
      "  arrmean = um.true_divide(arrmean, div, out=arrmean, casting='unsafe',\n",
      "/Users/swebb/opt/anaconda3/lib/python3.9/site-packages/numpy/core/_methods.py:253: RuntimeWarning: invalid value encountered in double_scalars\n",
      "  ret = ret.dtype.type(ret / rcount)\n",
      "/Users/swebb/opt/anaconda3/lib/python3.9/site-packages/feets/extractors/ext_stetson.py:247: RuntimeWarning: divide by zero encountered in double_scalars\n",
      "  K = (1 / np.sqrt(N_autocor * 1.0) *\n",
      "/Users/swebb/opt/anaconda3/lib/python3.9/site-packages/feets/extractors/ext_stetson.py:247: RuntimeWarning: invalid value encountered in double_scalars\n",
      "  K = (1 / np.sqrt(N_autocor * 1.0) *\n",
      "/Users/swebb/opt/anaconda3/lib/python3.9/site-packages/statsmodels/tsa/stattools.py:667: FutureWarning: fft=True will become the default after the release of the 0.12 release of statsmodels. To suppress this warning, explicitly set fft=False.\n",
      "  warnings.warn(\n",
      "/Users/swebb/opt/anaconda3/lib/python3.9/site-packages/feets/extractors/ext_max_slope.py:91: RuntimeWarning: divide by zero encountered in true_divide\n",
      "  slope = np.abs(magnitude[1:] - magnitude[:-1]) / (time[1:] - time[:-1])\n",
      "/var/folders/rw/x2cf5q4d4pb3gjtnt9b1qkbx3lm9jr/T/ipykernel_73733/1328582039.py:118: RuntimeWarning: divide by zero encountered in double_scalars\n",
      "  phase_2_1 = phase2/phase1\n",
      "/var/folders/rw/x2cf5q4d4pb3gjtnt9b1qkbx3lm9jr/T/ipykernel_73733/1328582039.py:119: RuntimeWarning: divide by zero encountered in double_scalars\n",
      "  phase_3_1 = phase3/phase1\n"
     ]
    },
    {
     "name": "stdout",
     "output_type": "stream",
     "text": [
      "['Autocor_length' 'Beyond1Std' 'CAR_mean' 'CAR_sigma' 'CAR_tau' 'Con'\n",
      " 'LinearTrend' 'MaxSlope' 'Mean' 'Meanvariance' 'MedianAbsDev' 'MedianBRP'\n",
      " 'PairSlopeTrend' 'PercentAmplitude' 'Q31' 'Rcs' 'Skew' 'SlottedA_length'\n",
      " 'SmallKurtosis' 'Std' 'StetsonK_AC'] [ 1.25000000e+02  4.10526316e-01  1.17667376e+05  1.00000000e+01\n",
      "  5.00000000e-01  0.00000000e+00 -8.72096338e-02             inf\n",
      "  5.88336882e+04  1.59349126e-06  8.13110000e-02  1.98245614e-01\n",
      "  9.66666667e-01  2.75752728e-06  1.62340750e-01  4.33347058e-01\n",
      "  1.49098131e-03             nan -1.19727335e+00  9.37509679e-02\n",
      "             nan]\n"
     ]
    },
    {
     "name": "stderr",
     "output_type": "stream",
     "text": [
      "/Users/swebb/opt/anaconda3/lib/python3.9/site-packages/statsmodels/tsa/stattools.py:667: FutureWarning: fft=True will become the default after the release of the 0.12 release of statsmodels. To suppress this warning, explicitly set fft=False.\n",
      "  warnings.warn(\n",
      "/var/folders/rw/x2cf5q4d4pb3gjtnt9b1qkbx3lm9jr/T/ipykernel_73733/1328582039.py:118: RuntimeWarning: divide by zero encountered in double_scalars\n",
      "  phase_2_1 = phase2/phase1\n",
      "/var/folders/rw/x2cf5q4d4pb3gjtnt9b1qkbx3lm9jr/T/ipykernel_73733/1328582039.py:119: RuntimeWarning: divide by zero encountered in double_scalars\n",
      "  phase_3_1 = phase3/phase1\n"
     ]
    },
    {
     "name": "stdout",
     "output_type": "stream",
     "text": [
      "['Autocor_length' 'Beyond1Std' 'CAR_mean' 'CAR_sigma' 'CAR_tau' 'Con'\n",
      " 'LinearTrend' 'MaxSlope' 'Mean' 'Meanvariance' 'MedianAbsDev' 'MedianBRP'\n",
      " 'PairSlopeTrend' 'PercentAmplitude' 'Q31' 'Rcs' 'Skew' 'SlottedA_length'\n",
      " 'SmallKurtosis' 'Std' 'StetsonK_AC'] [ 1.25000000e+02  4.22807018e-01  1.17667376e+05  1.00000000e+01\n",
      "  5.00000000e-01  0.00000000e+00 -4.19481983e-01  8.26000000e+03\n",
      "  5.88336882e+04  1.59349126e-06  8.13110000e-02  1.98245614e-01\n",
      "  9.66666667e-01  2.75752728e-06  1.62340750e-01  4.33347058e-01\n",
      "  1.49098131e-03  1.00000000e+00 -1.19727335e+00  9.37509679e-02\n",
      "  1.00000000e+00]\n"
     ]
    },
    {
     "name": "stderr",
     "output_type": "stream",
     "text": [
      "/Users/swebb/opt/anaconda3/lib/python3.9/site-packages/feets/extractors/ext_max_slope.py:91: RuntimeWarning: divide by zero encountered in true_divide\n",
      "  slope = np.abs(magnitude[1:] - magnitude[:-1]) / (time[1:] - time[:-1])\n",
      "/Users/swebb/opt/anaconda3/lib/python3.9/site-packages/numpy/core/fromnumeric.py:3419: RuntimeWarning: Mean of empty slice.\n",
      "  return _methods._mean(a, axis=axis, dtype=dtype,\n",
      "/Users/swebb/opt/anaconda3/lib/python3.9/site-packages/numpy/core/_methods.py:188: RuntimeWarning: invalid value encountered in double_scalars\n",
      "  ret = ret.dtype.type(ret / rcount)\n",
      "/Users/swebb/opt/anaconda3/lib/python3.9/site-packages/numpy/core/_methods.py:261: RuntimeWarning: Degrees of freedom <= 0 for slice\n",
      "  ret = _var(a, axis=axis, dtype=dtype, out=out, ddof=ddof,\n",
      "/Users/swebb/opt/anaconda3/lib/python3.9/site-packages/numpy/core/_methods.py:221: RuntimeWarning: invalid value encountered in true_divide\n",
      "  arrmean = um.true_divide(arrmean, div, out=arrmean, casting='unsafe',\n",
      "/Users/swebb/opt/anaconda3/lib/python3.9/site-packages/numpy/core/_methods.py:253: RuntimeWarning: invalid value encountered in double_scalars\n",
      "  ret = ret.dtype.type(ret / rcount)\n",
      "/Users/swebb/opt/anaconda3/lib/python3.9/site-packages/feets/extractors/ext_stetson.py:247: RuntimeWarning: divide by zero encountered in double_scalars\n",
      "  K = (1 / np.sqrt(N_autocor * 1.0) *\n",
      "/Users/swebb/opt/anaconda3/lib/python3.9/site-packages/feets/extractors/ext_stetson.py:247: RuntimeWarning: invalid value encountered in double_scalars\n",
      "  K = (1 / np.sqrt(N_autocor * 1.0) *\n",
      "/var/folders/rw/x2cf5q4d4pb3gjtnt9b1qkbx3lm9jr/T/ipykernel_73733/1328582039.py:118: RuntimeWarning: divide by zero encountered in double_scalars\n",
      "  phase_2_1 = phase2/phase1\n",
      "/var/folders/rw/x2cf5q4d4pb3gjtnt9b1qkbx3lm9jr/T/ipykernel_73733/1328582039.py:119: RuntimeWarning: divide by zero encountered in double_scalars\n",
      "  phase_3_1 = phase3/phase1\n",
      "/Users/swebb/opt/anaconda3/lib/python3.9/site-packages/statsmodels/tsa/stattools.py:667: FutureWarning: fft=True will become the default after the release of the 0.12 release of statsmodels. To suppress this warning, explicitly set fft=False.\n",
      "  warnings.warn(\n"
     ]
    },
    {
     "name": "stdout",
     "output_type": "stream",
     "text": [
      "['Autocor_length' 'Beyond1Std' 'CAR_mean' 'CAR_sigma' 'CAR_tau' 'Con'\n",
      " 'LinearTrend' 'MaxSlope' 'Mean' 'Meanvariance' 'MedianAbsDev' 'MedianBRP'\n",
      " 'PairSlopeTrend' 'PercentAmplitude' 'Q31' 'Rcs' 'Skew' 'SlottedA_length'\n",
      " 'SmallKurtosis' 'Std' 'StetsonK_AC'] [ 1.24000000e+02  4.16666667e-01  1.17667376e+05  1.00000000e+01\n",
      "  5.00000000e-01  0.00000000e+00 -6.21022533e-01             inf\n",
      "  5.88336882e+04  1.60173895e-06  8.21585000e-02  1.89716312e-01\n",
      "  9.66666667e-01  2.75805417e-06  1.64027000e-01  4.35065900e-01\n",
      "  2.04561018e-03             nan -1.21544744e+00  9.42362099e-02\n",
      "             nan]\n",
      "['Autocor_length' 'Beyond1Std' 'CAR_mean' 'CAR_sigma' 'CAR_tau' 'Con'\n",
      " 'LinearTrend' 'MaxSlope' 'Mean' 'Meanvariance' 'MedianAbsDev' 'MedianBRP'\n",
      " 'PairSlopeTrend' 'PercentAmplitude' 'Q31' 'Rcs' 'Skew' 'SlottedA_length'\n",
      " 'SmallKurtosis' 'Std' 'StetsonK_AC'] [ 1.25000000e+02  4.22807018e-01  1.17667376e+05  1.00000000e+01\n",
      "  5.00000000e-01  0.00000000e+00 -2.34304082e-01  3.96950000e+04\n",
      "  5.88336882e+04  1.59349126e-06  8.13110000e-02  1.98245614e-01\n",
      "  9.66666667e-01  2.75752728e-06  1.62340750e-01  4.33347058e-01\n",
      "  1.49098131e-03  1.00000000e+00 -1.19727335e+00  9.37509679e-02\n",
      "  1.00000000e+00]\n"
     ]
    },
    {
     "name": "stderr",
     "output_type": "stream",
     "text": [
      "/var/folders/rw/x2cf5q4d4pb3gjtnt9b1qkbx3lm9jr/T/ipykernel_73733/1328582039.py:118: RuntimeWarning: divide by zero encountered in double_scalars\n",
      "  phase_2_1 = phase2/phase1\n",
      "/var/folders/rw/x2cf5q4d4pb3gjtnt9b1qkbx3lm9jr/T/ipykernel_73733/1328582039.py:119: RuntimeWarning: divide by zero encountered in double_scalars\n",
      "  phase_3_1 = phase3/phase1\n",
      "/Users/swebb/opt/anaconda3/lib/python3.9/site-packages/feets/extractors/ext_max_slope.py:91: RuntimeWarning: divide by zero encountered in true_divide\n",
      "  slope = np.abs(magnitude[1:] - magnitude[:-1]) / (time[1:] - time[:-1])\n",
      "/Users/swebb/opt/anaconda3/lib/python3.9/site-packages/statsmodels/tsa/stattools.py:667: FutureWarning: fft=True will become the default after the release of the 0.12 release of statsmodels. To suppress this warning, explicitly set fft=False.\n",
      "  warnings.warn(\n",
      "/Users/swebb/opt/anaconda3/lib/python3.9/site-packages/numpy/core/fromnumeric.py:3419: RuntimeWarning: Mean of empty slice.\n",
      "  return _methods._mean(a, axis=axis, dtype=dtype,\n",
      "/Users/swebb/opt/anaconda3/lib/python3.9/site-packages/numpy/core/_methods.py:188: RuntimeWarning: invalid value encountered in double_scalars\n",
      "  ret = ret.dtype.type(ret / rcount)\n",
      "/Users/swebb/opt/anaconda3/lib/python3.9/site-packages/numpy/core/_methods.py:261: RuntimeWarning: Degrees of freedom <= 0 for slice\n",
      "  ret = _var(a, axis=axis, dtype=dtype, out=out, ddof=ddof,\n",
      "/Users/swebb/opt/anaconda3/lib/python3.9/site-packages/numpy/core/_methods.py:221: RuntimeWarning: invalid value encountered in true_divide\n",
      "  arrmean = um.true_divide(arrmean, div, out=arrmean, casting='unsafe',\n",
      "/Users/swebb/opt/anaconda3/lib/python3.9/site-packages/numpy/core/_methods.py:253: RuntimeWarning: invalid value encountered in double_scalars\n",
      "  ret = ret.dtype.type(ret / rcount)\n",
      "/Users/swebb/opt/anaconda3/lib/python3.9/site-packages/feets/extractors/ext_stetson.py:247: RuntimeWarning: divide by zero encountered in double_scalars\n",
      "  K = (1 / np.sqrt(N_autocor * 1.0) *\n",
      "/Users/swebb/opt/anaconda3/lib/python3.9/site-packages/feets/extractors/ext_stetson.py:247: RuntimeWarning: invalid value encountered in double_scalars\n",
      "  K = (1 / np.sqrt(N_autocor * 1.0) *\n",
      "/var/folders/rw/x2cf5q4d4pb3gjtnt9b1qkbx3lm9jr/T/ipykernel_73733/1328582039.py:118: RuntimeWarning: divide by zero encountered in double_scalars\n",
      "  phase_2_1 = phase2/phase1\n",
      "/var/folders/rw/x2cf5q4d4pb3gjtnt9b1qkbx3lm9jr/T/ipykernel_73733/1328582039.py:119: RuntimeWarning: divide by zero encountered in double_scalars\n",
      "  phase_3_1 = phase3/phase1\n"
     ]
    },
    {
     "name": "stdout",
     "output_type": "stream",
     "text": [
      "['Autocor_length' 'Beyond1Std' 'CAR_mean' 'CAR_sigma' 'CAR_tau' 'Con'\n",
      " 'LinearTrend' 'MaxSlope' 'Mean' 'Meanvariance' 'MedianAbsDev' 'MedianBRP'\n",
      " 'PairSlopeTrend' 'PercentAmplitude' 'Q31' 'Rcs' 'Skew' 'SlottedA_length'\n",
      " 'SmallKurtosis' 'Std' 'StetsonK_AC'] [ 1.25000000e+02  4.19298246e-01  1.17667376e+05  1.00000000e+01\n",
      "  5.00000000e-01  0.00000000e+00  1.54568712e-01             inf\n",
      "  5.88336882e+04  1.59349126e-06  8.13110000e-02  1.98245614e-01\n",
      "  9.66666667e-01  2.75752728e-06  1.62340750e-01  4.33347058e-01\n",
      "  1.49098131e-03             nan -1.19727335e+00  9.37509679e-02\n",
      "             nan]\n",
      "['Autocor_length' 'Beyond1Std' 'CAR_mean' 'CAR_sigma' 'CAR_tau' 'Con'\n",
      " 'LinearTrend' 'MaxSlope' 'Mean' 'Meanvariance' 'MedianAbsDev' 'MedianBRP'\n",
      " 'PairSlopeTrend' 'PercentAmplitude' 'Q31' 'Rcs' 'Skew' 'SlottedA_length'\n",
      " 'SmallKurtosis' 'Std' 'StetsonK_AC'] [ 9.50000000e+01  4.23162584e-01  1.17667413e+05  1.00000000e+01\n",
      "  5.00000000e-01  0.00000000e+00 -8.69022918e-02             inf\n",
      "  5.88337064e+04  1.53013231e-06  7.22100000e-02  2.13808463e-01\n",
      "  9.66666667e-01  3.09892062e-06  1.44908000e-01  4.27144878e-01\n",
      " -2.08780820e-01  2.00000000e+00 -1.05865122e+00  9.00233553e-02\n",
      "  9.42643521e-01]\n"
     ]
    },
    {
     "name": "stderr",
     "output_type": "stream",
     "text": [
      "/var/folders/rw/x2cf5q4d4pb3gjtnt9b1qkbx3lm9jr/T/ipykernel_73733/1328582039.py:118: RuntimeWarning: divide by zero encountered in double_scalars\n",
      "  phase_2_1 = phase2/phase1\n",
      "/var/folders/rw/x2cf5q4d4pb3gjtnt9b1qkbx3lm9jr/T/ipykernel_73733/1328582039.py:119: RuntimeWarning: divide by zero encountered in double_scalars\n",
      "  phase_3_1 = phase3/phase1\n",
      "/Users/swebb/opt/anaconda3/lib/python3.9/site-packages/numpy/core/fromnumeric.py:3419: RuntimeWarning: Mean of empty slice.\n",
      "  return _methods._mean(a, axis=axis, dtype=dtype,\n",
      "/Users/swebb/opt/anaconda3/lib/python3.9/site-packages/numpy/core/_methods.py:188: RuntimeWarning: invalid value encountered in double_scalars\n",
      "  ret = ret.dtype.type(ret / rcount)\n",
      "/Users/swebb/opt/anaconda3/lib/python3.9/site-packages/numpy/core/_methods.py:261: RuntimeWarning: Degrees of freedom <= 0 for slice\n",
      "  ret = _var(a, axis=axis, dtype=dtype, out=out, ddof=ddof,\n",
      "/Users/swebb/opt/anaconda3/lib/python3.9/site-packages/numpy/core/_methods.py:221: RuntimeWarning: invalid value encountered in true_divide\n",
      "  arrmean = um.true_divide(arrmean, div, out=arrmean, casting='unsafe',\n",
      "/Users/swebb/opt/anaconda3/lib/python3.9/site-packages/numpy/core/_methods.py:253: RuntimeWarning: invalid value encountered in double_scalars\n",
      "  ret = ret.dtype.type(ret / rcount)\n",
      "/Users/swebb/opt/anaconda3/lib/python3.9/site-packages/feets/extractors/ext_stetson.py:247: RuntimeWarning: divide by zero encountered in double_scalars\n",
      "  K = (1 / np.sqrt(N_autocor * 1.0) *\n",
      "/Users/swebb/opt/anaconda3/lib/python3.9/site-packages/feets/extractors/ext_stetson.py:247: RuntimeWarning: invalid value encountered in double_scalars\n",
      "  K = (1 / np.sqrt(N_autocor * 1.0) *\n",
      "/Users/swebb/opt/anaconda3/lib/python3.9/site-packages/statsmodels/tsa/stattools.py:667: FutureWarning: fft=True will become the default after the release of the 0.12 release of statsmodels. To suppress this warning, explicitly set fft=False.\n",
      "  warnings.warn(\n",
      "/var/folders/rw/x2cf5q4d4pb3gjtnt9b1qkbx3lm9jr/T/ipykernel_73733/1328582039.py:118: RuntimeWarning: divide by zero encountered in double_scalars\n",
      "  phase_2_1 = phase2/phase1\n",
      "/var/folders/rw/x2cf5q4d4pb3gjtnt9b1qkbx3lm9jr/T/ipykernel_73733/1328582039.py:119: RuntimeWarning: divide by zero encountered in double_scalars\n",
      "  phase_3_1 = phase3/phase1\n"
     ]
    },
    {
     "name": "stdout",
     "output_type": "stream",
     "text": [
      "['Autocor_length' 'Beyond1Std' 'CAR_mean' 'CAR_sigma' 'CAR_tau' 'Con'\n",
      " 'LinearTrend' 'MaxSlope' 'Mean' 'Meanvariance' 'MedianAbsDev' 'MedianBRP'\n",
      " 'PairSlopeTrend' 'PercentAmplitude' 'Q31' 'Rcs' 'Skew' 'SlottedA_length'\n",
      " 'SmallKurtosis' 'Std' 'StetsonK_AC'] [ 1.25000000e+02  4.05263158e-01  1.17667376e+05  1.00000000e+01\n",
      "  5.00000000e-01  0.00000000e+00 -2.92508798e-01  2.22646000e+05\n",
      "  5.88336882e+04  1.59349126e-06  8.13110000e-02  1.98245614e-01\n",
      "  9.66666667e-01  2.75752728e-06  1.62340750e-01  4.33347058e-01\n",
      "  1.49098131e-03             nan -1.19727335e+00  9.37509679e-02\n",
      "             nan]\n"
     ]
    },
    {
     "name": "stderr",
     "output_type": "stream",
     "text": [
      "/Users/swebb/opt/anaconda3/lib/python3.9/site-packages/feets/extractors/ext_max_slope.py:91: RuntimeWarning: divide by zero encountered in true_divide\n",
      "  slope = np.abs(magnitude[1:] - magnitude[:-1]) / (time[1:] - time[:-1])\n",
      "/Users/swebb/opt/anaconda3/lib/python3.9/site-packages/statsmodels/tsa/stattools.py:667: FutureWarning: fft=True will become the default after the release of the 0.12 release of statsmodels. To suppress this warning, explicitly set fft=False.\n",
      "  warnings.warn(\n",
      "/Users/swebb/opt/anaconda3/lib/python3.9/site-packages/numpy/core/fromnumeric.py:3419: RuntimeWarning: Mean of empty slice.\n",
      "  return _methods._mean(a, axis=axis, dtype=dtype,\n",
      "/Users/swebb/opt/anaconda3/lib/python3.9/site-packages/numpy/core/_methods.py:188: RuntimeWarning: invalid value encountered in double_scalars\n",
      "  ret = ret.dtype.type(ret / rcount)\n",
      "/Users/swebb/opt/anaconda3/lib/python3.9/site-packages/numpy/core/_methods.py:261: RuntimeWarning: Degrees of freedom <= 0 for slice\n",
      "  ret = _var(a, axis=axis, dtype=dtype, out=out, ddof=ddof,\n",
      "/Users/swebb/opt/anaconda3/lib/python3.9/site-packages/numpy/core/_methods.py:221: RuntimeWarning: invalid value encountered in true_divide\n",
      "  arrmean = um.true_divide(arrmean, div, out=arrmean, casting='unsafe',\n",
      "/Users/swebb/opt/anaconda3/lib/python3.9/site-packages/numpy/core/_methods.py:253: RuntimeWarning: invalid value encountered in double_scalars\n",
      "  ret = ret.dtype.type(ret / rcount)\n",
      "/Users/swebb/opt/anaconda3/lib/python3.9/site-packages/feets/extractors/ext_stetson.py:247: RuntimeWarning: divide by zero encountered in double_scalars\n",
      "  K = (1 / np.sqrt(N_autocor * 1.0) *\n",
      "/Users/swebb/opt/anaconda3/lib/python3.9/site-packages/feets/extractors/ext_stetson.py:247: RuntimeWarning: invalid value encountered in double_scalars\n",
      "  K = (1 / np.sqrt(N_autocor * 1.0) *\n",
      "/var/folders/rw/x2cf5q4d4pb3gjtnt9b1qkbx3lm9jr/T/ipykernel_73733/1328582039.py:118: RuntimeWarning: divide by zero encountered in double_scalars\n",
      "  phase_2_1 = phase2/phase1\n",
      "/var/folders/rw/x2cf5q4d4pb3gjtnt9b1qkbx3lm9jr/T/ipykernel_73733/1328582039.py:119: RuntimeWarning: divide by zero encountered in double_scalars\n",
      "  phase_3_1 = phase3/phase1\n"
     ]
    },
    {
     "name": "stdout",
     "output_type": "stream",
     "text": [
      "['Autocor_length' 'Beyond1Std' 'CAR_mean' 'CAR_sigma' 'CAR_tau' 'Con'\n",
      " 'LinearTrend' 'MaxSlope' 'Mean' 'Meanvariance' 'MedianAbsDev' 'MedianBRP'\n",
      " 'PairSlopeTrend' 'PercentAmplitude' 'Q31' 'Rcs' 'Skew' 'SlottedA_length'\n",
      " 'SmallKurtosis' 'Std' 'StetsonK_AC'] [ 1.24000000e+02  4.23550088e-01  1.17667377e+05  1.00000000e+01\n",
      "  5.00000000e-01  0.00000000e+00 -3.88507510e-01             inf\n",
      "  5.88336883e+04  1.59450030e-06  8.14890000e-02  1.98594025e-01\n",
      "  9.66666667e-01  2.75325251e-06  1.62622000e-01  4.33369539e-01\n",
      " -1.03268930e-03             nan -1.19881226e+00  9.38103335e-02\n",
      "             nan]\n"
     ]
    },
    {
     "name": "stderr",
     "output_type": "stream",
     "text": [
      "/Users/swebb/opt/anaconda3/lib/python3.9/site-packages/numpy/core/fromnumeric.py:3419: RuntimeWarning: Mean of empty slice.\n",
      "  return _methods._mean(a, axis=axis, dtype=dtype,\n",
      "/Users/swebb/opt/anaconda3/lib/python3.9/site-packages/numpy/core/_methods.py:188: RuntimeWarning: invalid value encountered in double_scalars\n",
      "  ret = ret.dtype.type(ret / rcount)\n",
      "/Users/swebb/opt/anaconda3/lib/python3.9/site-packages/numpy/core/_methods.py:261: RuntimeWarning: Degrees of freedom <= 0 for slice\n",
      "  ret = _var(a, axis=axis, dtype=dtype, out=out, ddof=ddof,\n",
      "/Users/swebb/opt/anaconda3/lib/python3.9/site-packages/numpy/core/_methods.py:221: RuntimeWarning: invalid value encountered in true_divide\n",
      "  arrmean = um.true_divide(arrmean, div, out=arrmean, casting='unsafe',\n",
      "/Users/swebb/opt/anaconda3/lib/python3.9/site-packages/numpy/core/_methods.py:253: RuntimeWarning: invalid value encountered in double_scalars\n",
      "  ret = ret.dtype.type(ret / rcount)\n",
      "/Users/swebb/opt/anaconda3/lib/python3.9/site-packages/feets/extractors/ext_stetson.py:247: RuntimeWarning: divide by zero encountered in double_scalars\n",
      "  K = (1 / np.sqrt(N_autocor * 1.0) *\n",
      "/Users/swebb/opt/anaconda3/lib/python3.9/site-packages/feets/extractors/ext_stetson.py:247: RuntimeWarning: invalid value encountered in double_scalars\n",
      "  K = (1 / np.sqrt(N_autocor * 1.0) *\n",
      "/Users/swebb/opt/anaconda3/lib/python3.9/site-packages/statsmodels/tsa/stattools.py:667: FutureWarning: fft=True will become the default after the release of the 0.12 release of statsmodels. To suppress this warning, explicitly set fft=False.\n",
      "  warnings.warn(\n",
      "/Users/swebb/opt/anaconda3/lib/python3.9/site-packages/feets/extractors/ext_max_slope.py:91: RuntimeWarning: divide by zero encountered in true_divide\n",
      "  slope = np.abs(magnitude[1:] - magnitude[:-1]) / (time[1:] - time[:-1])\n",
      "/var/folders/rw/x2cf5q4d4pb3gjtnt9b1qkbx3lm9jr/T/ipykernel_73733/1328582039.py:118: RuntimeWarning: divide by zero encountered in double_scalars\n",
      "  phase_2_1 = phase2/phase1\n",
      "/var/folders/rw/x2cf5q4d4pb3gjtnt9b1qkbx3lm9jr/T/ipykernel_73733/1328582039.py:119: RuntimeWarning: divide by zero encountered in double_scalars\n",
      "  phase_3_1 = phase3/phase1\n"
     ]
    },
    {
     "name": "stdout",
     "output_type": "stream",
     "text": [
      "['Autocor_length' 'Beyond1Std' 'CAR_mean' 'CAR_sigma' 'CAR_tau' 'Con'\n",
      " 'LinearTrend' 'MaxSlope' 'Mean' 'Meanvariance' 'MedianAbsDev' 'MedianBRP'\n",
      " 'PairSlopeTrend' 'PercentAmplitude' 'Q31' 'Rcs' 'Skew' 'SlottedA_length'\n",
      " 'SmallKurtosis' 'Std' 'StetsonK_AC'] [ 1.25000000e+02  4.07017544e-01  1.17667376e+05  1.00000000e+01\n",
      "  5.00000000e-01  0.00000000e+00  1.03561353e+00             inf\n",
      "  5.88336882e+04  1.59349126e-06  8.13110000e-02  1.98245614e-01\n",
      "  9.66666667e-01  2.75752728e-06  1.62340750e-01  4.33347058e-01\n",
      "  1.49098131e-03             nan -1.19727335e+00  9.37509679e-02\n",
      "             nan]\n"
     ]
    },
    {
     "name": "stderr",
     "output_type": "stream",
     "text": [
      "/Users/swebb/opt/anaconda3/lib/python3.9/site-packages/feets/extractors/ext_max_slope.py:91: RuntimeWarning: divide by zero encountered in true_divide\n",
      "  slope = np.abs(magnitude[1:] - magnitude[:-1]) / (time[1:] - time[:-1])\n",
      "/var/folders/rw/x2cf5q4d4pb3gjtnt9b1qkbx3lm9jr/T/ipykernel_73733/1328582039.py:118: RuntimeWarning: divide by zero encountered in double_scalars\n",
      "  phase_2_1 = phase2/phase1\n",
      "/var/folders/rw/x2cf5q4d4pb3gjtnt9b1qkbx3lm9jr/T/ipykernel_73733/1328582039.py:119: RuntimeWarning: divide by zero encountered in double_scalars\n",
      "  phase_3_1 = phase3/phase1\n"
     ]
    },
    {
     "name": "stdout",
     "output_type": "stream",
     "text": [
      "['Autocor_length' 'Beyond1Std' 'CAR_mean' 'CAR_sigma' 'CAR_tau' 'Con'\n",
      " 'LinearTrend' 'MaxSlope' 'Mean' 'Meanvariance' 'MedianAbsDev' 'MedianBRP'\n",
      " 'PairSlopeTrend' 'PercentAmplitude' 'Q31' 'Rcs' 'Skew' 'SlottedA_length'\n",
      " 'SmallKurtosis' 'Std' 'StetsonK_AC'] [ 1.25000000e+02  4.16520211e-01  1.17667376e+05  1.00000000e+01\n",
      "  5.00000000e-01  0.00000000e+00 -1.60200024e-01             inf\n",
      "  5.88336882e+04  1.59488841e-06  8.14890000e-02  1.96836555e-01\n",
      "  9.66666667e-01  2.75325251e-06  1.62622000e-01  4.33691296e-01\n",
      "  1.26778284e-03  1.00000000e+00 -1.20044174e+00  9.38331674e-02\n",
      "  1.00000000e+00]\n"
     ]
    },
    {
     "name": "stderr",
     "output_type": "stream",
     "text": [
      "/Users/swebb/opt/anaconda3/lib/python3.9/site-packages/numpy/core/fromnumeric.py:3419: RuntimeWarning: Mean of empty slice.\n",
      "  return _methods._mean(a, axis=axis, dtype=dtype,\n",
      "/Users/swebb/opt/anaconda3/lib/python3.9/site-packages/numpy/core/_methods.py:188: RuntimeWarning: invalid value encountered in double_scalars\n",
      "  ret = ret.dtype.type(ret / rcount)\n",
      "/Users/swebb/opt/anaconda3/lib/python3.9/site-packages/numpy/core/_methods.py:261: RuntimeWarning: Degrees of freedom <= 0 for slice\n",
      "  ret = _var(a, axis=axis, dtype=dtype, out=out, ddof=ddof,\n",
      "/Users/swebb/opt/anaconda3/lib/python3.9/site-packages/numpy/core/_methods.py:221: RuntimeWarning: invalid value encountered in true_divide\n",
      "  arrmean = um.true_divide(arrmean, div, out=arrmean, casting='unsafe',\n",
      "/Users/swebb/opt/anaconda3/lib/python3.9/site-packages/numpy/core/_methods.py:253: RuntimeWarning: invalid value encountered in double_scalars\n",
      "  ret = ret.dtype.type(ret / rcount)\n",
      "/Users/swebb/opt/anaconda3/lib/python3.9/site-packages/feets/extractors/ext_stetson.py:247: RuntimeWarning: divide by zero encountered in double_scalars\n",
      "  K = (1 / np.sqrt(N_autocor * 1.0) *\n",
      "/Users/swebb/opt/anaconda3/lib/python3.9/site-packages/feets/extractors/ext_stetson.py:247: RuntimeWarning: invalid value encountered in double_scalars\n",
      "  K = (1 / np.sqrt(N_autocor * 1.0) *\n",
      "/Users/swebb/opt/anaconda3/lib/python3.9/site-packages/feets/extractors/ext_max_slope.py:91: RuntimeWarning: divide by zero encountered in true_divide\n",
      "  slope = np.abs(magnitude[1:] - magnitude[:-1]) / (time[1:] - time[:-1])\n",
      "/Users/swebb/opt/anaconda3/lib/python3.9/site-packages/statsmodels/tsa/stattools.py:667: FutureWarning: fft=True will become the default after the release of the 0.12 release of statsmodels. To suppress this warning, explicitly set fft=False.\n",
      "  warnings.warn(\n",
      "/var/folders/rw/x2cf5q4d4pb3gjtnt9b1qkbx3lm9jr/T/ipykernel_73733/1328582039.py:118: RuntimeWarning: divide by zero encountered in double_scalars\n",
      "  phase_2_1 = phase2/phase1\n",
      "/var/folders/rw/x2cf5q4d4pb3gjtnt9b1qkbx3lm9jr/T/ipykernel_73733/1328582039.py:119: RuntimeWarning: divide by zero encountered in double_scalars\n",
      "  phase_3_1 = phase3/phase1\n"
     ]
    },
    {
     "name": "stdout",
     "output_type": "stream",
     "text": [
      "['Autocor_length' 'Beyond1Std' 'CAR_mean' 'CAR_sigma' 'CAR_tau' 'Con'\n",
      " 'LinearTrend' 'MaxSlope' 'Mean' 'Meanvariance' 'MedianAbsDev' 'MedianBRP'\n",
      " 'PairSlopeTrend' 'PercentAmplitude' 'Q31' 'Rcs' 'Skew' 'SlottedA_length'\n",
      " 'SmallKurtosis' 'Std' 'StetsonK_AC'] [ 1.25000000e+02  4.10526316e-01  1.17667376e+05  1.00000000e+01\n",
      "  5.00000000e-01  0.00000000e+00 -1.54440818e-01             inf\n",
      "  5.88336882e+04  1.59349126e-06  8.13110000e-02  1.98245614e-01\n",
      "  9.66666667e-01  2.75752728e-06  1.62340750e-01  4.33347058e-01\n",
      "  1.49098131e-03             nan -1.19727335e+00  9.37509679e-02\n",
      "             nan]\n"
     ]
    },
    {
     "name": "stderr",
     "output_type": "stream",
     "text": [
      "/Users/swebb/opt/anaconda3/lib/python3.9/site-packages/numpy/core/fromnumeric.py:3419: RuntimeWarning: Mean of empty slice.\n",
      "  return _methods._mean(a, axis=axis, dtype=dtype,\n",
      "/Users/swebb/opt/anaconda3/lib/python3.9/site-packages/numpy/core/_methods.py:188: RuntimeWarning: invalid value encountered in double_scalars\n",
      "  ret = ret.dtype.type(ret / rcount)\n",
      "/Users/swebb/opt/anaconda3/lib/python3.9/site-packages/numpy/core/_methods.py:261: RuntimeWarning: Degrees of freedom <= 0 for slice\n",
      "  ret = _var(a, axis=axis, dtype=dtype, out=out, ddof=ddof,\n",
      "/Users/swebb/opt/anaconda3/lib/python3.9/site-packages/numpy/core/_methods.py:221: RuntimeWarning: invalid value encountered in true_divide\n",
      "  arrmean = um.true_divide(arrmean, div, out=arrmean, casting='unsafe',\n",
      "/Users/swebb/opt/anaconda3/lib/python3.9/site-packages/numpy/core/_methods.py:253: RuntimeWarning: invalid value encountered in double_scalars\n",
      "  ret = ret.dtype.type(ret / rcount)\n",
      "/Users/swebb/opt/anaconda3/lib/python3.9/site-packages/feets/extractors/ext_stetson.py:247: RuntimeWarning: divide by zero encountered in double_scalars\n",
      "  K = (1 / np.sqrt(N_autocor * 1.0) *\n",
      "/Users/swebb/opt/anaconda3/lib/python3.9/site-packages/feets/extractors/ext_stetson.py:247: RuntimeWarning: invalid value encountered in double_scalars\n",
      "  K = (1 / np.sqrt(N_autocor * 1.0) *\n",
      "/var/folders/rw/x2cf5q4d4pb3gjtnt9b1qkbx3lm9jr/T/ipykernel_73733/1328582039.py:118: RuntimeWarning: divide by zero encountered in double_scalars\n",
      "  phase_2_1 = phase2/phase1\n",
      "/var/folders/rw/x2cf5q4d4pb3gjtnt9b1qkbx3lm9jr/T/ipykernel_73733/1328582039.py:119: RuntimeWarning: divide by zero encountered in double_scalars\n",
      "  phase_3_1 = phase3/phase1\n"
     ]
    },
    {
     "name": "stdout",
     "output_type": "stream",
     "text": [
      "['Autocor_length' 'Beyond1Std' 'CAR_mean' 'CAR_sigma' 'CAR_tau' 'Con'\n",
      " 'LinearTrend' 'MaxSlope' 'Mean' 'Meanvariance' 'MedianAbsDev' 'MedianBRP'\n",
      " 'PairSlopeTrend' 'PercentAmplitude' 'Q31' 'Rcs' 'Skew' 'SlottedA_length'\n",
      " 'SmallKurtosis' 'Std' 'StetsonK_AC'] [ 1.25000000e+02  4.07732865e-01  1.17667376e+05  1.00000000e+01\n",
      "  5.00000000e-01  0.00000000e+00  1.15172185e+00  1.23207000e+05\n",
      "  5.88336882e+04  1.59488765e-06  8.14890000e-02  1.96836555e-01\n",
      "  9.66666667e-01  2.75325251e-06  1.62622000e-01  4.33686230e-01\n",
      "  1.23627090e-03             nan -1.20043834e+00  9.38331228e-02\n",
      "             nan]\n"
     ]
    },
    {
     "name": "stderr",
     "output_type": "stream",
     "text": [
      "/Users/swebb/opt/anaconda3/lib/python3.9/site-packages/numpy/core/fromnumeric.py:3419: RuntimeWarning: Mean of empty slice.\n",
      "  return _methods._mean(a, axis=axis, dtype=dtype,\n",
      "/Users/swebb/opt/anaconda3/lib/python3.9/site-packages/numpy/core/_methods.py:188: RuntimeWarning: invalid value encountered in double_scalars\n",
      "  ret = ret.dtype.type(ret / rcount)\n",
      "/Users/swebb/opt/anaconda3/lib/python3.9/site-packages/numpy/core/_methods.py:261: RuntimeWarning: Degrees of freedom <= 0 for slice\n",
      "  ret = _var(a, axis=axis, dtype=dtype, out=out, ddof=ddof,\n",
      "/Users/swebb/opt/anaconda3/lib/python3.9/site-packages/numpy/core/_methods.py:221: RuntimeWarning: invalid value encountered in true_divide\n",
      "  arrmean = um.true_divide(arrmean, div, out=arrmean, casting='unsafe',\n",
      "/Users/swebb/opt/anaconda3/lib/python3.9/site-packages/numpy/core/_methods.py:253: RuntimeWarning: invalid value encountered in double_scalars\n",
      "  ret = ret.dtype.type(ret / rcount)\n",
      "/Users/swebb/opt/anaconda3/lib/python3.9/site-packages/feets/extractors/ext_stetson.py:247: RuntimeWarning: divide by zero encountered in double_scalars\n",
      "  K = (1 / np.sqrt(N_autocor * 1.0) *\n",
      "/Users/swebb/opt/anaconda3/lib/python3.9/site-packages/feets/extractors/ext_stetson.py:247: RuntimeWarning: invalid value encountered in double_scalars\n",
      "  K = (1 / np.sqrt(N_autocor * 1.0) *\n",
      "/Users/swebb/opt/anaconda3/lib/python3.9/site-packages/feets/extractors/ext_max_slope.py:91: RuntimeWarning: divide by zero encountered in true_divide\n",
      "  slope = np.abs(magnitude[1:] - magnitude[:-1]) / (time[1:] - time[:-1])\n",
      "/Users/swebb/opt/anaconda3/lib/python3.9/site-packages/statsmodels/tsa/stattools.py:667: FutureWarning: fft=True will become the default after the release of the 0.12 release of statsmodels. To suppress this warning, explicitly set fft=False.\n",
      "  warnings.warn(\n",
      "/var/folders/rw/x2cf5q4d4pb3gjtnt9b1qkbx3lm9jr/T/ipykernel_73733/1328582039.py:118: RuntimeWarning: divide by zero encountered in double_scalars\n",
      "  phase_2_1 = phase2/phase1\n",
      "/var/folders/rw/x2cf5q4d4pb3gjtnt9b1qkbx3lm9jr/T/ipykernel_73733/1328582039.py:119: RuntimeWarning: divide by zero encountered in double_scalars\n",
      "  phase_3_1 = phase3/phase1\n"
     ]
    },
    {
     "name": "stdout",
     "output_type": "stream",
     "text": [
      "['Autocor_length' 'Beyond1Std' 'CAR_mean' 'CAR_sigma' 'CAR_tau' 'Con'\n",
      " 'LinearTrend' 'MaxSlope' 'Mean' 'Meanvariance' 'MedianAbsDev' 'MedianBRP'\n",
      " 'PairSlopeTrend' 'PercentAmplitude' 'Q31' 'Rcs' 'Skew' 'SlottedA_length'\n",
      " 'SmallKurtosis' 'Std' 'StetsonK_AC'] [ 1.25000000e+02  4.03508772e-01  1.17667376e+05  1.00000000e+01\n",
      "  5.00000000e-01  0.00000000e+00 -3.59488838e-01             inf\n",
      "  5.88336882e+04  1.59349126e-06  8.13110000e-02  1.98245614e-01\n",
      "  9.66666667e-01  2.75752728e-06  1.62340750e-01  4.33347058e-01\n",
      "  1.49098131e-03             nan -1.19727335e+00  9.37509679e-02\n",
      "             nan]\n"
     ]
    },
    {
     "name": "stderr",
     "output_type": "stream",
     "text": [
      "/Users/swebb/opt/anaconda3/lib/python3.9/site-packages/feets/extractors/ext_max_slope.py:91: RuntimeWarning: divide by zero encountered in true_divide\n",
      "  slope = np.abs(magnitude[1:] - magnitude[:-1]) / (time[1:] - time[:-1])\n",
      "/var/folders/rw/x2cf5q4d4pb3gjtnt9b1qkbx3lm9jr/T/ipykernel_73733/1328582039.py:118: RuntimeWarning: divide by zero encountered in double_scalars\n",
      "  phase_2_1 = phase2/phase1\n",
      "/var/folders/rw/x2cf5q4d4pb3gjtnt9b1qkbx3lm9jr/T/ipykernel_73733/1328582039.py:119: RuntimeWarning: divide by zero encountered in double_scalars\n",
      "  phase_3_1 = phase3/phase1\n"
     ]
    },
    {
     "name": "stdout",
     "output_type": "stream",
     "text": [
      "['Autocor_length' 'Beyond1Std' 'CAR_mean' 'CAR_sigma' 'CAR_tau' 'Con'\n",
      " 'LinearTrend' 'MaxSlope' 'Mean' 'Meanvariance' 'MedianAbsDev' 'MedianBRP'\n",
      " 'PairSlopeTrend' 'PercentAmplitude' 'Q31' 'Rcs' 'Skew' 'SlottedA_length'\n",
      " 'SmallKurtosis' 'Std' 'StetsonK_AC'] [ 1.24000000e+02  4.14762742e-01  1.17667376e+05  1.00000000e+01\n",
      "  5.00000000e-01  0.00000000e+00  4.88911215e-01             inf\n",
      "  5.88336880e+04  1.59266143e-06  8.11400000e-02  1.98594025e-01\n",
      "  9.66666667e-01  2.76236296e-06  1.62060000e-01  4.33224382e-01\n",
      "  4.61897659e-03             nan -1.19475999e+00  9.37021459e-02\n",
      "             nan]\n"
     ]
    },
    {
     "name": "stderr",
     "output_type": "stream",
     "text": [
      "/Users/swebb/opt/anaconda3/lib/python3.9/site-packages/statsmodels/tsa/stattools.py:667: FutureWarning: fft=True will become the default after the release of the 0.12 release of statsmodels. To suppress this warning, explicitly set fft=False.\n",
      "  warnings.warn(\n",
      "/Users/swebb/opt/anaconda3/lib/python3.9/site-packages/numpy/core/fromnumeric.py:3419: RuntimeWarning: Mean of empty slice.\n",
      "  return _methods._mean(a, axis=axis, dtype=dtype,\n",
      "/Users/swebb/opt/anaconda3/lib/python3.9/site-packages/numpy/core/_methods.py:188: RuntimeWarning: invalid value encountered in double_scalars\n",
      "  ret = ret.dtype.type(ret / rcount)\n",
      "/Users/swebb/opt/anaconda3/lib/python3.9/site-packages/numpy/core/_methods.py:261: RuntimeWarning: Degrees of freedom <= 0 for slice\n",
      "  ret = _var(a, axis=axis, dtype=dtype, out=out, ddof=ddof,\n",
      "/Users/swebb/opt/anaconda3/lib/python3.9/site-packages/numpy/core/_methods.py:221: RuntimeWarning: invalid value encountered in true_divide\n",
      "  arrmean = um.true_divide(arrmean, div, out=arrmean, casting='unsafe',\n",
      "/Users/swebb/opt/anaconda3/lib/python3.9/site-packages/numpy/core/_methods.py:253: RuntimeWarning: invalid value encountered in double_scalars\n",
      "  ret = ret.dtype.type(ret / rcount)\n",
      "/Users/swebb/opt/anaconda3/lib/python3.9/site-packages/feets/extractors/ext_stetson.py:247: RuntimeWarning: divide by zero encountered in double_scalars\n",
      "  K = (1 / np.sqrt(N_autocor * 1.0) *\n",
      "/Users/swebb/opt/anaconda3/lib/python3.9/site-packages/feets/extractors/ext_stetson.py:247: RuntimeWarning: invalid value encountered in double_scalars\n",
      "  K = (1 / np.sqrt(N_autocor * 1.0) *\n",
      "/var/folders/rw/x2cf5q4d4pb3gjtnt9b1qkbx3lm9jr/T/ipykernel_73733/1328582039.py:118: RuntimeWarning: divide by zero encountered in double_scalars\n",
      "  phase_2_1 = phase2/phase1\n",
      "/var/folders/rw/x2cf5q4d4pb3gjtnt9b1qkbx3lm9jr/T/ipykernel_73733/1328582039.py:119: RuntimeWarning: divide by zero encountered in double_scalars\n",
      "  phase_3_1 = phase3/phase1\n"
     ]
    },
    {
     "name": "stdout",
     "output_type": "stream",
     "text": [
      "['Autocor_length' 'Beyond1Std' 'CAR_mean' 'CAR_sigma' 'CAR_tau' 'Con'\n",
      " 'LinearTrend' 'MaxSlope' 'Mean' 'Meanvariance' 'MedianAbsDev' 'MedianBRP'\n",
      " 'PairSlopeTrend' 'PercentAmplitude' 'Q31' 'Rcs' 'Skew' 'SlottedA_length'\n",
      " 'SmallKurtosis' 'Std' 'StetsonK_AC'] [ 1.23000000e+02  4.14285714e-01  1.17667378e+05  1.00000000e+01\n",
      "  5.00000000e-01  0.00000000e+00  4.23278436e-01  1.63668000e+05\n",
      "  5.88336892e+04  1.59443714e-06  8.13110000e-02  1.96428571e-01\n",
      "  9.66666667e-01  2.77737128e-06  1.62342250e-01  4.33816331e-01\n",
      " -7.94130676e-03             nan -1.20014759e+00  9.38066193e-02\n",
      "             nan]\n"
     ]
    },
    {
     "name": "stderr",
     "output_type": "stream",
     "text": [
      "/Users/swebb/opt/anaconda3/lib/python3.9/site-packages/statsmodels/tsa/stattools.py:667: FutureWarning: fft=True will become the default after the release of the 0.12 release of statsmodels. To suppress this warning, explicitly set fft=False.\n",
      "  warnings.warn(\n",
      "/Users/swebb/opt/anaconda3/lib/python3.9/site-packages/numpy/core/fromnumeric.py:3419: RuntimeWarning: Mean of empty slice.\n",
      "  return _methods._mean(a, axis=axis, dtype=dtype,\n",
      "/Users/swebb/opt/anaconda3/lib/python3.9/site-packages/numpy/core/_methods.py:188: RuntimeWarning: invalid value encountered in double_scalars\n",
      "  ret = ret.dtype.type(ret / rcount)\n",
      "/Users/swebb/opt/anaconda3/lib/python3.9/site-packages/numpy/core/_methods.py:261: RuntimeWarning: Degrees of freedom <= 0 for slice\n",
      "  ret = _var(a, axis=axis, dtype=dtype, out=out, ddof=ddof,\n",
      "/Users/swebb/opt/anaconda3/lib/python3.9/site-packages/numpy/core/_methods.py:221: RuntimeWarning: invalid value encountered in true_divide\n",
      "  arrmean = um.true_divide(arrmean, div, out=arrmean, casting='unsafe',\n",
      "/Users/swebb/opt/anaconda3/lib/python3.9/site-packages/numpy/core/_methods.py:253: RuntimeWarning: invalid value encountered in double_scalars\n",
      "  ret = ret.dtype.type(ret / rcount)\n",
      "/Users/swebb/opt/anaconda3/lib/python3.9/site-packages/feets/extractors/ext_stetson.py:247: RuntimeWarning: divide by zero encountered in double_scalars\n",
      "  K = (1 / np.sqrt(N_autocor * 1.0) *\n",
      "/Users/swebb/opt/anaconda3/lib/python3.9/site-packages/feets/extractors/ext_stetson.py:247: RuntimeWarning: invalid value encountered in double_scalars\n",
      "  K = (1 / np.sqrt(N_autocor * 1.0) *\n",
      "/Users/swebb/opt/anaconda3/lib/python3.9/site-packages/feets/extractors/ext_max_slope.py:91: RuntimeWarning: divide by zero encountered in true_divide\n",
      "  slope = np.abs(magnitude[1:] - magnitude[:-1]) / (time[1:] - time[:-1])\n",
      "/var/folders/rw/x2cf5q4d4pb3gjtnt9b1qkbx3lm9jr/T/ipykernel_73733/1328582039.py:118: RuntimeWarning: divide by zero encountered in double_scalars\n",
      "  phase_2_1 = phase2/phase1\n",
      "/var/folders/rw/x2cf5q4d4pb3gjtnt9b1qkbx3lm9jr/T/ipykernel_73733/1328582039.py:119: RuntimeWarning: divide by zero encountered in double_scalars\n",
      "  phase_3_1 = phase3/phase1\n"
     ]
    },
    {
     "name": "stdout",
     "output_type": "stream",
     "text": [
      "['Autocor_length' 'Beyond1Std' 'CAR_mean' 'CAR_sigma' 'CAR_tau' 'Con'\n",
      " 'LinearTrend' 'MaxSlope' 'Mean' 'Meanvariance' 'MedianAbsDev' 'MedianBRP'\n",
      " 'PairSlopeTrend' 'PercentAmplitude' 'Q31' 'Rcs' 'Skew' 'SlottedA_length'\n",
      " 'SmallKurtosis' 'Std' 'StetsonK_AC'] [ 1.24000000e+02  4.11971831e-01  1.17667377e+05  1.00000000e+01\n",
      "  5.00000000e-01  0.00000000e+00  6.40002273e-01             inf\n",
      "  5.88336884e+04  1.59396160e-06  8.13110000e-02  1.97183099e-01\n",
      "  9.66666667e-01  2.75752728e-06  1.62342000e-01  4.33515422e-01\n",
      " -9.57537223e-04             nan -1.19785966e+00  9.37786400e-02\n",
      "             nan]\n"
     ]
    },
    {
     "name": "stderr",
     "output_type": "stream",
     "text": [
      "/Users/swebb/opt/anaconda3/lib/python3.9/site-packages/statsmodels/tsa/stattools.py:667: FutureWarning: fft=True will become the default after the release of the 0.12 release of statsmodels. To suppress this warning, explicitly set fft=False.\n",
      "  warnings.warn(\n",
      "/var/folders/rw/x2cf5q4d4pb3gjtnt9b1qkbx3lm9jr/T/ipykernel_73733/1328582039.py:118: RuntimeWarning: divide by zero encountered in double_scalars\n",
      "  phase_2_1 = phase2/phase1\n",
      "/var/folders/rw/x2cf5q4d4pb3gjtnt9b1qkbx3lm9jr/T/ipykernel_73733/1328582039.py:119: RuntimeWarning: divide by zero encountered in double_scalars\n",
      "  phase_3_1 = phase3/phase1\n",
      "/Users/swebb/opt/anaconda3/lib/python3.9/site-packages/feets/extractors/ext_max_slope.py:91: RuntimeWarning: divide by zero encountered in true_divide\n",
      "  slope = np.abs(magnitude[1:] - magnitude[:-1]) / (time[1:] - time[:-1])\n",
      "/Users/swebb/opt/anaconda3/lib/python3.9/site-packages/numpy/core/fromnumeric.py:3419: RuntimeWarning: Mean of empty slice.\n",
      "  return _methods._mean(a, axis=axis, dtype=dtype,\n",
      "/Users/swebb/opt/anaconda3/lib/python3.9/site-packages/numpy/core/_methods.py:188: RuntimeWarning: invalid value encountered in double_scalars\n",
      "  ret = ret.dtype.type(ret / rcount)\n",
      "/Users/swebb/opt/anaconda3/lib/python3.9/site-packages/numpy/core/_methods.py:261: RuntimeWarning: Degrees of freedom <= 0 for slice\n",
      "  ret = _var(a, axis=axis, dtype=dtype, out=out, ddof=ddof,\n",
      "/Users/swebb/opt/anaconda3/lib/python3.9/site-packages/numpy/core/_methods.py:221: RuntimeWarning: invalid value encountered in true_divide\n",
      "  arrmean = um.true_divide(arrmean, div, out=arrmean, casting='unsafe',\n",
      "/Users/swebb/opt/anaconda3/lib/python3.9/site-packages/numpy/core/_methods.py:253: RuntimeWarning: invalid value encountered in double_scalars\n",
      "  ret = ret.dtype.type(ret / rcount)\n",
      "/Users/swebb/opt/anaconda3/lib/python3.9/site-packages/feets/extractors/ext_stetson.py:247: RuntimeWarning: divide by zero encountered in double_scalars\n",
      "  K = (1 / np.sqrt(N_autocor * 1.0) *\n",
      "/Users/swebb/opt/anaconda3/lib/python3.9/site-packages/feets/extractors/ext_stetson.py:247: RuntimeWarning: invalid value encountered in double_scalars\n",
      "  K = (1 / np.sqrt(N_autocor * 1.0) *\n"
     ]
    },
    {
     "name": "stdout",
     "output_type": "stream",
     "text": [
      "['Autocor_length' 'Beyond1Std' 'CAR_mean' 'CAR_sigma' 'CAR_tau' 'Con'\n",
      " 'LinearTrend' 'MaxSlope' 'Mean' 'Meanvariance' 'MedianAbsDev' 'MedianBRP'\n",
      " 'PairSlopeTrend' 'PercentAmplitude' 'Q31' 'Rcs' 'Skew' 'SlottedA_length'\n",
      " 'SmallKurtosis' 'Std' 'StetsonK_AC'] [ 1.25000000e+02  4.12280702e-01  1.17667376e+05  1.00000000e+01\n",
      "  5.00000000e-01  0.00000000e+00 -2.35885544e-02             inf\n",
      "  5.88336882e+04  1.59349126e-06  8.13110000e-02  1.98245614e-01\n",
      "  9.66666667e-01  2.75752728e-06  1.62340750e-01  4.33347058e-01\n",
      "  1.49098131e-03             nan -1.19727335e+00  9.37509679e-02\n",
      "  1.00000000e+00]\n",
      "['Autocor_length' 'Beyond1Std' 'CAR_mean' 'CAR_sigma' 'CAR_tau' 'Con'\n",
      " 'LinearTrend' 'MaxSlope' 'Mean' 'Meanvariance' 'MedianAbsDev' 'MedianBRP'\n",
      " 'PairSlopeTrend' 'PercentAmplitude' 'Q31' 'Rcs' 'Skew' 'SlottedA_length'\n",
      " 'SmallKurtosis' 'Std' 'StetsonK_AC'] [ 1.24000000e+02  4.11247803e-01  1.17667376e+05  1.00000000e+01\n",
      "  5.00000000e-01  0.00000000e+00  7.84885123e-01             inf\n",
      "  5.88336880e+04  1.59184374e-06  8.11400000e-02  1.98594025e-01\n",
      "  9.66666667e-01  2.76236296e-06  1.62060000e-01  4.33259225e-01\n",
      "  3.63308566e-03             nan -1.19494439e+00  9.36540380e-02\n",
      "             nan]\n"
     ]
    },
    {
     "name": "stderr",
     "output_type": "stream",
     "text": [
      "/var/folders/rw/x2cf5q4d4pb3gjtnt9b1qkbx3lm9jr/T/ipykernel_73733/1328582039.py:118: RuntimeWarning: divide by zero encountered in double_scalars\n",
      "  phase_2_1 = phase2/phase1\n",
      "/var/folders/rw/x2cf5q4d4pb3gjtnt9b1qkbx3lm9jr/T/ipykernel_73733/1328582039.py:119: RuntimeWarning: divide by zero encountered in double_scalars\n",
      "  phase_3_1 = phase3/phase1\n",
      "/Users/swebb/opt/anaconda3/lib/python3.9/site-packages/statsmodels/tsa/stattools.py:667: FutureWarning: fft=True will become the default after the release of the 0.12 release of statsmodels. To suppress this warning, explicitly set fft=False.\n",
      "  warnings.warn(\n",
      "/Users/swebb/opt/anaconda3/lib/python3.9/site-packages/numpy/core/fromnumeric.py:3419: RuntimeWarning: Mean of empty slice.\n",
      "  return _methods._mean(a, axis=axis, dtype=dtype,\n",
      "/Users/swebb/opt/anaconda3/lib/python3.9/site-packages/numpy/core/_methods.py:188: RuntimeWarning: invalid value encountered in double_scalars\n",
      "  ret = ret.dtype.type(ret / rcount)\n",
      "/Users/swebb/opt/anaconda3/lib/python3.9/site-packages/numpy/core/_methods.py:261: RuntimeWarning: Degrees of freedom <= 0 for slice\n",
      "  ret = _var(a, axis=axis, dtype=dtype, out=out, ddof=ddof,\n",
      "/Users/swebb/opt/anaconda3/lib/python3.9/site-packages/numpy/core/_methods.py:221: RuntimeWarning: invalid value encountered in true_divide\n",
      "  arrmean = um.true_divide(arrmean, div, out=arrmean, casting='unsafe',\n",
      "/Users/swebb/opt/anaconda3/lib/python3.9/site-packages/numpy/core/_methods.py:253: RuntimeWarning: invalid value encountered in double_scalars\n",
      "  ret = ret.dtype.type(ret / rcount)\n",
      "/Users/swebb/opt/anaconda3/lib/python3.9/site-packages/feets/extractors/ext_stetson.py:247: RuntimeWarning: divide by zero encountered in double_scalars\n",
      "  K = (1 / np.sqrt(N_autocor * 1.0) *\n",
      "/Users/swebb/opt/anaconda3/lib/python3.9/site-packages/feets/extractors/ext_stetson.py:247: RuntimeWarning: invalid value encountered in double_scalars\n",
      "  K = (1 / np.sqrt(N_autocor * 1.0) *\n",
      "/Users/swebb/opt/anaconda3/lib/python3.9/site-packages/feets/extractors/ext_max_slope.py:91: RuntimeWarning: divide by zero encountered in true_divide\n",
      "  slope = np.abs(magnitude[1:] - magnitude[:-1]) / (time[1:] - time[:-1])\n",
      "/var/folders/rw/x2cf5q4d4pb3gjtnt9b1qkbx3lm9jr/T/ipykernel_73733/1328582039.py:118: RuntimeWarning: divide by zero encountered in double_scalars\n",
      "  phase_2_1 = phase2/phase1\n",
      "/var/folders/rw/x2cf5q4d4pb3gjtnt9b1qkbx3lm9jr/T/ipykernel_73733/1328582039.py:119: RuntimeWarning: divide by zero encountered in double_scalars\n",
      "  phase_3_1 = phase3/phase1\n"
     ]
    },
    {
     "name": "stdout",
     "output_type": "stream",
     "text": [
      "['Autocor_length' 'Beyond1Std' 'CAR_mean' 'CAR_sigma' 'CAR_tau' 'Con'\n",
      " 'LinearTrend' 'MaxSlope' 'Mean' 'Meanvariance' 'MedianAbsDev' 'MedianBRP'\n",
      " 'PairSlopeTrend' 'PercentAmplitude' 'Q31' 'Rcs' 'Skew' 'SlottedA_length'\n",
      " 'SmallKurtosis' 'Std' 'StetsonK_AC'] [ 1.25000000e+02  4.11247803e-01  1.17667376e+05  1.00000000e+01\n",
      "  5.00000000e-01  0.00000000e+00 -4.91974427e-01             inf\n",
      "  5.88336882e+04  1.59472924e-06  8.14740000e-02  1.96836555e-01\n",
      "  9.66666667e-01  2.76236296e-06  1.62622000e-01  4.33472928e-01\n",
      "  3.21065999e-03             nan -1.19973442e+00  9.38238031e-02\n",
      "             nan]\n"
     ]
    },
    {
     "name": "stderr",
     "output_type": "stream",
     "text": [
      "/Users/swebb/opt/anaconda3/lib/python3.9/site-packages/numpy/core/fromnumeric.py:3419: RuntimeWarning: Mean of empty slice.\n",
      "  return _methods._mean(a, axis=axis, dtype=dtype,\n",
      "/Users/swebb/opt/anaconda3/lib/python3.9/site-packages/numpy/core/_methods.py:188: RuntimeWarning: invalid value encountered in double_scalars\n",
      "  ret = ret.dtype.type(ret / rcount)\n",
      "/Users/swebb/opt/anaconda3/lib/python3.9/site-packages/numpy/core/_methods.py:261: RuntimeWarning: Degrees of freedom <= 0 for slice\n",
      "  ret = _var(a, axis=axis, dtype=dtype, out=out, ddof=ddof,\n",
      "/Users/swebb/opt/anaconda3/lib/python3.9/site-packages/numpy/core/_methods.py:221: RuntimeWarning: invalid value encountered in true_divide\n",
      "  arrmean = um.true_divide(arrmean, div, out=arrmean, casting='unsafe',\n",
      "/Users/swebb/opt/anaconda3/lib/python3.9/site-packages/numpy/core/_methods.py:253: RuntimeWarning: invalid value encountered in double_scalars\n",
      "  ret = ret.dtype.type(ret / rcount)\n",
      "/Users/swebb/opt/anaconda3/lib/python3.9/site-packages/feets/extractors/ext_stetson.py:247: RuntimeWarning: divide by zero encountered in double_scalars\n",
      "  K = (1 / np.sqrt(N_autocor * 1.0) *\n",
      "/Users/swebb/opt/anaconda3/lib/python3.9/site-packages/feets/extractors/ext_stetson.py:247: RuntimeWarning: invalid value encountered in double_scalars\n",
      "  K = (1 / np.sqrt(N_autocor * 1.0) *\n",
      "/var/folders/rw/x2cf5q4d4pb3gjtnt9b1qkbx3lm9jr/T/ipykernel_73733/1328582039.py:118: RuntimeWarning: divide by zero encountered in double_scalars\n",
      "  phase_2_1 = phase2/phase1\n",
      "/var/folders/rw/x2cf5q4d4pb3gjtnt9b1qkbx3lm9jr/T/ipykernel_73733/1328582039.py:119: RuntimeWarning: divide by zero encountered in double_scalars\n",
      "  phase_3_1 = phase3/phase1\n"
     ]
    },
    {
     "name": "stdout",
     "output_type": "stream",
     "text": [
      "['Autocor_length' 'Beyond1Std' 'CAR_mean' 'CAR_sigma' 'CAR_tau' 'Con'\n",
      " 'LinearTrend' 'MaxSlope' 'Mean' 'Meanvariance' 'MedianAbsDev' 'MedianBRP'\n",
      " 'PairSlopeTrend' 'PercentAmplitude' 'Q31' 'Rcs' 'Skew' 'SlottedA_length'\n",
      " 'SmallKurtosis' 'Std' 'StetsonK_AC'] [ 1.24000000e+02  4.20494700e-01  1.17667377e+05  1.00000000e+01\n",
      "  5.00000000e-01  0.00000000e+00 -4.87478988e-01             inf\n",
      "  5.88336887e+04  1.59554775e-06  8.16000000e-02  1.97879859e-01\n",
      "  9.66666667e-01  2.76772547e-06  1.62908000e-01  4.33450238e-01\n",
      " -8.34701706e-03             nan -1.19858697e+00  9.38719597e-02\n",
      "             nan]\n"
     ]
    },
    {
     "name": "stderr",
     "output_type": "stream",
     "text": [
      "/Users/swebb/opt/anaconda3/lib/python3.9/site-packages/numpy/core/fromnumeric.py:3419: RuntimeWarning: Mean of empty slice.\n",
      "  return _methods._mean(a, axis=axis, dtype=dtype,\n",
      "/Users/swebb/opt/anaconda3/lib/python3.9/site-packages/numpy/core/_methods.py:188: RuntimeWarning: invalid value encountered in double_scalars\n",
      "  ret = ret.dtype.type(ret / rcount)\n",
      "/Users/swebb/opt/anaconda3/lib/python3.9/site-packages/numpy/core/_methods.py:261: RuntimeWarning: Degrees of freedom <= 0 for slice\n",
      "  ret = _var(a, axis=axis, dtype=dtype, out=out, ddof=ddof,\n",
      "/Users/swebb/opt/anaconda3/lib/python3.9/site-packages/numpy/core/_methods.py:221: RuntimeWarning: invalid value encountered in true_divide\n",
      "  arrmean = um.true_divide(arrmean, div, out=arrmean, casting='unsafe',\n",
      "/Users/swebb/opt/anaconda3/lib/python3.9/site-packages/numpy/core/_methods.py:253: RuntimeWarning: invalid value encountered in double_scalars\n",
      "  ret = ret.dtype.type(ret / rcount)\n",
      "/Users/swebb/opt/anaconda3/lib/python3.9/site-packages/feets/extractors/ext_stetson.py:247: RuntimeWarning: divide by zero encountered in double_scalars\n",
      "  K = (1 / np.sqrt(N_autocor * 1.0) *\n",
      "/Users/swebb/opt/anaconda3/lib/python3.9/site-packages/feets/extractors/ext_stetson.py:247: RuntimeWarning: invalid value encountered in double_scalars\n",
      "  K = (1 / np.sqrt(N_autocor * 1.0) *\n",
      "/Users/swebb/opt/anaconda3/lib/python3.9/site-packages/feets/extractors/ext_max_slope.py:91: RuntimeWarning: divide by zero encountered in true_divide\n",
      "  slope = np.abs(magnitude[1:] - magnitude[:-1]) / (time[1:] - time[:-1])\n",
      "/Users/swebb/opt/anaconda3/lib/python3.9/site-packages/statsmodels/tsa/stattools.py:667: FutureWarning: fft=True will become the default after the release of the 0.12 release of statsmodels. To suppress this warning, explicitly set fft=False.\n",
      "  warnings.warn(\n",
      "/var/folders/rw/x2cf5q4d4pb3gjtnt9b1qkbx3lm9jr/T/ipykernel_73733/1328582039.py:118: RuntimeWarning: divide by zero encountered in double_scalars\n",
      "  phase_2_1 = phase2/phase1\n",
      "/var/folders/rw/x2cf5q4d4pb3gjtnt9b1qkbx3lm9jr/T/ipykernel_73733/1328582039.py:119: RuntimeWarning: divide by zero encountered in double_scalars\n",
      "  phase_3_1 = phase3/phase1\n"
     ]
    },
    {
     "name": "stdout",
     "output_type": "stream",
     "text": [
      "['Autocor_length' 'Beyond1Std' 'CAR_mean' 'CAR_sigma' 'CAR_tau' 'Con'\n",
      " 'LinearTrend' 'MaxSlope' 'Mean' 'Meanvariance' 'MedianAbsDev' 'MedianBRP'\n",
      " 'PairSlopeTrend' 'PercentAmplitude' 'Q31' 'Rcs' 'Skew' 'SlottedA_length'\n",
      " 'SmallKurtosis' 'Std' 'StetsonK_AC'] [ 1.24000000e+02  4.04929577e-01  1.17667377e+05  1.00000000e+01\n",
      "  5.00000000e-01  0.00000000e+00 -3.60176544e-01             inf\n",
      "  5.88336883e+04  1.59516885e-06  8.15880000e-02  1.97183099e-01\n",
      "  9.66666667e-01  2.75752728e-06  1.62902750e-01  4.33390900e-01\n",
      " -1.92077937e-04             nan -1.19938753e+00  9.38496667e-02\n",
      "             nan]\n"
     ]
    },
    {
     "name": "stderr",
     "output_type": "stream",
     "text": [
      "/Users/swebb/opt/anaconda3/lib/python3.9/site-packages/feets/extractors/ext_max_slope.py:91: RuntimeWarning: divide by zero encountered in true_divide\n",
      "  slope = np.abs(magnitude[1:] - magnitude[:-1]) / (time[1:] - time[:-1])\n",
      "/Users/swebb/opt/anaconda3/lib/python3.9/site-packages/statsmodels/tsa/stattools.py:667: FutureWarning: fft=True will become the default after the release of the 0.12 release of statsmodels. To suppress this warning, explicitly set fft=False.\n",
      "  warnings.warn(\n",
      "/Users/swebb/opt/anaconda3/lib/python3.9/site-packages/numpy/core/fromnumeric.py:3419: RuntimeWarning: Mean of empty slice.\n",
      "  return _methods._mean(a, axis=axis, dtype=dtype,\n",
      "/Users/swebb/opt/anaconda3/lib/python3.9/site-packages/numpy/core/_methods.py:188: RuntimeWarning: invalid value encountered in double_scalars\n",
      "  ret = ret.dtype.type(ret / rcount)\n",
      "/Users/swebb/opt/anaconda3/lib/python3.9/site-packages/numpy/core/_methods.py:261: RuntimeWarning: Degrees of freedom <= 0 for slice\n",
      "  ret = _var(a, axis=axis, dtype=dtype, out=out, ddof=ddof,\n",
      "/Users/swebb/opt/anaconda3/lib/python3.9/site-packages/numpy/core/_methods.py:221: RuntimeWarning: invalid value encountered in true_divide\n",
      "  arrmean = um.true_divide(arrmean, div, out=arrmean, casting='unsafe',\n",
      "/Users/swebb/opt/anaconda3/lib/python3.9/site-packages/numpy/core/_methods.py:253: RuntimeWarning: invalid value encountered in double_scalars\n",
      "  ret = ret.dtype.type(ret / rcount)\n",
      "/Users/swebb/opt/anaconda3/lib/python3.9/site-packages/feets/extractors/ext_stetson.py:247: RuntimeWarning: divide by zero encountered in double_scalars\n",
      "  K = (1 / np.sqrt(N_autocor * 1.0) *\n",
      "/Users/swebb/opt/anaconda3/lib/python3.9/site-packages/feets/extractors/ext_stetson.py:247: RuntimeWarning: invalid value encountered in double_scalars\n",
      "  K = (1 / np.sqrt(N_autocor * 1.0) *\n",
      "/var/folders/rw/x2cf5q4d4pb3gjtnt9b1qkbx3lm9jr/T/ipykernel_73733/1328582039.py:118: RuntimeWarning: divide by zero encountered in double_scalars\n",
      "  phase_2_1 = phase2/phase1\n",
      "/var/folders/rw/x2cf5q4d4pb3gjtnt9b1qkbx3lm9jr/T/ipykernel_73733/1328582039.py:119: RuntimeWarning: divide by zero encountered in double_scalars\n",
      "  phase_3_1 = phase3/phase1\n"
     ]
    },
    {
     "name": "stdout",
     "output_type": "stream",
     "text": [
      "['Autocor_length' 'Beyond1Std' 'CAR_mean' 'CAR_sigma' 'CAR_tau' 'Con'\n",
      " 'LinearTrend' 'MaxSlope' 'Mean' 'Meanvariance' 'MedianAbsDev' 'MedianBRP'\n",
      " 'PairSlopeTrend' 'PercentAmplitude' 'Q31' 'Rcs' 'Skew' 'SlottedA_length'\n",
      " 'SmallKurtosis' 'Std' 'StetsonK_AC'] [ 1.25000000e+02  4.10526316e-01  1.17667376e+05  1.00000000e+01\n",
      "  5.00000000e-01  0.00000000e+00 -3.18575559e-02             inf\n",
      "  5.88336882e+04  1.59349126e-06  8.13110000e-02  1.98245614e-01\n",
      "  9.66666667e-01  2.75752728e-06  1.62340750e-01  4.33347058e-01\n",
      "  1.49098131e-03             nan -1.19727335e+00  9.37509679e-02\n",
      "             nan]\n"
     ]
    },
    {
     "name": "stderr",
     "output_type": "stream",
     "text": [
      "/Users/swebb/opt/anaconda3/lib/python3.9/site-packages/statsmodels/tsa/stattools.py:667: FutureWarning: fft=True will become the default after the release of the 0.12 release of statsmodels. To suppress this warning, explicitly set fft=False.\n",
      "  warnings.warn(\n",
      "/var/folders/rw/x2cf5q4d4pb3gjtnt9b1qkbx3lm9jr/T/ipykernel_73733/1328582039.py:118: RuntimeWarning: divide by zero encountered in double_scalars\n",
      "  phase_2_1 = phase2/phase1\n",
      "/var/folders/rw/x2cf5q4d4pb3gjtnt9b1qkbx3lm9jr/T/ipykernel_73733/1328582039.py:119: RuntimeWarning: divide by zero encountered in double_scalars\n",
      "  phase_3_1 = phase3/phase1\n"
     ]
    },
    {
     "name": "stdout",
     "output_type": "stream",
     "text": [
      "['Autocor_length' 'Beyond1Std' 'CAR_mean' 'CAR_sigma' 'CAR_tau' 'Con'\n",
      " 'LinearTrend' 'MaxSlope' 'Mean' 'Meanvariance' 'MedianAbsDev' 'MedianBRP'\n",
      " 'PairSlopeTrend' 'PercentAmplitude' 'Q31' 'Rcs' 'Skew' 'SlottedA_length'\n",
      " 'SmallKurtosis' 'Std' 'StetsonK_AC'] [ 1.23000000e+02  4.15929204e-01  1.17667378e+05  1.00000000e+01\n",
      "  5.00000000e-01  0.00000000e+00  1.22520613e-02  1.62483000e+05\n",
      "  5.88336892e+04  1.59074473e-06  8.05640000e-02  2.00000000e-01\n",
      "  9.66666667e-01  2.77259511e-06  1.60915000e-01  4.32755511e-01\n",
      " -1.47178393e-02  1.00000000e+00 -1.18662306e+00  9.35893810e-02\n",
      "  1.00000000e+00]\n"
     ]
    },
    {
     "name": "stderr",
     "output_type": "stream",
     "text": [
      "/Users/swebb/opt/anaconda3/lib/python3.9/site-packages/feets/extractors/ext_max_slope.py:91: RuntimeWarning: divide by zero encountered in true_divide\n",
      "  slope = np.abs(magnitude[1:] - magnitude[:-1]) / (time[1:] - time[:-1])\n",
      "/Users/swebb/opt/anaconda3/lib/python3.9/site-packages/numpy/core/fromnumeric.py:3419: RuntimeWarning: Mean of empty slice.\n",
      "  return _methods._mean(a, axis=axis, dtype=dtype,\n",
      "/Users/swebb/opt/anaconda3/lib/python3.9/site-packages/numpy/core/_methods.py:188: RuntimeWarning: invalid value encountered in double_scalars\n",
      "  ret = ret.dtype.type(ret / rcount)\n",
      "/Users/swebb/opt/anaconda3/lib/python3.9/site-packages/numpy/core/_methods.py:261: RuntimeWarning: Degrees of freedom <= 0 for slice\n",
      "  ret = _var(a, axis=axis, dtype=dtype, out=out, ddof=ddof,\n",
      "/Users/swebb/opt/anaconda3/lib/python3.9/site-packages/numpy/core/_methods.py:221: RuntimeWarning: invalid value encountered in true_divide\n",
      "  arrmean = um.true_divide(arrmean, div, out=arrmean, casting='unsafe',\n",
      "/Users/swebb/opt/anaconda3/lib/python3.9/site-packages/numpy/core/_methods.py:253: RuntimeWarning: invalid value encountered in double_scalars\n",
      "  ret = ret.dtype.type(ret / rcount)\n",
      "/Users/swebb/opt/anaconda3/lib/python3.9/site-packages/feets/extractors/ext_stetson.py:247: RuntimeWarning: divide by zero encountered in double_scalars\n",
      "  K = (1 / np.sqrt(N_autocor * 1.0) *\n",
      "/Users/swebb/opt/anaconda3/lib/python3.9/site-packages/feets/extractors/ext_stetson.py:247: RuntimeWarning: invalid value encountered in double_scalars\n",
      "  K = (1 / np.sqrt(N_autocor * 1.0) *\n",
      "/var/folders/rw/x2cf5q4d4pb3gjtnt9b1qkbx3lm9jr/T/ipykernel_73733/1328582039.py:118: RuntimeWarning: divide by zero encountered in double_scalars\n",
      "  phase_2_1 = phase2/phase1\n",
      "/var/folders/rw/x2cf5q4d4pb3gjtnt9b1qkbx3lm9jr/T/ipykernel_73733/1328582039.py:119: RuntimeWarning: divide by zero encountered in double_scalars\n",
      "  phase_3_1 = phase3/phase1\n",
      "/Users/swebb/opt/anaconda3/lib/python3.9/site-packages/statsmodels/tsa/stattools.py:667: FutureWarning: fft=True will become the default after the release of the 0.12 release of statsmodels. To suppress this warning, explicitly set fft=False.\n",
      "  warnings.warn(\n"
     ]
    },
    {
     "name": "stdout",
     "output_type": "stream",
     "text": [
      "['Autocor_length' 'Beyond1Std' 'CAR_mean' 'CAR_sigma' 'CAR_tau' 'Con'\n",
      " 'LinearTrend' 'MaxSlope' 'Mean' 'Meanvariance' 'MedianAbsDev' 'MedianBRP'\n",
      " 'PairSlopeTrend' 'PercentAmplitude' 'Q31' 'Rcs' 'Skew' 'SlottedA_length'\n",
      " 'SmallKurtosis' 'Std' 'StetsonK_AC'] [ 1.24000000e+02  4.07732865e-01  1.17667377e+05  1.00000000e+01\n",
      "  5.00000000e-01  0.00000000e+00 -1.52015505e-02             inf\n",
      "  5.88336885e+04  1.59079499e-06  8.11330000e-02  1.98594025e-01\n",
      "  9.66666667e-01  2.75325251e-06  1.62059000e-01  4.33341499e-01\n",
      "  1.28670477e-03             nan -1.19701465e+00  9.35923372e-02\n",
      "             nan]\n"
     ]
    },
    {
     "name": "stderr",
     "output_type": "stream",
     "text": [
      "/Users/swebb/opt/anaconda3/lib/python3.9/site-packages/numpy/core/fromnumeric.py:3419: RuntimeWarning: Mean of empty slice.\n",
      "  return _methods._mean(a, axis=axis, dtype=dtype,\n",
      "/Users/swebb/opt/anaconda3/lib/python3.9/site-packages/numpy/core/_methods.py:188: RuntimeWarning: invalid value encountered in double_scalars\n",
      "  ret = ret.dtype.type(ret / rcount)\n",
      "/Users/swebb/opt/anaconda3/lib/python3.9/site-packages/numpy/core/_methods.py:261: RuntimeWarning: Degrees of freedom <= 0 for slice\n",
      "  ret = _var(a, axis=axis, dtype=dtype, out=out, ddof=ddof,\n",
      "/Users/swebb/opt/anaconda3/lib/python3.9/site-packages/numpy/core/_methods.py:221: RuntimeWarning: invalid value encountered in true_divide\n",
      "  arrmean = um.true_divide(arrmean, div, out=arrmean, casting='unsafe',\n",
      "/Users/swebb/opt/anaconda3/lib/python3.9/site-packages/numpy/core/_methods.py:253: RuntimeWarning: invalid value encountered in double_scalars\n",
      "  ret = ret.dtype.type(ret / rcount)\n",
      "/Users/swebb/opt/anaconda3/lib/python3.9/site-packages/feets/extractors/ext_stetson.py:247: RuntimeWarning: divide by zero encountered in double_scalars\n",
      "  K = (1 / np.sqrt(N_autocor * 1.0) *\n",
      "/Users/swebb/opt/anaconda3/lib/python3.9/site-packages/feets/extractors/ext_stetson.py:247: RuntimeWarning: invalid value encountered in double_scalars\n",
      "  K = (1 / np.sqrt(N_autocor * 1.0) *\n",
      "/Users/swebb/opt/anaconda3/lib/python3.9/site-packages/feets/extractors/ext_max_slope.py:91: RuntimeWarning: divide by zero encountered in true_divide\n",
      "  slope = np.abs(magnitude[1:] - magnitude[:-1]) / (time[1:] - time[:-1])\n",
      "/var/folders/rw/x2cf5q4d4pb3gjtnt9b1qkbx3lm9jr/T/ipykernel_73733/1328582039.py:118: RuntimeWarning: divide by zero encountered in double_scalars\n",
      "  phase_2_1 = phase2/phase1\n",
      "/var/folders/rw/x2cf5q4d4pb3gjtnt9b1qkbx3lm9jr/T/ipykernel_73733/1328582039.py:119: RuntimeWarning: divide by zero encountered in double_scalars\n",
      "  phase_3_1 = phase3/phase1\n",
      "/Users/swebb/opt/anaconda3/lib/python3.9/site-packages/statsmodels/tsa/stattools.py:667: FutureWarning: fft=True will become the default after the release of the 0.12 release of statsmodels. To suppress this warning, explicitly set fft=False.\n",
      "  warnings.warn(\n"
     ]
    },
    {
     "name": "stdout",
     "output_type": "stream",
     "text": [
      "['Autocor_length' 'Beyond1Std' 'CAR_mean' 'CAR_sigma' 'CAR_tau' 'Con'\n",
      " 'LinearTrend' 'MaxSlope' 'Mean' 'Meanvariance' 'MedianAbsDev' 'MedianBRP'\n",
      " 'PairSlopeTrend' 'PercentAmplitude' 'Q31' 'Rcs' 'Skew' 'SlottedA_length'\n",
      " 'SmallKurtosis' 'Std' 'StetsonK_AC'] [ 1.25000000e+02  4.05263158e-01  1.17667376e+05  1.00000000e+01\n",
      "  5.00000000e-01  0.00000000e+00  6.11333255e-02             inf\n",
      "  5.88336882e+04  1.59349126e-06  8.13110000e-02  1.98245614e-01\n",
      "  9.66666667e-01  2.75752728e-06  1.62340750e-01  4.33347058e-01\n",
      "  1.49098131e-03             nan -1.19727335e+00  9.37509679e-02\n",
      "             nan]\n",
      "['Autocor_length' 'Beyond1Std' 'CAR_mean' 'CAR_sigma' 'CAR_tau' 'Con'\n",
      " 'LinearTrend' 'MaxSlope' 'Mean' 'Meanvariance' 'MedianAbsDev' 'MedianBRP'\n",
      " 'PairSlopeTrend' 'PercentAmplitude' 'Q31' 'Rcs' 'Skew' 'SlottedA_length'\n",
      " 'SmallKurtosis' 'Std' 'StetsonK_AC'] [ 1.24000000e+02  4.15492958e-01  1.17667377e+05  1.00000000e+01\n",
      "  5.00000000e-01  0.00000000e+00  1.46380995e+00  5.46499999e+04\n",
      "  5.88336887e+04  1.59132545e-06  8.10295000e-02  1.98943662e-01\n",
      "  9.66666667e-01  2.75805417e-06  1.61779000e-01  4.33129819e-01\n",
      " -4.10824401e-03             nan -1.19246051e+00  9.36235463e-02\n",
      "             nan]\n"
     ]
    },
    {
     "name": "stderr",
     "output_type": "stream",
     "text": [
      "/var/folders/rw/x2cf5q4d4pb3gjtnt9b1qkbx3lm9jr/T/ipykernel_73733/1328582039.py:118: RuntimeWarning: divide by zero encountered in double_scalars\n",
      "  phase_2_1 = phase2/phase1\n",
      "/var/folders/rw/x2cf5q4d4pb3gjtnt9b1qkbx3lm9jr/T/ipykernel_73733/1328582039.py:119: RuntimeWarning: divide by zero encountered in double_scalars\n",
      "  phase_3_1 = phase3/phase1\n",
      "/Users/swebb/opt/anaconda3/lib/python3.9/site-packages/numpy/core/fromnumeric.py:3419: RuntimeWarning: Mean of empty slice.\n",
      "  return _methods._mean(a, axis=axis, dtype=dtype,\n",
      "/Users/swebb/opt/anaconda3/lib/python3.9/site-packages/numpy/core/_methods.py:188: RuntimeWarning: invalid value encountered in double_scalars\n",
      "  ret = ret.dtype.type(ret / rcount)\n",
      "/Users/swebb/opt/anaconda3/lib/python3.9/site-packages/numpy/core/_methods.py:261: RuntimeWarning: Degrees of freedom <= 0 for slice\n",
      "  ret = _var(a, axis=axis, dtype=dtype, out=out, ddof=ddof,\n",
      "/Users/swebb/opt/anaconda3/lib/python3.9/site-packages/numpy/core/_methods.py:221: RuntimeWarning: invalid value encountered in true_divide\n",
      "  arrmean = um.true_divide(arrmean, div, out=arrmean, casting='unsafe',\n",
      "/Users/swebb/opt/anaconda3/lib/python3.9/site-packages/numpy/core/_methods.py:253: RuntimeWarning: invalid value encountered in double_scalars\n",
      "  ret = ret.dtype.type(ret / rcount)\n",
      "/Users/swebb/opt/anaconda3/lib/python3.9/site-packages/feets/extractors/ext_stetson.py:247: RuntimeWarning: divide by zero encountered in double_scalars\n",
      "  K = (1 / np.sqrt(N_autocor * 1.0) *\n",
      "/Users/swebb/opt/anaconda3/lib/python3.9/site-packages/feets/extractors/ext_stetson.py:247: RuntimeWarning: invalid value encountered in double_scalars\n",
      "  K = (1 / np.sqrt(N_autocor * 1.0) *\n",
      "/Users/swebb/opt/anaconda3/lib/python3.9/site-packages/statsmodels/tsa/stattools.py:667: FutureWarning: fft=True will become the default after the release of the 0.12 release of statsmodels. To suppress this warning, explicitly set fft=False.\n",
      "  warnings.warn(\n",
      "/Users/swebb/opt/anaconda3/lib/python3.9/site-packages/feets/extractors/ext_max_slope.py:91: RuntimeWarning: divide by zero encountered in true_divide\n",
      "  slope = np.abs(magnitude[1:] - magnitude[:-1]) / (time[1:] - time[:-1])\n",
      "/var/folders/rw/x2cf5q4d4pb3gjtnt9b1qkbx3lm9jr/T/ipykernel_73733/1328582039.py:118: RuntimeWarning: divide by zero encountered in double_scalars\n",
      "  phase_2_1 = phase2/phase1\n",
      "/var/folders/rw/x2cf5q4d4pb3gjtnt9b1qkbx3lm9jr/T/ipykernel_73733/1328582039.py:119: RuntimeWarning: divide by zero encountered in double_scalars\n",
      "  phase_3_1 = phase3/phase1\n"
     ]
    },
    {
     "name": "stdout",
     "output_type": "stream",
     "text": [
      "['Autocor_length' 'Beyond1Std' 'CAR_mean' 'CAR_sigma' 'CAR_tau' 'Con'\n",
      " 'LinearTrend' 'MaxSlope' 'Mean' 'Meanvariance' 'MedianAbsDev' 'MedianBRP'\n",
      " 'PairSlopeTrend' 'PercentAmplitude' 'Q31' 'Rcs' 'Skew' 'SlottedA_length'\n",
      " 'SmallKurtosis' 'Std' 'StetsonK_AC'] [ 1.24000000e+02  4.11247803e-01  1.17667377e+05  1.00000000e+01\n",
      "  5.00000000e-01  0.00000000e+00 -2.74402820e-01             inf\n",
      "  5.88336884e+04  1.59350162e-06  8.11330000e-02  1.98594025e-01\n",
      "  9.66666667e-01  2.75325251e-06  1.62059000e-01  4.33230910e-01\n",
      " -2.02126102e-03             nan -1.19586432e+00  9.37515776e-02\n",
      "             nan]\n"
     ]
    },
    {
     "name": "stderr",
     "output_type": "stream",
     "text": [
      "/Users/swebb/opt/anaconda3/lib/python3.9/site-packages/numpy/core/fromnumeric.py:3419: RuntimeWarning: Mean of empty slice.\n",
      "  return _methods._mean(a, axis=axis, dtype=dtype,\n",
      "/Users/swebb/opt/anaconda3/lib/python3.9/site-packages/numpy/core/_methods.py:188: RuntimeWarning: invalid value encountered in double_scalars\n",
      "  ret = ret.dtype.type(ret / rcount)\n",
      "/Users/swebb/opt/anaconda3/lib/python3.9/site-packages/numpy/core/_methods.py:261: RuntimeWarning: Degrees of freedom <= 0 for slice\n",
      "  ret = _var(a, axis=axis, dtype=dtype, out=out, ddof=ddof,\n",
      "/Users/swebb/opt/anaconda3/lib/python3.9/site-packages/numpy/core/_methods.py:221: RuntimeWarning: invalid value encountered in true_divide\n",
      "  arrmean = um.true_divide(arrmean, div, out=arrmean, casting='unsafe',\n",
      "/Users/swebb/opt/anaconda3/lib/python3.9/site-packages/numpy/core/_methods.py:253: RuntimeWarning: invalid value encountered in double_scalars\n",
      "  ret = ret.dtype.type(ret / rcount)\n",
      "/Users/swebb/opt/anaconda3/lib/python3.9/site-packages/feets/extractors/ext_stetson.py:247: RuntimeWarning: divide by zero encountered in double_scalars\n",
      "  K = (1 / np.sqrt(N_autocor * 1.0) *\n",
      "/Users/swebb/opt/anaconda3/lib/python3.9/site-packages/feets/extractors/ext_stetson.py:247: RuntimeWarning: invalid value encountered in double_scalars\n",
      "  K = (1 / np.sqrt(N_autocor * 1.0) *\n",
      "/var/folders/rw/x2cf5q4d4pb3gjtnt9b1qkbx3lm9jr/T/ipykernel_73733/1328582039.py:118: RuntimeWarning: divide by zero encountered in double_scalars\n",
      "  phase_2_1 = phase2/phase1\n",
      "/var/folders/rw/x2cf5q4d4pb3gjtnt9b1qkbx3lm9jr/T/ipykernel_73733/1328582039.py:119: RuntimeWarning: divide by zero encountered in double_scalars\n",
      "  phase_3_1 = phase3/phase1\n"
     ]
    },
    {
     "name": "stdout",
     "output_type": "stream",
     "text": [
      "['Autocor_length' 'Beyond1Std' 'CAR_mean' 'CAR_sigma' 'CAR_tau' 'Con'\n",
      " 'LinearTrend' 'MaxSlope' 'Mean' 'Meanvariance' 'MedianAbsDev' 'MedianBRP'\n",
      " 'PairSlopeTrend' 'PercentAmplitude' 'Q31' 'Rcs' 'Skew' 'SlottedA_length'\n",
      " 'SmallKurtosis' 'Std' 'StetsonK_AC'] [ 1.25000000e+02  4.21052632e-01  1.17667376e+05  1.00000000e+01\n",
      "  5.00000000e-01  0.00000000e+00  1.12145859e+00             inf\n",
      "  5.88336882e+04  1.59349126e-06  8.13110000e-02  1.98245614e-01\n",
      "  9.66666667e-01  2.75752728e-06  1.62340750e-01  4.33347058e-01\n",
      "  1.49098131e-03             nan -1.19727335e+00  9.37509679e-02\n",
      "             nan]\n"
     ]
    },
    {
     "name": "stderr",
     "output_type": "stream",
     "text": [
      "/Users/swebb/opt/anaconda3/lib/python3.9/site-packages/numpy/core/fromnumeric.py:3419: RuntimeWarning: Mean of empty slice.\n",
      "  return _methods._mean(a, axis=axis, dtype=dtype,\n",
      "/Users/swebb/opt/anaconda3/lib/python3.9/site-packages/numpy/core/_methods.py:188: RuntimeWarning: invalid value encountered in double_scalars\n",
      "  ret = ret.dtype.type(ret / rcount)\n",
      "/Users/swebb/opt/anaconda3/lib/python3.9/site-packages/numpy/core/_methods.py:261: RuntimeWarning: Degrees of freedom <= 0 for slice\n",
      "  ret = _var(a, axis=axis, dtype=dtype, out=out, ddof=ddof,\n",
      "/Users/swebb/opt/anaconda3/lib/python3.9/site-packages/numpy/core/_methods.py:221: RuntimeWarning: invalid value encountered in true_divide\n",
      "  arrmean = um.true_divide(arrmean, div, out=arrmean, casting='unsafe',\n",
      "/Users/swebb/opt/anaconda3/lib/python3.9/site-packages/numpy/core/_methods.py:253: RuntimeWarning: invalid value encountered in double_scalars\n",
      "  ret = ret.dtype.type(ret / rcount)\n",
      "/Users/swebb/opt/anaconda3/lib/python3.9/site-packages/feets/extractors/ext_stetson.py:247: RuntimeWarning: divide by zero encountered in double_scalars\n",
      "  K = (1 / np.sqrt(N_autocor * 1.0) *\n",
      "/Users/swebb/opt/anaconda3/lib/python3.9/site-packages/feets/extractors/ext_stetson.py:247: RuntimeWarning: invalid value encountered in double_scalars\n",
      "  K = (1 / np.sqrt(N_autocor * 1.0) *\n",
      "/Users/swebb/opt/anaconda3/lib/python3.9/site-packages/statsmodels/tsa/stattools.py:667: FutureWarning: fft=True will become the default after the release of the 0.12 release of statsmodels. To suppress this warning, explicitly set fft=False.\n",
      "  warnings.warn(\n",
      "/var/folders/rw/x2cf5q4d4pb3gjtnt9b1qkbx3lm9jr/T/ipykernel_73733/1328582039.py:118: RuntimeWarning: divide by zero encountered in double_scalars\n",
      "  phase_2_1 = phase2/phase1\n",
      "/var/folders/rw/x2cf5q4d4pb3gjtnt9b1qkbx3lm9jr/T/ipykernel_73733/1328582039.py:119: RuntimeWarning: divide by zero encountered in double_scalars\n",
      "  phase_3_1 = phase3/phase1\n",
      "/Users/swebb/opt/anaconda3/lib/python3.9/site-packages/feets/extractors/ext_max_slope.py:91: RuntimeWarning: divide by zero encountered in true_divide\n",
      "  slope = np.abs(magnitude[1:] - magnitude[:-1]) / (time[1:] - time[:-1])\n"
     ]
    },
    {
     "name": "stdout",
     "output_type": "stream",
     "text": [
      "['Autocor_length' 'Beyond1Std' 'CAR_mean' 'CAR_sigma' 'CAR_tau' 'Con'\n",
      " 'LinearTrend' 'MaxSlope' 'Mean' 'Meanvariance' 'MedianAbsDev' 'MedianBRP'\n",
      " 'PairSlopeTrend' 'PercentAmplitude' 'Q31' 'Rcs' 'Skew' 'SlottedA_length'\n",
      " 'SmallKurtosis' 'Std' 'StetsonK_AC'] [ 1.24000000e+02  4.04217926e-01  1.17667376e+05  1.00000000e+01\n",
      "  5.00000000e-01  0.00000000e+00 -2.53825639e-01  1.30126000e+05\n",
      "  5.88336882e+04  1.59456865e-06  8.14740000e-02  1.98594025e-01\n",
      "  9.66666667e-01  2.76236296e-06  1.62622000e-01  4.33393542e-01\n",
      "  3.82358065e-03             nan -1.19906973e+00  9.38143549e-02\n",
      "             nan]\n"
     ]
    },
    {
     "name": "stderr",
     "output_type": "stream",
     "text": [
      "/Users/swebb/opt/anaconda3/lib/python3.9/site-packages/statsmodels/tsa/stattools.py:667: FutureWarning: fft=True will become the default after the release of the 0.12 release of statsmodels. To suppress this warning, explicitly set fft=False.\n",
      "  warnings.warn(\n",
      "/var/folders/rw/x2cf5q4d4pb3gjtnt9b1qkbx3lm9jr/T/ipykernel_73733/1328582039.py:118: RuntimeWarning: divide by zero encountered in double_scalars\n",
      "  phase_2_1 = phase2/phase1\n",
      "/var/folders/rw/x2cf5q4d4pb3gjtnt9b1qkbx3lm9jr/T/ipykernel_73733/1328582039.py:119: RuntimeWarning: divide by zero encountered in double_scalars\n",
      "  phase_3_1 = phase3/phase1\n"
     ]
    },
    {
     "name": "stdout",
     "output_type": "stream",
     "text": [
      "['Autocor_length' 'Beyond1Std' 'CAR_mean' 'CAR_sigma' 'CAR_tau' 'Con'\n",
      " 'LinearTrend' 'MaxSlope' 'Mean' 'Meanvariance' 'MedianAbsDev' 'MedianBRP'\n",
      " 'PairSlopeTrend' 'PercentAmplitude' 'Q31' 'Rcs' 'Skew' 'SlottedA_length'\n",
      " 'SmallKurtosis' 'Std' 'StetsonK_AC'] [ 1.24000000e+02  4.10934744e-01  1.17667378e+05  1.00000000e+01\n",
      "  5.00000000e-01  0.00000000e+00 -1.17392811e-01             inf\n",
      "  5.88336888e+04  1.59270213e-06  8.09280000e-02  1.99294533e-01\n",
      "  9.66666667e-01  2.76285582e-06  1.61489500e-01  4.32980657e-01\n",
      " -8.85040368e-03             nan -1.19164240e+00  9.37045415e-02\n",
      "  1.00000000e+00]\n"
     ]
    },
    {
     "name": "stderr",
     "output_type": "stream",
     "text": [
      "/Users/swebb/opt/anaconda3/lib/python3.9/site-packages/statsmodels/tsa/stattools.py:667: FutureWarning: fft=True will become the default after the release of the 0.12 release of statsmodels. To suppress this warning, explicitly set fft=False.\n",
      "  warnings.warn(\n",
      "/var/folders/rw/x2cf5q4d4pb3gjtnt9b1qkbx3lm9jr/T/ipykernel_73733/1328582039.py:118: RuntimeWarning: divide by zero encountered in double_scalars\n",
      "  phase_2_1 = phase2/phase1\n",
      "/var/folders/rw/x2cf5q4d4pb3gjtnt9b1qkbx3lm9jr/T/ipykernel_73733/1328582039.py:119: RuntimeWarning: divide by zero encountered in double_scalars\n",
      "  phase_3_1 = phase3/phase1\n"
     ]
    },
    {
     "name": "stdout",
     "output_type": "stream",
     "text": [
      "['Autocor_length' 'Beyond1Std' 'CAR_mean' 'CAR_sigma' 'CAR_tau' 'Con'\n",
      " 'LinearTrend' 'MaxSlope' 'Mean' 'Meanvariance' 'MedianAbsDev' 'MedianBRP'\n",
      " 'PairSlopeTrend' 'PercentAmplitude' 'Q31' 'Rcs' 'Skew' 'SlottedA_length'\n",
      " 'SmallKurtosis' 'Std' 'StetsonK_AC'] [ 1.25000000e+02  4.22807018e-01  1.17667376e+05  1.00000000e+01\n",
      "  5.00000000e-01  0.00000000e+00 -3.16656076e-01  5.75062500e+03\n",
      "  5.88336882e+04  1.59349126e-06  8.13110000e-02  1.98245614e-01\n",
      "  9.66666667e-01  2.75752728e-06  1.62340750e-01  4.33347058e-01\n",
      "  1.49098131e-03  1.00000000e+00 -1.19727335e+00  9.37509679e-02\n",
      "  1.00000000e+00]\n"
     ]
    },
    {
     "name": "stderr",
     "output_type": "stream",
     "text": [
      "/Users/swebb/opt/anaconda3/lib/python3.9/site-packages/statsmodels/tsa/stattools.py:667: FutureWarning: fft=True will become the default after the release of the 0.12 release of statsmodels. To suppress this warning, explicitly set fft=False.\n",
      "  warnings.warn(\n",
      "/Users/swebb/opt/anaconda3/lib/python3.9/site-packages/numpy/core/fromnumeric.py:3419: RuntimeWarning: Mean of empty slice.\n",
      "  return _methods._mean(a, axis=axis, dtype=dtype,\n",
      "/Users/swebb/opt/anaconda3/lib/python3.9/site-packages/numpy/core/_methods.py:188: RuntimeWarning: invalid value encountered in double_scalars\n",
      "  ret = ret.dtype.type(ret / rcount)\n",
      "/Users/swebb/opt/anaconda3/lib/python3.9/site-packages/numpy/core/_methods.py:261: RuntimeWarning: Degrees of freedom <= 0 for slice\n",
      "  ret = _var(a, axis=axis, dtype=dtype, out=out, ddof=ddof,\n",
      "/Users/swebb/opt/anaconda3/lib/python3.9/site-packages/numpy/core/_methods.py:221: RuntimeWarning: invalid value encountered in true_divide\n",
      "  arrmean = um.true_divide(arrmean, div, out=arrmean, casting='unsafe',\n",
      "/Users/swebb/opt/anaconda3/lib/python3.9/site-packages/numpy/core/_methods.py:253: RuntimeWarning: invalid value encountered in double_scalars\n",
      "  ret = ret.dtype.type(ret / rcount)\n",
      "/Users/swebb/opt/anaconda3/lib/python3.9/site-packages/feets/extractors/ext_stetson.py:247: RuntimeWarning: divide by zero encountered in double_scalars\n",
      "  K = (1 / np.sqrt(N_autocor * 1.0) *\n",
      "/Users/swebb/opt/anaconda3/lib/python3.9/site-packages/feets/extractors/ext_stetson.py:247: RuntimeWarning: invalid value encountered in double_scalars\n",
      "  K = (1 / np.sqrt(N_autocor * 1.0) *\n",
      "/var/folders/rw/x2cf5q4d4pb3gjtnt9b1qkbx3lm9jr/T/ipykernel_73733/1328582039.py:118: RuntimeWarning: divide by zero encountered in double_scalars\n",
      "  phase_2_1 = phase2/phase1\n",
      "/var/folders/rw/x2cf5q4d4pb3gjtnt9b1qkbx3lm9jr/T/ipykernel_73733/1328582039.py:119: RuntimeWarning: divide by zero encountered in double_scalars\n",
      "  phase_3_1 = phase3/phase1\n"
     ]
    },
    {
     "name": "stdout",
     "output_type": "stream",
     "text": [
      "['Autocor_length' 'Beyond1Std' 'CAR_mean' 'CAR_sigma' 'CAR_tau' 'Con'\n",
      " 'LinearTrend' 'MaxSlope' 'Mean' 'Meanvariance' 'MedianAbsDev' 'MedianBRP'\n",
      " 'PairSlopeTrend' 'PercentAmplitude' 'Q31' 'Rcs' 'Skew' 'SlottedA_length'\n",
      " 'SmallKurtosis' 'Std' 'StetsonK_AC'] [ 1.24000000e+02  4.18277680e-01  1.17667377e+05  1.00000000e+01\n",
      "  5.00000000e-01  0.00000000e+00 -1.01178243e+00  2.36008000e+05\n",
      "  5.88336884e+04  1.59285054e-06  8.11330000e-02  1.98594025e-01\n",
      "  9.66666667e-01  2.75325251e-06  1.62059000e-01  4.33223022e-01\n",
      " -1.77879523e-03             nan -1.19491719e+00  9.37132724e-02\n",
      "             nan]\n"
     ]
    },
    {
     "name": "stderr",
     "output_type": "stream",
     "text": [
      "/Users/swebb/opt/anaconda3/lib/python3.9/site-packages/feets/extractors/ext_max_slope.py:91: RuntimeWarning: divide by zero encountered in true_divide\n",
      "  slope = np.abs(magnitude[1:] - magnitude[:-1]) / (time[1:] - time[:-1])\n",
      "/Users/swebb/opt/anaconda3/lib/python3.9/site-packages/numpy/core/fromnumeric.py:3419: RuntimeWarning: Mean of empty slice.\n",
      "  return _methods._mean(a, axis=axis, dtype=dtype,\n",
      "/Users/swebb/opt/anaconda3/lib/python3.9/site-packages/numpy/core/_methods.py:188: RuntimeWarning: invalid value encountered in double_scalars\n",
      "  ret = ret.dtype.type(ret / rcount)\n",
      "/Users/swebb/opt/anaconda3/lib/python3.9/site-packages/numpy/core/_methods.py:261: RuntimeWarning: Degrees of freedom <= 0 for slice\n",
      "  ret = _var(a, axis=axis, dtype=dtype, out=out, ddof=ddof,\n",
      "/Users/swebb/opt/anaconda3/lib/python3.9/site-packages/numpy/core/_methods.py:221: RuntimeWarning: invalid value encountered in true_divide\n",
      "  arrmean = um.true_divide(arrmean, div, out=arrmean, casting='unsafe',\n",
      "/Users/swebb/opt/anaconda3/lib/python3.9/site-packages/numpy/core/_methods.py:253: RuntimeWarning: invalid value encountered in double_scalars\n",
      "  ret = ret.dtype.type(ret / rcount)\n",
      "/Users/swebb/opt/anaconda3/lib/python3.9/site-packages/feets/extractors/ext_stetson.py:247: RuntimeWarning: divide by zero encountered in double_scalars\n",
      "  K = (1 / np.sqrt(N_autocor * 1.0) *\n",
      "/Users/swebb/opt/anaconda3/lib/python3.9/site-packages/feets/extractors/ext_stetson.py:247: RuntimeWarning: invalid value encountered in double_scalars\n",
      "  K = (1 / np.sqrt(N_autocor * 1.0) *\n",
      "/var/folders/rw/x2cf5q4d4pb3gjtnt9b1qkbx3lm9jr/T/ipykernel_73733/1328582039.py:118: RuntimeWarning: divide by zero encountered in double_scalars\n",
      "  phase_2_1 = phase2/phase1\n",
      "/var/folders/rw/x2cf5q4d4pb3gjtnt9b1qkbx3lm9jr/T/ipykernel_73733/1328582039.py:119: RuntimeWarning: divide by zero encountered in double_scalars\n",
      "  phase_3_1 = phase3/phase1\n",
      "/Users/swebb/opt/anaconda3/lib/python3.9/site-packages/statsmodels/tsa/stattools.py:667: FutureWarning: fft=True will become the default after the release of the 0.12 release of statsmodels. To suppress this warning, explicitly set fft=False.\n",
      "  warnings.warn(\n"
     ]
    },
    {
     "name": "stdout",
     "output_type": "stream",
     "text": [
      "['Autocor_length' 'Beyond1Std' 'CAR_mean' 'CAR_sigma' 'CAR_tau' 'Con'\n",
      " 'LinearTrend' 'MaxSlope' 'Mean' 'Meanvariance' 'MedianAbsDev' 'MedianBRP'\n",
      " 'PairSlopeTrend' 'PercentAmplitude' 'Q31' 'Rcs' 'Skew' 'SlottedA_length'\n",
      " 'SmallKurtosis' 'Std' 'StetsonK_AC'] [ 1.24000000e+02  4.07732865e-01  1.17667377e+05  1.00000000e+01\n",
      "  5.00000000e-01  0.00000000e+00 -4.00682367e-01             inf\n",
      "  5.88336885e+04  1.59228668e-06  8.11330000e-02  1.98594025e-01\n",
      "  9.66666667e-01  2.75325251e-06  1.62059000e-01  4.33239143e-01\n",
      " -1.23633034e-03             nan -1.19472156e+00  9.36800987e-02\n",
      "             nan]\n"
     ]
    },
    {
     "name": "stderr",
     "output_type": "stream",
     "text": [
      "/Users/swebb/opt/anaconda3/lib/python3.9/site-packages/feets/extractors/ext_max_slope.py:91: RuntimeWarning: divide by zero encountered in true_divide\n",
      "  slope = np.abs(magnitude[1:] - magnitude[:-1]) / (time[1:] - time[:-1])\n",
      "/var/folders/rw/x2cf5q4d4pb3gjtnt9b1qkbx3lm9jr/T/ipykernel_73733/1328582039.py:118: RuntimeWarning: divide by zero encountered in double_scalars\n",
      "  phase_2_1 = phase2/phase1\n",
      "/var/folders/rw/x2cf5q4d4pb3gjtnt9b1qkbx3lm9jr/T/ipykernel_73733/1328582039.py:119: RuntimeWarning: divide by zero encountered in double_scalars\n",
      "  phase_3_1 = phase3/phase1\n"
     ]
    },
    {
     "name": "stdout",
     "output_type": "stream",
     "text": [
      "['Autocor_length' 'Beyond1Std' 'CAR_mean' 'CAR_sigma' 'CAR_tau' 'Con'\n",
      " 'LinearTrend' 'MaxSlope' 'Mean' 'Meanvariance' 'MedianAbsDev' 'MedianBRP'\n",
      " 'PairSlopeTrend' 'PercentAmplitude' 'Q31' 'Rcs' 'Skew' 'SlottedA_length'\n",
      " 'SmallKurtosis' 'Std' 'StetsonK_AC'] [ 1.24000000e+02  4.14462081e-01  1.17667378e+05  1.00000000e+01\n",
      "  5.00000000e-01  0.00000000e+00 -1.94209428e-01             inf\n",
      "  5.88336888e+04  1.59253250e-06  8.09280000e-02  1.99294533e-01\n",
      "  9.66666667e-01  2.76285582e-06  1.61489500e-01  4.32978729e-01\n",
      " -8.78538877e-03  1.00000000e+00 -1.19139714e+00  9.36945617e-02\n",
      "  1.00000000e+00]\n"
     ]
    },
    {
     "name": "stderr",
     "output_type": "stream",
     "text": [
      "/Users/swebb/opt/anaconda3/lib/python3.9/site-packages/statsmodels/tsa/stattools.py:667: FutureWarning: fft=True will become the default after the release of the 0.12 release of statsmodels. To suppress this warning, explicitly set fft=False.\n",
      "  warnings.warn(\n",
      "/var/folders/rw/x2cf5q4d4pb3gjtnt9b1qkbx3lm9jr/T/ipykernel_73733/1328582039.py:118: RuntimeWarning: divide by zero encountered in double_scalars\n",
      "  phase_2_1 = phase2/phase1\n",
      "/var/folders/rw/x2cf5q4d4pb3gjtnt9b1qkbx3lm9jr/T/ipykernel_73733/1328582039.py:119: RuntimeWarning: divide by zero encountered in double_scalars\n",
      "  phase_3_1 = phase3/phase1\n",
      "/Users/swebb/opt/anaconda3/lib/python3.9/site-packages/feets/extractors/ext_max_slope.py:91: RuntimeWarning: divide by zero encountered in true_divide\n",
      "  slope = np.abs(magnitude[1:] - magnitude[:-1]) / (time[1:] - time[:-1])\n"
     ]
    },
    {
     "name": "stdout",
     "output_type": "stream",
     "text": [
      "['Autocor_length' 'Beyond1Std' 'CAR_mean' 'CAR_sigma' 'CAR_tau' 'Con'\n",
      " 'LinearTrend' 'MaxSlope' 'Mean' 'Meanvariance' 'MedianAbsDev' 'MedianBRP'\n",
      " 'PairSlopeTrend' 'PercentAmplitude' 'Q31' 'Rcs' 'Skew' 'SlottedA_length'\n",
      " 'SmallKurtosis' 'Std' 'StetsonK_AC'] [ 4.50000000e+01  4.22330097e-01  1.17667376e+05  1.00000000e+01\n",
      "  5.00000000e-01  0.00000000e+00 -3.32404534e-01  1.36053704e+03\n",
      "  5.88336878e+04  1.58403331e-06  8.42595000e-02  2.08737864e-01\n",
      "  9.66666667e-01  2.75321851e-06  1.67549500e-01  4.29111478e-01\n",
      " -1.02499100e-02  1.00000000e+00 -1.13654373e+00  9.31945213e-02\n",
      "  1.00000000e+00]\n",
      "['Autocor_length' 'Beyond1Std' 'CAR_mean' 'CAR_sigma' 'CAR_tau' 'Con'\n",
      " 'LinearTrend' 'MaxSlope' 'Mean' 'Meanvariance' 'MedianAbsDev' 'MedianBRP'\n",
      " 'PairSlopeTrend' 'PercentAmplitude' 'Q31' 'Rcs' 'Skew' 'SlottedA_length'\n",
      " 'SmallKurtosis' 'Std' 'StetsonK_AC'] [ 1.24000000e+02  4.05975395e-01  1.17667377e+05  1.00000000e+01\n",
      "  5.00000000e-01  0.00000000e+00 -3.18941263e-04             inf\n",
      "  5.88336884e+04  1.59285054e-06  8.11330000e-02  1.98594025e-01\n",
      "  9.66666667e-01  2.75325251e-06  1.62059000e-01  4.33223022e-01\n",
      " -1.77879523e-03  1.00000000e+00 -1.19491719e+00  9.37132724e-02\n",
      "  1.00000000e+00]\n"
     ]
    },
    {
     "name": "stderr",
     "output_type": "stream",
     "text": [
      "/var/folders/rw/x2cf5q4d4pb3gjtnt9b1qkbx3lm9jr/T/ipykernel_73733/1328582039.py:118: RuntimeWarning: divide by zero encountered in double_scalars\n",
      "  phase_2_1 = phase2/phase1\n",
      "/var/folders/rw/x2cf5q4d4pb3gjtnt9b1qkbx3lm9jr/T/ipykernel_73733/1328582039.py:119: RuntimeWarning: divide by zero encountered in double_scalars\n",
      "  phase_3_1 = phase3/phase1\n",
      "/Users/swebb/opt/anaconda3/lib/python3.9/site-packages/statsmodels/tsa/stattools.py:667: FutureWarning: fft=True will become the default after the release of the 0.12 release of statsmodels. To suppress this warning, explicitly set fft=False.\n",
      "  warnings.warn(\n",
      "/Users/swebb/opt/anaconda3/lib/python3.9/site-packages/numpy/core/fromnumeric.py:3419: RuntimeWarning: Mean of empty slice.\n",
      "  return _methods._mean(a, axis=axis, dtype=dtype,\n",
      "/Users/swebb/opt/anaconda3/lib/python3.9/site-packages/numpy/core/_methods.py:188: RuntimeWarning: invalid value encountered in double_scalars\n",
      "  ret = ret.dtype.type(ret / rcount)\n",
      "/Users/swebb/opt/anaconda3/lib/python3.9/site-packages/numpy/core/_methods.py:261: RuntimeWarning: Degrees of freedom <= 0 for slice\n",
      "  ret = _var(a, axis=axis, dtype=dtype, out=out, ddof=ddof,\n",
      "/Users/swebb/opt/anaconda3/lib/python3.9/site-packages/numpy/core/_methods.py:221: RuntimeWarning: invalid value encountered in true_divide\n",
      "  arrmean = um.true_divide(arrmean, div, out=arrmean, casting='unsafe',\n",
      "/Users/swebb/opt/anaconda3/lib/python3.9/site-packages/numpy/core/_methods.py:253: RuntimeWarning: invalid value encountered in double_scalars\n",
      "  ret = ret.dtype.type(ret / rcount)\n",
      "/Users/swebb/opt/anaconda3/lib/python3.9/site-packages/feets/extractors/ext_stetson.py:247: RuntimeWarning: divide by zero encountered in double_scalars\n",
      "  K = (1 / np.sqrt(N_autocor * 1.0) *\n",
      "/Users/swebb/opt/anaconda3/lib/python3.9/site-packages/feets/extractors/ext_stetson.py:247: RuntimeWarning: invalid value encountered in double_scalars\n",
      "  K = (1 / np.sqrt(N_autocor * 1.0) *\n"
     ]
    },
    {
     "name": "stdout",
     "output_type": "stream",
     "text": [
      "['Autocor_length' 'Beyond1Std' 'CAR_mean' 'CAR_sigma' 'CAR_tau' 'Con'\n",
      " 'LinearTrend' 'MaxSlope' 'Mean' 'Meanvariance' 'MedianAbsDev' 'MedianBRP'\n",
      " 'PairSlopeTrend' 'PercentAmplitude' 'Q31' 'Rcs' 'Skew' 'SlottedA_length'\n",
      " 'SmallKurtosis' 'Std' 'StetsonK_AC'] [ 1.24000000e+02  4.04929577e-01  1.17667378e+05  1.00000000e+01\n",
      "  5.00000000e-01  0.00000000e+00  2.65075523e-01  2.15543000e+05\n",
      "  5.88336888e+04  1.58839111e-06  8.10295000e-02  1.98943662e-01\n",
      "  9.66666667e-01  2.75805417e-06  1.61779000e-01  4.33309330e-01\n",
      "  4.64571106e-04             nan -1.19593081e+00  9.34509085e-02\n",
      "             nan]\n"
     ]
    },
    {
     "name": "stderr",
     "output_type": "stream",
     "text": [
      "/var/folders/rw/x2cf5q4d4pb3gjtnt9b1qkbx3lm9jr/T/ipykernel_73733/1328582039.py:118: RuntimeWarning: divide by zero encountered in double_scalars\n",
      "  phase_2_1 = phase2/phase1\n",
      "/var/folders/rw/x2cf5q4d4pb3gjtnt9b1qkbx3lm9jr/T/ipykernel_73733/1328582039.py:119: RuntimeWarning: divide by zero encountered in double_scalars\n",
      "  phase_3_1 = phase3/phase1\n",
      "/Users/swebb/opt/anaconda3/lib/python3.9/site-packages/statsmodels/tsa/stattools.py:667: FutureWarning: fft=True will become the default after the release of the 0.12 release of statsmodels. To suppress this warning, explicitly set fft=False.\n",
      "  warnings.warn(\n",
      "/Users/swebb/opt/anaconda3/lib/python3.9/site-packages/numpy/core/fromnumeric.py:3419: RuntimeWarning: Mean of empty slice.\n",
      "  return _methods._mean(a, axis=axis, dtype=dtype,\n",
      "/Users/swebb/opt/anaconda3/lib/python3.9/site-packages/numpy/core/_methods.py:188: RuntimeWarning: invalid value encountered in double_scalars\n",
      "  ret = ret.dtype.type(ret / rcount)\n",
      "/Users/swebb/opt/anaconda3/lib/python3.9/site-packages/numpy/core/_methods.py:261: RuntimeWarning: Degrees of freedom <= 0 for slice\n",
      "  ret = _var(a, axis=axis, dtype=dtype, out=out, ddof=ddof,\n",
      "/Users/swebb/opt/anaconda3/lib/python3.9/site-packages/numpy/core/_methods.py:221: RuntimeWarning: invalid value encountered in true_divide\n",
      "  arrmean = um.true_divide(arrmean, div, out=arrmean, casting='unsafe',\n",
      "/Users/swebb/opt/anaconda3/lib/python3.9/site-packages/numpy/core/_methods.py:253: RuntimeWarning: invalid value encountered in double_scalars\n",
      "  ret = ret.dtype.type(ret / rcount)\n",
      "/Users/swebb/opt/anaconda3/lib/python3.9/site-packages/feets/extractors/ext_stetson.py:247: RuntimeWarning: divide by zero encountered in double_scalars\n",
      "  K = (1 / np.sqrt(N_autocor * 1.0) *\n",
      "/Users/swebb/opt/anaconda3/lib/python3.9/site-packages/feets/extractors/ext_stetson.py:247: RuntimeWarning: invalid value encountered in double_scalars\n",
      "  K = (1 / np.sqrt(N_autocor * 1.0) *\n"
     ]
    },
    {
     "name": "stdout",
     "output_type": "stream",
     "text": [
      "['Autocor_length' 'Beyond1Std' 'CAR_mean' 'CAR_sigma' 'CAR_tau' 'Con'\n",
      " 'LinearTrend' 'MaxSlope' 'Mean' 'Meanvariance' 'MedianAbsDev' 'MedianBRP'\n",
      " 'PairSlopeTrend' 'PercentAmplitude' 'Q31' 'Rcs' 'Skew' 'SlottedA_length'\n",
      " 'SmallKurtosis' 'Std' 'StetsonK_AC'] [ 1.25000000e+02  4.07017544e-01  1.17667376e+05  1.00000000e+01\n",
      "  5.00000000e-01  0.00000000e+00  7.80917003e-01  2.29489231e+04\n",
      "  5.88336882e+04  1.59349126e-06  8.13110000e-02  1.98245614e-01\n",
      "  9.66666667e-01  2.75752728e-06  1.62340750e-01  4.33347058e-01\n",
      "  1.49098131e-03             nan -1.19727335e+00  9.37509679e-02\n",
      "             nan]\n"
     ]
    },
    {
     "name": "stderr",
     "output_type": "stream",
     "text": [
      "/var/folders/rw/x2cf5q4d4pb3gjtnt9b1qkbx3lm9jr/T/ipykernel_73733/1328582039.py:118: RuntimeWarning: divide by zero encountered in double_scalars\n",
      "  phase_2_1 = phase2/phase1\n",
      "/var/folders/rw/x2cf5q4d4pb3gjtnt9b1qkbx3lm9jr/T/ipykernel_73733/1328582039.py:119: RuntimeWarning: divide by zero encountered in double_scalars\n",
      "  phase_3_1 = phase3/phase1\n",
      "/Users/swebb/opt/anaconda3/lib/python3.9/site-packages/feets/extractors/ext_max_slope.py:91: RuntimeWarning: divide by zero encountered in true_divide\n",
      "  slope = np.abs(magnitude[1:] - magnitude[:-1]) / (time[1:] - time[:-1])\n",
      "/Users/swebb/opt/anaconda3/lib/python3.9/site-packages/statsmodels/tsa/stattools.py:667: FutureWarning: fft=True will become the default after the release of the 0.12 release of statsmodels. To suppress this warning, explicitly set fft=False.\n",
      "  warnings.warn(\n",
      "/Users/swebb/opt/anaconda3/lib/python3.9/site-packages/numpy/core/fromnumeric.py:3419: RuntimeWarning: Mean of empty slice.\n",
      "  return _methods._mean(a, axis=axis, dtype=dtype,\n",
      "/Users/swebb/opt/anaconda3/lib/python3.9/site-packages/numpy/core/_methods.py:188: RuntimeWarning: invalid value encountered in double_scalars\n",
      "  ret = ret.dtype.type(ret / rcount)\n",
      "/Users/swebb/opt/anaconda3/lib/python3.9/site-packages/numpy/core/_methods.py:261: RuntimeWarning: Degrees of freedom <= 0 for slice\n",
      "  ret = _var(a, axis=axis, dtype=dtype, out=out, ddof=ddof,\n",
      "/Users/swebb/opt/anaconda3/lib/python3.9/site-packages/numpy/core/_methods.py:221: RuntimeWarning: invalid value encountered in true_divide\n",
      "  arrmean = um.true_divide(arrmean, div, out=arrmean, casting='unsafe',\n",
      "/Users/swebb/opt/anaconda3/lib/python3.9/site-packages/numpy/core/_methods.py:253: RuntimeWarning: invalid value encountered in double_scalars\n",
      "  ret = ret.dtype.type(ret / rcount)\n",
      "/Users/swebb/opt/anaconda3/lib/python3.9/site-packages/feets/extractors/ext_stetson.py:247: RuntimeWarning: divide by zero encountered in double_scalars\n",
      "  K = (1 / np.sqrt(N_autocor * 1.0) *\n",
      "/Users/swebb/opt/anaconda3/lib/python3.9/site-packages/feets/extractors/ext_stetson.py:247: RuntimeWarning: invalid value encountered in double_scalars\n",
      "  K = (1 / np.sqrt(N_autocor * 1.0) *\n",
      "/var/folders/rw/x2cf5q4d4pb3gjtnt9b1qkbx3lm9jr/T/ipykernel_73733/1328582039.py:118: RuntimeWarning: divide by zero encountered in double_scalars\n",
      "  phase_2_1 = phase2/phase1\n",
      "/var/folders/rw/x2cf5q4d4pb3gjtnt9b1qkbx3lm9jr/T/ipykernel_73733/1328582039.py:119: RuntimeWarning: divide by zero encountered in double_scalars\n",
      "  phase_3_1 = phase3/phase1\n"
     ]
    },
    {
     "name": "stdout",
     "output_type": "stream",
     "text": [
      "['Autocor_length' 'Beyond1Std' 'CAR_mean' 'CAR_sigma' 'CAR_tau' 'Con'\n",
      " 'LinearTrend' 'MaxSlope' 'Mean' 'Meanvariance' 'MedianAbsDev' 'MedianBRP'\n",
      " 'PairSlopeTrend' 'PercentAmplitude' 'Q31' 'Rcs' 'Skew' 'SlottedA_length'\n",
      " 'SmallKurtosis' 'Std' 'StetsonK_AC'] [ 1.24000000e+02  4.03169014e-01  1.17667377e+05  1.00000000e+01\n",
      "  5.00000000e-01  0.00000000e+00 -1.66867664e-01             inf\n",
      "  5.88336884e+04  1.59564317e-06  8.15955000e-02  1.97183099e-01\n",
      "  9.66666667e-01  2.75805417e-06  1.62902750e-01  4.33580790e-01\n",
      " -2.20670412e-03             nan -1.20102521e+00  9.38775732e-02\n",
      "             nan]\n"
     ]
    },
    {
     "name": "stderr",
     "output_type": "stream",
     "text": [
      "/Users/swebb/opt/anaconda3/lib/python3.9/site-packages/feets/extractors/ext_max_slope.py:91: RuntimeWarning: divide by zero encountered in true_divide\n",
      "  slope = np.abs(magnitude[1:] - magnitude[:-1]) / (time[1:] - time[:-1])\n",
      "/var/folders/rw/x2cf5q4d4pb3gjtnt9b1qkbx3lm9jr/T/ipykernel_73733/1328582039.py:118: RuntimeWarning: divide by zero encountered in double_scalars\n",
      "  phase_2_1 = phase2/phase1\n",
      "/var/folders/rw/x2cf5q4d4pb3gjtnt9b1qkbx3lm9jr/T/ipykernel_73733/1328582039.py:119: RuntimeWarning: divide by zero encountered in double_scalars\n",
      "  phase_3_1 = phase3/phase1\n",
      "/Users/swebb/opt/anaconda3/lib/python3.9/site-packages/statsmodels/tsa/stattools.py:667: FutureWarning: fft=True will become the default after the release of the 0.12 release of statsmodels. To suppress this warning, explicitly set fft=False.\n",
      "  warnings.warn(\n"
     ]
    },
    {
     "name": "stdout",
     "output_type": "stream",
     "text": [
      "['Autocor_length' 'Beyond1Std' 'CAR_mean' 'CAR_sigma' 'CAR_tau' 'Con'\n",
      " 'LinearTrend' 'MaxSlope' 'Mean' 'Meanvariance' 'MedianAbsDev' 'MedianBRP'\n",
      " 'PairSlopeTrend' 'PercentAmplitude' 'Q31' 'Rcs' 'Skew' 'SlottedA_length'\n",
      " 'SmallKurtosis' 'Std' 'StetsonK_AC'] [ 1.24000000e+02  3.97188049e-01  1.17667377e+05  1.00000000e+01\n",
      "  5.00000000e-01  0.00000000e+00  5.76745926e-01             inf\n",
      "  5.88336884e+04  1.59285054e-06  8.11330000e-02  1.98594025e-01\n",
      "  9.66666667e-01  2.75325251e-06  1.62059000e-01  4.33223022e-01\n",
      " -1.77879523e-03  1.00000000e+00 -1.19491719e+00  9.37132724e-02\n",
      "  1.00000000e+00]\n",
      "['Autocor_length' 'Beyond1Std' 'CAR_mean' 'CAR_sigma' 'CAR_tau' 'Con'\n",
      " 'LinearTrend' 'MaxSlope' 'Mean' 'Meanvariance' 'MedianAbsDev' 'MedianBRP'\n",
      " 'PairSlopeTrend' 'PercentAmplitude' 'Q31' 'Rcs' 'Skew' 'SlottedA_length'\n",
      " 'SmallKurtosis' 'Std' 'StetsonK_AC'] [ 1.25000000e+02  4.14762742e-01  1.17667377e+05  1.00000000e+01\n",
      "  5.00000000e-01  0.00000000e+00 -5.41232132e-01             inf\n",
      "  5.88336883e+04  1.59488678e-06  8.14890000e-02  1.96836555e-01\n",
      "  9.66666667e-01  2.75325251e-06  1.62622000e-01  4.33681110e-01\n",
      "  1.20427319e-03             nan -1.20043442e+00  9.38330714e-02\n",
      "             nan]\n"
     ]
    },
    {
     "name": "stderr",
     "output_type": "stream",
     "text": [
      "/Users/swebb/opt/anaconda3/lib/python3.9/site-packages/feets/extractors/ext_max_slope.py:91: RuntimeWarning: divide by zero encountered in true_divide\n",
      "  slope = np.abs(magnitude[1:] - magnitude[:-1]) / (time[1:] - time[:-1])\n",
      "/Users/swebb/opt/anaconda3/lib/python3.9/site-packages/numpy/core/fromnumeric.py:3419: RuntimeWarning: Mean of empty slice.\n",
      "  return _methods._mean(a, axis=axis, dtype=dtype,\n",
      "/Users/swebb/opt/anaconda3/lib/python3.9/site-packages/numpy/core/_methods.py:188: RuntimeWarning: invalid value encountered in double_scalars\n",
      "  ret = ret.dtype.type(ret / rcount)\n",
      "/Users/swebb/opt/anaconda3/lib/python3.9/site-packages/numpy/core/_methods.py:261: RuntimeWarning: Degrees of freedom <= 0 for slice\n",
      "  ret = _var(a, axis=axis, dtype=dtype, out=out, ddof=ddof,\n",
      "/Users/swebb/opt/anaconda3/lib/python3.9/site-packages/numpy/core/_methods.py:221: RuntimeWarning: invalid value encountered in true_divide\n",
      "  arrmean = um.true_divide(arrmean, div, out=arrmean, casting='unsafe',\n",
      "/Users/swebb/opt/anaconda3/lib/python3.9/site-packages/numpy/core/_methods.py:253: RuntimeWarning: invalid value encountered in double_scalars\n",
      "  ret = ret.dtype.type(ret / rcount)\n",
      "/Users/swebb/opt/anaconda3/lib/python3.9/site-packages/feets/extractors/ext_stetson.py:247: RuntimeWarning: divide by zero encountered in double_scalars\n",
      "  K = (1 / np.sqrt(N_autocor * 1.0) *\n",
      "/Users/swebb/opt/anaconda3/lib/python3.9/site-packages/feets/extractors/ext_stetson.py:247: RuntimeWarning: invalid value encountered in double_scalars\n",
      "  K = (1 / np.sqrt(N_autocor * 1.0) *\n",
      "/var/folders/rw/x2cf5q4d4pb3gjtnt9b1qkbx3lm9jr/T/ipykernel_73733/1328582039.py:118: RuntimeWarning: divide by zero encountered in double_scalars\n",
      "  phase_2_1 = phase2/phase1\n",
      "/var/folders/rw/x2cf5q4d4pb3gjtnt9b1qkbx3lm9jr/T/ipykernel_73733/1328582039.py:119: RuntimeWarning: divide by zero encountered in double_scalars\n",
      "  phase_3_1 = phase3/phase1\n"
     ]
    },
    {
     "data": {
      "text/html": [
       "<div><i>Table length=70</i>\n",
       "<table id=\"table140326144379104\" class=\"table-striped table-bordered table-condensed\">\n",
       "<thead><tr><th>LC_name</th><th>Autocor_length</th><th>Beyond1Std</th><th>CAR_sigma</th><th>CAR_mean</th><th>CAR_tau</th><th>Con</th><th>LinearTrend</th><th>MaxSlope</th><th>Mean</th><th>Meanvariance</th><th>MedianAbsDev</th><th>MedianBRP</th><th>PairSlopeTrend</th><th>PercentAmplitude</th><th>Q31</th><th>Rcs</th><th>Skew</th><th>SlottedA_length</th><th>SmallKurtosis</th><th>Std</th><th>StetsonK_AC</th><th>Amplitudes</th><th>amp1</th><th>amp_2_1_ratio</th><th>amp_3_1_ratio</th></tr></thead>\n",
       "<thead><tr><th>str20</th><th>float64</th><th>float64</th><th>float64</th><th>float64</th><th>float64</th><th>float64</th><th>float64</th><th>float64</th><th>float64</th><th>float64</th><th>float64</th><th>float64</th><th>float64</th><th>float64</th><th>float64</th><th>float64</th><th>float64</th><th>float64</th><th>float64</th><th>float64</th><th>float64</th><th>float64</th><th>float64</th><th>float64</th><th>float64</th></tr></thead>\n",
       "<tr><td>exampledata_66.ascii</td><td>125.0</td><td>0.41228070175438597</td><td>10.0</td><td>117667.37648286665</td><td>0.5</td><td>0.0</td><td>-0.21936874011488844</td><td>inf</td><td>58833.68824143332</td><td>1.5934912576761697e-06</td><td>0.08131099999809521</td><td>0.19824561403508772</td><td>0.9666666666666667</td><td>2.7575272837000535e-06</td><td>0.1623407499937457</td><td>0.43334705836919707</td><td>0.001490981310478565</td><td>nan</td><td>-1.1972733490992156</td><td>0.09375096786956927</td><td>nan</td><td>0.06138900000000014</td><td>13868.276779</td><td>8.675300070789861e-05</td><td>0.0001690344465492537</td></tr>\n",
       "<tr><td>exampledata_23.ascii</td><td>122.0</td><td>0.4154676258992806</td><td>10.0</td><td>117667.37474147123</td><td>0.5</td><td>0.0</td><td>-0.2940667108485949</td><td>inf</td><td>58833.68737073561</td><td>1.5978685872744373e-06</td><td>0.08188149999841698</td><td>0.1906474820143885</td><td>0.9666666666666667</td><td>2.758054166055268e-06</td><td>0.16344725000089966</td><td>0.43488243438417573</td><td>0.003294518786411605</td><td>nan</td><td>-1.211920428025582</td><td>0.09400850092322321</td><td>nan</td><td>0.04709825000000123</td><td>13308.103790000001</td><td>9.282210645632661e-05</td><td>9.469947770980368e-05</td></tr>\n",
       "<tr><td>exampledata_42.ascii</td><td>124.0</td><td>0.40316901408450706</td><td>10.0</td><td>117667.37752905987</td><td>0.5</td><td>0.0</td><td>-0.4360080736630924</td><td>243221.9997473097</td><td>58833.688764529936</td><td>1.589221634448039e-06</td><td>0.08102950000102283</td><td>0.198943661971831</td><td>0.9666666666666667</td><td>2.758054166055268e-06</td><td>0.1617790000018431</td><td>0.4332421828408995</td><td>-0.0011518195624547103</td><td>nan</td><td>-1.1940386527878226</td><td>0.0934997710189735</td><td>nan</td><td>0.07902449999999916</td><td>14101.917163</td><td>0.00017990450527262774</td><td>0.00023227349760485605</td></tr>\n",
       "<tr><td>exampledata_3.ascii</td><td>125.0</td><td>0.42280701754385963</td><td>10.0</td><td>117667.37648286665</td><td>0.5</td><td>0.0</td><td>-0.6920598524705819</td><td>inf</td><td>58833.68824143332</td><td>1.5934912576761697e-06</td><td>0.08131099999809521</td><td>0.19824561403508772</td><td>0.9666666666666667</td><td>2.7575272837000535e-06</td><td>0.1623407499937457</td><td>0.43334705836919707</td><td>0.001490981310478565</td><td>nan</td><td>-1.1972733490992156</td><td>0.09375096786956927</td><td>nan</td><td>0.026773500000000894</td><td>11850.253225</td><td>0.00010963880755907312</td><td>0.00011952601306789401</td></tr>\n",
       "<tr><td>exampledata_38.ascii</td><td>125.0</td><td>0.40350877192982454</td><td>10.0</td><td>117667.37648286665</td><td>0.5</td><td>0.0</td><td>-0.41329704983616505</td><td>inf</td><td>58833.68824143332</td><td>1.5934912576761697e-06</td><td>0.08131099999809521</td><td>0.19824561403508772</td><td>0.9666666666666667</td><td>2.7575272837000535e-06</td><td>0.1623407499937457</td><td>0.43334705836919707</td><td>0.001490981310478565</td><td>nan</td><td>-1.1972733490992156</td><td>0.09375096786956927</td><td>nan</td><td>0.08790549999999975</td><td>14152.090897</td><td>0.0002728813600968077</td><td>0.00010790671953903722</td></tr>\n",
       "<tr><td>exampledata_1.ascii</td><td>125.0</td><td>0.42280701754385963</td><td>10.0</td><td>117667.37648286665</td><td>0.5</td><td>0.0</td><td>-0.9769359541868282</td><td>inf</td><td>58833.68824143332</td><td>1.5934912576761697e-06</td><td>0.08131099999809521</td><td>0.19824561403508772</td><td>0.9666666666666667</td><td>2.7575272837000535e-06</td><td>0.1623407499937457</td><td>0.43334705836919707</td><td>0.001490981310478565</td><td>nan</td><td>-1.1972733490992156</td><td>0.09375096786956927</td><td>nan</td><td>0.040118999999998906</td><td>12056.132897</td><td>0.00013173473334257874</td><td>0.00013013482516977248</td></tr>\n",
       "<tr><td>...</td><td>...</td><td>...</td><td>...</td><td>...</td><td>...</td><td>...</td><td>...</td><td>...</td><td>...</td><td>...</td><td>...</td><td>...</td><td>...</td><td>...</td><td>...</td><td>...</td><td>...</td><td>...</td><td>...</td><td>...</td><td>...</td><td>...</td><td>...</td><td>...</td><td>...</td></tr>\n",
       "<tr><td>exampledata_10.ascii</td><td>45.0</td><td>0.4223300970873786</td><td>10.0</td><td>117667.37552940777</td><td>0.5</td><td>0.0</td><td>-0.3324045338247155</td><td>1360.5370369851669</td><td>58833.687764703885</td><td>1.5840333126000162e-06</td><td>0.08425950000309967</td><td>0.2087378640776699</td><td>0.9666666666666667</td><td>2.7532185145521475e-06</td><td>0.16754950000176905</td><td>0.42911147831198737</td><td>-0.010249909971720478</td><td>1.0</td><td>-1.1365437336219446</td><td>0.09319452132239894</td><td>1.0</td><td>0.23412450000000007</td><td>4959.923825</td><td>0.0045266892595098715</td><td>0.0006657157145283143</td></tr>\n",
       "<tr><td>exampledata_55.ascii</td><td>124.0</td><td>0.40597539543058</td><td>10.0</td><td>117667.37688034447</td><td>0.5</td><td>0.0</td><td>-0.0003189412628760033</td><td>inf</td><td>58833.688440172235</td><td>1.5928505402474623e-06</td><td>0.08113299999968149</td><td>0.19859402460456943</td><td>0.9666666666666667</td><td>2.7532525085992187e-06</td><td>0.16205900000204565</td><td>0.4332230219650395</td><td>-0.001778795232460149</td><td>1.0</td><td>-1.1949171889075032</td><td>0.09371327241667922</td><td>1.0</td><td>0.0726129999999987</td><td>14083.565364999999</td><td>0.00010446967470739269</td><td>5.783762049792297e-05</td></tr>\n",
       "<tr><td>exampledata_68.ascii</td><td>124.0</td><td>0.40492957746478875</td><td>10.0</td><td>117667.37758863733</td><td>0.5</td><td>0.0</td><td>0.26507552270842666</td><td>215542.99977686472</td><td>58833.68879431867</td><td>1.5883911149847735e-06</td><td>0.08102950000102283</td><td>0.198943661971831</td><td>0.9666666666666667</td><td>2.758054166055268e-06</td><td>0.1617790000018431</td><td>0.4333093295443291</td><td>0.00046457110635057705</td><td>nan</td><td>-1.1959308123228702</td><td>0.093450908542675</td><td>nan</td><td>0.1085799999999999</td><td>13984.90212</td><td>0.00014561084516203417</td><td>0.00033615425356241094</td></tr>\n",
       "<tr><td>exampledata_34.ascii</td><td>125.0</td><td>0.4070175438596491</td><td>10.0</td><td>117667.37648286665</td><td>0.5</td><td>0.0</td><td>0.7809170027007085</td><td>22948.923072134774</td><td>58833.68824143332</td><td>1.5934912576761697e-06</td><td>0.08131099999809521</td><td>0.19824561403508772</td><td>0.9666666666666667</td><td>2.7575272837000535e-06</td><td>0.1623407499937457</td><td>0.43334705836919707</td><td>0.001490981310478565</td><td>nan</td><td>-1.1972733490992156</td><td>0.09375096786956927</td><td>nan</td><td>0.1351905000000002</td><td>13677.458779</td><td>0.002289800164162837</td><td>0.0001766577547895396</td></tr>\n",
       "<tr><td>exampledata_36.ascii</td><td>124.0</td><td>0.40316901408450706</td><td>10.0</td><td>117667.37674719014</td><td>0.5</td><td>0.0</td><td>-0.16686766353643306</td><td>inf</td><td>58833.68837359507</td><td>1.5956431730125147e-06</td><td>0.08159549999982119</td><td>0.19718309859154928</td><td>0.9666666666666667</td><td>2.758054166055268e-06</td><td>0.1629027499948279</td><td>0.4335807897346408</td><td>-0.0022067041162579415</td><td>nan</td><td>-1.2010252083200963</td><td>0.09387757319647273</td><td>nan</td><td>0.09471000000000096</td><td>14151.926915</td><td>0.00015193337774722183</td><td>0.00010508935772889778</td></tr>\n",
       "<tr><td>exampledata_12.ascii</td><td>124.0</td><td>0.39718804920913886</td><td>10.0</td><td>117667.37688034447</td><td>0.5</td><td>0.0</td><td>0.5767459260591364</td><td>inf</td><td>58833.688440172235</td><td>1.5928505402474623e-06</td><td>0.08113299999968149</td><td>0.19859402460456943</td><td>0.9666666666666667</td><td>2.7532525085992187e-06</td><td>0.16205900000204565</td><td>0.4332230219650395</td><td>-0.001778795232460149</td><td>1.0</td><td>-1.1949171889075032</td><td>0.09371327241667922</td><td>1.0</td><td>0.2613990000000008</td><td>13619.226697999997</td><td>0.003632315264063453</td><td>0.0017472221979788066</td></tr>\n",
       "<tr><td>exampledata_57.ascii</td><td>125.0</td><td>0.4147627416520211</td><td>10.0</td><td>117667.37650073814</td><td>0.5</td><td>0.0</td><td>-0.5412321315836143</td><td>inf</td><td>58833.68825036907</td><td>1.5948867765441906e-06</td><td>0.08148899999650894</td><td>0.1968365553602812</td><td>0.9666666666666667</td><td>2.7532525085992187e-06</td><td>0.16262199999619043</td><td>0.43368111046266433</td><td>0.0012042731936278564</td><td>nan</td><td>-1.2004344232098645</td><td>0.09383307140583695</td><td>nan</td><td>0.06790600000000069</td><td>13823.644610999998</td><td>0.00015978724851317</td><td>0.00010928535843299167</td></tr>\n",
       "</table></div>"
      ],
      "text/plain": [
       "<Table length=70>\n",
       "      LC_name        Autocor_length ...     amp_3_1_ratio     \n",
       "       str20            float64     ...        float64        \n",
       "-------------------- -------------- ... ----------------------\n",
       "exampledata_66.ascii          125.0 ...  0.0001690344465492537\n",
       "exampledata_23.ascii          122.0 ...  9.469947770980368e-05\n",
       "exampledata_42.ascii          124.0 ... 0.00023227349760485605\n",
       " exampledata_3.ascii          125.0 ... 0.00011952601306789401\n",
       "exampledata_38.ascii          125.0 ... 0.00010790671953903722\n",
       " exampledata_1.ascii          125.0 ... 0.00013013482516977248\n",
       "                 ...            ... ...                    ...\n",
       "exampledata_10.ascii           45.0 ...  0.0006657157145283143\n",
       "exampledata_55.ascii          124.0 ...  5.783762049792297e-05\n",
       "exampledata_68.ascii          124.0 ... 0.00033615425356241094\n",
       "exampledata_34.ascii          125.0 ...  0.0001766577547895396\n",
       "exampledata_36.ascii          124.0 ... 0.00010508935772889778\n",
       "exampledata_12.ascii          124.0 ...  0.0017472221979788066\n",
       "exampledata_57.ascii          125.0 ... 0.00010928535843299167"
      ]
     },
     "execution_count": 3,
     "metadata": {},
     "output_type": "execute_result"
    }
   ],
   "source": [
    "## run the code \n",
    "input_path = 'YOUR PATH HERE'\n",
    "input_path = '/Users/swebb/Downloads/ML_lightcurve_clustering-main/' \n",
    "load_LC_get_feats(input_path)"
   ]
  },
  {
   "cell_type": "code",
   "execution_count": null,
   "metadata": {},
   "outputs": [],
   "source": []
  },
  {
   "cell_type": "markdown",
   "metadata": {},
   "source": [
    "# Step 3: Cluster the features "
   ]
  },
  {
   "cell_type": "code",
   "execution_count": 4,
   "metadata": {},
   "outputs": [
    {
     "name": "stdout",
     "output_type": "stream",
     "text": [
      "    Unnamed: 0               LC_name  Autocor_length  Beyond1Std  CAR_sigma  \\\n",
      "0            0  exampledata_66.ascii           125.0    0.412281       10.0   \n",
      "1            1  exampledata_23.ascii           122.0    0.415468       10.0   \n",
      "2            2  exampledata_42.ascii           124.0    0.403169       10.0   \n",
      "3            3   exampledata_3.ascii           125.0    0.422807       10.0   \n",
      "4            4  exampledata_38.ascii           125.0    0.403509       10.0   \n",
      "..         ...                   ...             ...         ...        ...   \n",
      "65          65  exampledata_68.ascii           124.0    0.404930       10.0   \n",
      "66          66  exampledata_34.ascii           125.0    0.407018       10.0   \n",
      "67          67  exampledata_36.ascii           124.0    0.403169       10.0   \n",
      "68          68  exampledata_12.ascii           124.0    0.397188       10.0   \n",
      "69          69  exampledata_57.ascii           125.0    0.414763       10.0   \n",
      "\n",
      "         CAR_mean  CAR_tau  Con  LinearTrend      MaxSlope  ...       Rcs  \\\n",
      "0   117667.376483      0.5  0.0    -0.219369           inf  ...  0.433347   \n",
      "1   117667.374741      0.5  0.0    -0.294067           inf  ...  0.434882   \n",
      "2   117667.377529      0.5  0.0    -0.436008  2.432220e+05  ...  0.433242   \n",
      "3   117667.376483      0.5  0.0    -0.692060           inf  ...  0.433347   \n",
      "4   117667.376483      0.5  0.0    -0.413297           inf  ...  0.433347   \n",
      "..            ...      ...  ...          ...           ...  ...       ...   \n",
      "65  117667.377589      0.5  0.0     0.265076  2.155430e+05  ...  0.433309   \n",
      "66  117667.376483      0.5  0.0     0.780917  2.294892e+04  ...  0.433347   \n",
      "67  117667.376747      0.5  0.0    -0.166868           inf  ...  0.433581   \n",
      "68  117667.376880      0.5  0.0     0.576746           inf  ...  0.433223   \n",
      "69  117667.376501      0.5  0.0    -0.541232           inf  ...  0.433681   \n",
      "\n",
      "        Skew  SlottedA_length  SmallKurtosis       Std  StetsonK_AC  \\\n",
      "0   0.001491              0.0      -1.197273  0.093751          0.0   \n",
      "1   0.003295              0.0      -1.211920  0.094009          0.0   \n",
      "2  -0.001152              0.0      -1.194039  0.093500          0.0   \n",
      "3   0.001491              0.0      -1.197273  0.093751          0.0   \n",
      "4   0.001491              0.0      -1.197273  0.093751          0.0   \n",
      "..       ...              ...            ...       ...          ...   \n",
      "65  0.000465              0.0      -1.195931  0.093451          0.0   \n",
      "66  0.001491              0.0      -1.197273  0.093751          0.0   \n",
      "67 -0.002207              0.0      -1.201025  0.093878          0.0   \n",
      "68 -0.001779              1.0      -1.194917  0.093713          1.0   \n",
      "69  0.001204              0.0      -1.200434  0.093833          0.0   \n",
      "\n",
      "    Amplitudes          amp1  amp_2_1_ratio  amp_3_1_ratio  \n",
      "0     0.061389  13868.276779       0.000087       0.000169  \n",
      "1     0.047098  13308.103790       0.000093       0.000095  \n",
      "2     0.079024  14101.917163       0.000180       0.000232  \n",
      "3     0.026774  11850.253225       0.000110       0.000120  \n",
      "4     0.087905  14152.090897       0.000273       0.000108  \n",
      "..         ...           ...            ...            ...  \n",
      "65    0.108580  13984.902120       0.000146       0.000336  \n",
      "66    0.135191  13677.458779       0.002290       0.000177  \n",
      "67    0.094710  14151.926915       0.000152       0.000105  \n",
      "68    0.261399  13619.226698       0.003632       0.001747  \n",
      "69    0.067906  13823.644611       0.000160       0.000109  \n",
      "\n",
      "[70 rows x 27 columns]\n"
     ]
    }
   ],
   "source": [
    "## Read in the feature file and turn into Data frame\n",
    "filename = 'features_set.csv'\n",
    "filepath = 'YOUR PATH HERE'\n",
    "filepath = \"/Users/swebb/Downloads/ML_lightcurve_clustering-main/\"+filename\n",
    "df = pd.read_csv(filepath, delimiter=',')\n",
    "df.replace([np.inf, -np.inf], 0)\n",
    "df = df.replace(np.nan, 0)\n",
    "print(df)"
   ]
  },
  {
   "cell_type": "code",
   "execution_count": 5,
   "metadata": {
    "scrolled": true
   },
   "outputs": [],
   "source": [
    "# Seperate into clean lists\n",
    "\n",
    "LC_name = []\n",
    "Autocor_length = []\n",
    "Beyond1Std = []\n",
    "CAR_sigma = []\n",
    "CAR_mean= []\n",
    "CAR_tau= []\n",
    "Con= []\n",
    "LinearTrend= []\n",
    "MaxSlope= []\n",
    "Mean= []\n",
    "Meanvariance= []\n",
    "MedianAbsDev= []\n",
    "MedianBRP= []\n",
    "PairSlopeTrend= []\n",
    "PercentAmplitude= []\n",
    "Q31= []\n",
    "Rcs= []\n",
    "Skew= []\n",
    "SlottedA_length= []\n",
    "SmallKurtosis= []\n",
    "Std= []\n",
    "StetsonK_AC= []\n",
    "Amplitudes= []\n",
    "Amp1= []\n",
    "Amp_2_1_ratio= []\n",
    "Amp_3_1_ratio = []\n",
    "for index, row in df.iterrows():\n",
    "    LC_name.append(row.LC_name)\n",
    "    Autocor_length.append(row.Autocor_length)\n",
    "    Beyond1Std.append(row.Beyond1Std)\n",
    "    CAR_sigma.append(row.CAR_sigma)\n",
    "    CAR_mean.append(row.CAR_mean)\n",
    "    CAR_tau.append(row.CAR_tau)\n",
    "    Con.append(row.Con)\n",
    "    LinearTrend.append(row.LinearTrend)\n",
    "    MaxSlope.append(row.MaxSlope)\n",
    "    Mean.append(row.Mean)\n",
    "    Meanvariance.append(row.Meanvariance)\n",
    "    MedianAbsDev.append(row.MedianAbsDev)\n",
    "    MedianBRP.append(row.MedianBRP)\n",
    "    PairSlopeTrend.append(row.PairSlopeTrend)\n",
    "    PercentAmplitude.append(row.PercentAmplitude)\n",
    "    Q31.append(row.Q31)\n",
    "    Rcs.append(row.Rcs)\n",
    "    Skew.append(row.Skew)\n",
    "    SlottedA_length.append(row.SlottedA_length)\n",
    "    SmallKurtosis.append(row.SmallKurtosis)\n",
    "    Std.append(row.Std)\n",
    "    StetsonK_AC.append(row.StetsonK_AC)\n",
    "    Amplitudes.append(row.Amplitudes)\n",
    "    Amp1.append(row.amp1)\n",
    "    Amp_2_1_ratio.append(row.amp_2_1_ratio)\n",
    "    Amp_3_1_ratio.append(row.amp_3_1_ratio)\n",
    "    \n",
    "    \n",
    "#Beyond1Std, CAR_sigma, CAR_mean, CAR_tau, Con, LinearTrend, MaxSlope, Mean, Meanvariance, MedianAbsDev, MedianBRP, PairSlopeTrend, PercentAmplitude, Q31, Rcs, Skew, SlottedA_length, SmallKurtosis, Std, StetsonK_AC, Amplitudes, Amp1, Amp_2_1_ratio, Amp_3_1_ratio = np.loadtxt(filepath, unpack = True, skiprows=1)"
   ]
  },
  {
   "cell_type": "code",
   "execution_count": 6,
   "metadata": {},
   "outputs": [],
   "source": [
    "# create dictionary for all the wanted features (change up for different requirements,\n",
    "# you dont' have to use all the features :) \n",
    "dict = {'Filename': LC_name, 'Autocor_length': Autocor_length, \n",
    "        'Beyond1Std' : Beyond1Std, 'CAR_sigma': CAR_sigma, \n",
    "        'CAR_mean': CAR_mean, 'CAR_tau':CAR_tau, 'Con':Con, \n",
    "        'LinearTrend': LinearTrend, \n",
    "        'MaxSlope':MaxSlope, 'Mean' : Mean, \n",
    "        'Meanvariance': Meanvariance, 'MedianAbsDev': MedianAbsDev,\n",
    "        'MedianBRP' : MedianBRP, 'PairSlopeTrend' : PairSlopeTrend, \n",
    "        'PercentAmplitude' : PercentAmplitude, 'Q31':Q31, 'Rcs':Rcs,\n",
    "        'Skew':Skew, 'SlottedA_length' :SlottedA_length,\n",
    "        'SmallKurtosis':SmallKurtosis, 'Std':Std, \n",
    "        'StetsonK_AC':StetsonK_AC, 'Amplitudes':Amplitudes,\n",
    "        'Amp1': Amp1, 'Amp_2_1_ratio': Amp_2_1_ratio, 'Amp_3_1_ratio': Amp_3_1_ratio}"
   ]
  },
  {
   "cell_type": "code",
   "execution_count": 7,
   "metadata": {},
   "outputs": [
    {
     "name": "stdout",
     "output_type": "stream",
     "text": [
      "70\n",
      "                Filename  Autocor_length  Beyond1Std  CAR_sigma  \\\n",
      "0   exampledata_66.ascii           125.0    0.412281       10.0   \n",
      "1   exampledata_23.ascii           122.0    0.415468       10.0   \n",
      "2   exampledata_42.ascii           124.0    0.403169       10.0   \n",
      "3    exampledata_3.ascii           125.0    0.422807       10.0   \n",
      "4   exampledata_38.ascii           125.0    0.403509       10.0   \n",
      "..                   ...             ...         ...        ...   \n",
      "65  exampledata_68.ascii           124.0    0.404930       10.0   \n",
      "66  exampledata_34.ascii           125.0    0.407018       10.0   \n",
      "67  exampledata_36.ascii           124.0    0.403169       10.0   \n",
      "68  exampledata_12.ascii           124.0    0.397188       10.0   \n",
      "69  exampledata_57.ascii           125.0    0.414763       10.0   \n",
      "\n",
      "         CAR_mean  CAR_tau  Con  LinearTrend      MaxSlope          Mean  ...  \\\n",
      "0   117667.376483      0.5  0.0    -0.219369           inf  58833.688241  ...   \n",
      "1   117667.374741      0.5  0.0    -0.294067           inf  58833.687371  ...   \n",
      "2   117667.377529      0.5  0.0    -0.436008  2.432220e+05  58833.688765  ...   \n",
      "3   117667.376483      0.5  0.0    -0.692060           inf  58833.688241  ...   \n",
      "4   117667.376483      0.5  0.0    -0.413297           inf  58833.688241  ...   \n",
      "..            ...      ...  ...          ...           ...           ...  ...   \n",
      "65  117667.377589      0.5  0.0     0.265076  2.155430e+05  58833.688794  ...   \n",
      "66  117667.376483      0.5  0.0     0.780917  2.294892e+04  58833.688241  ...   \n",
      "67  117667.376747      0.5  0.0    -0.166868           inf  58833.688374  ...   \n",
      "68  117667.376880      0.5  0.0     0.576746           inf  58833.688440  ...   \n",
      "69  117667.376501      0.5  0.0    -0.541232           inf  58833.688250  ...   \n",
      "\n",
      "         Rcs      Skew  SlottedA_length  SmallKurtosis       Std  StetsonK_AC  \\\n",
      "0   0.433347  0.001491              0.0      -1.197273  0.093751          0.0   \n",
      "1   0.434882  0.003295              0.0      -1.211920  0.094009          0.0   \n",
      "2   0.433242 -0.001152              0.0      -1.194039  0.093500          0.0   \n",
      "3   0.433347  0.001491              0.0      -1.197273  0.093751          0.0   \n",
      "4   0.433347  0.001491              0.0      -1.197273  0.093751          0.0   \n",
      "..       ...       ...              ...            ...       ...          ...   \n",
      "65  0.433309  0.000465              0.0      -1.195931  0.093451          0.0   \n",
      "66  0.433347  0.001491              0.0      -1.197273  0.093751          0.0   \n",
      "67  0.433581 -0.002207              0.0      -1.201025  0.093878          0.0   \n",
      "68  0.433223 -0.001779              1.0      -1.194917  0.093713          1.0   \n",
      "69  0.433681  0.001204              0.0      -1.200434  0.093833          0.0   \n",
      "\n",
      "    Amplitudes          Amp1  Amp_2_1_ratio  Amp_3_1_ratio  \n",
      "0     0.061389  13868.276779       0.000087       0.000169  \n",
      "1     0.047098  13308.103790       0.000093       0.000095  \n",
      "2     0.079024  14101.917163       0.000180       0.000232  \n",
      "3     0.026774  11850.253225       0.000110       0.000120  \n",
      "4     0.087905  14152.090897       0.000273       0.000108  \n",
      "..         ...           ...            ...            ...  \n",
      "65    0.108580  13984.902120       0.000146       0.000336  \n",
      "66    0.135191  13677.458779       0.002290       0.000177  \n",
      "67    0.094710  14151.926915       0.000152       0.000105  \n",
      "68    0.261399  13619.226698       0.003632       0.001747  \n",
      "69    0.067906  13823.644611       0.000160       0.000109  \n",
      "\n",
      "[70 rows x 26 columns]\n"
     ]
    }
   ],
   "source": [
    "#Put dictionary into a pandas datadframe with no NaNs or Infs  #\n",
    "dframe = pd.DataFrame(dict)\n",
    "dframe.replace('inf', 0)\n",
    "dframe = dframe.replace(np.nan, 0)\n",
    "print(len(dframe))\n",
    "print(dframe)"
   ]
  },
  {
   "cell_type": "code",
   "execution_count": 8,
   "metadata": {},
   "outputs": [],
   "source": [
    "#Define what features to use in the clustering, don't cluster on the targert/ID names! # \n",
    "features = ['Autocor_length', 'Beyond1Std', 'CAR_sigma', 'CAR_mean', \n",
    "            'CAR_tau', 'Con', 'LinearTrend', \n",
    "            'Mean', 'Meanvariance', 'MedianAbsDev', 'MedianBRP', \n",
    "            'PairSlopeTrend', 'Q31', 'Rcs', 'Skew', 'SlottedA_length',\n",
    "            'SmallKurtosis', 'Std', 'StetsonK_AC', 'Amplitudes',\n",
    "            'Amp1', 'Amp_2_1_ratio', 'Amp_3_1_ratio']"
   ]
  },
  {
   "cell_type": "code",
   "execution_count": 9,
   "metadata": {},
   "outputs": [],
   "source": [
    "## Separating out the features:\n",
    "x = dframe.loc[:, features].values\n",
    "## Separating out the LC names:\n",
    "y = dframe.loc[:,['Filename']].values\n",
    "# Standardise the features\n",
    "x = StandardScaler().fit_transform(x)"
   ]
  },
  {
   "cell_type": "markdown",
   "metadata": {},
   "source": [
    "## run quick PCA "
   ]
  },
  {
   "cell_type": "code",
   "execution_count": 10,
   "metadata": {},
   "outputs": [],
   "source": [
    "## Simple 2D component breakdown for PCA. Don't need to do this but can be helpful to see ##\n",
    "pca = PCA(n_components=2)\n",
    "principalComponents = pca.fit_transform(x)\n",
    "principalDf = pd.DataFrame(data = principalComponents, columns =['PC1', 'PC2'])\n",
    "finalDf = pd.concat([principalDf, dframe[['Filename']]], axis =1)"
   ]
  },
  {
   "cell_type": "code",
   "execution_count": 11,
   "metadata": {},
   "outputs": [
    {
     "data": {
      "image/png": "[encoded data removed]",
      "text/plain": [
       "<Figure size 1440x1440 with 1 Axes>"
      ]
     },
     "metadata": {
      "needs_background": "light"
     },
     "output_type": "display_data"
    },
    {
     "name": "stdout",
     "output_type": "stream",
     "text": [
      "['Autocor_length', 'Beyond1Std', 'CAR_sigma', 'CAR_mean', 'CAR_tau', 'Con', 'LinearTrend', 'Mean', 'Meanvariance', 'MedianAbsDev', 'MedianBRP', 'PairSlopeTrend', 'Q31', 'Rcs', 'Skew', 'SlottedA_length', 'SmallKurtosis', 'Std', 'StetsonK_AC', 'Amplitudes', 'Amp1', 'Amp_2_1_ratio', 'Amp_3_1_ratio']\n"
     ]
    }
   ],
   "source": [
    "def myplot(score, coeff, labels=None):\n",
    "        xs = score[:,0]\n",
    "        ys = score[:,1]\n",
    "        n = coeff.shape[0]\n",
    "        scalex = 1.0/(xs.max() - xs.min())\n",
    "        scaley = 1.0/(ys.max() - ys.min())\n",
    "        plt.scatter(xs*scalex, ys*scaley, c ='b' , alpha =0.3, s =2)\n",
    "        for i in range(n):\n",
    "                plt.arrow(0,0, coeff[i,0], coeff[i,1], color = 'r', alpha =0.7)\n",
    "                if labels is None:\n",
    "                        plt.text(coeff[i,0]*1.15, coeff[i,1] *1.15, \"Var\"+str(i+1), color=\"hotpink\", ha = 'center', va = 'center')\n",
    "                else:\n",
    "                        plt.text(coeff[i,0]* 1.15, coeff[i,1] * 1.15, labels[i], color = 'g', ha = 'center', va = 'center')\n",
    "fig = plt.figure(figsize=(20,20))\n",
    "plt.xlim(-1,1)\n",
    "plt.ylim(-1, 1)\n",
    "plt.xlabel(\"PC{}\".format(1))\n",
    "plt.ylabel(\"PC{}\".format(2))\n",
    "plt.grid()\n",
    "myplot(principalComponents[:,0:2],np.transpose(pca.components_[0:2, :]), labels=features)\n",
    "plt.show()\n",
    "print(features)"
   ]
  },
  {
   "cell_type": "markdown",
   "metadata": {},
   "source": [
    "## run quick TNSE and HDBSCAN on the featues  "
   ]
  },
  {
   "cell_type": "code",
   "execution_count": 12,
   "metadata": {},
   "outputs": [
    {
     "name": "stdout",
     "output_type": "stream",
     "text": [
      "2\n"
     ]
    }
   ],
   "source": [
    "tsne =TSNE(n_components=2, perplexity=50, n_iter=300)\n",
    "tsne_results = tsne.fit_transform(x)\n",
    "clusterer = hdbscan.HDBSCAN(metric='euclidean')\n",
    "hdbscan_result = clusterer.fit(x)\n",
    "hdbscan_result.labels_\n",
    "hdbscan_result.labels_.max()\n",
    "labels = hdbscan_result.labels_\n",
    "n_clusters_ = len(set(labels))-(1 if -1 in labels else 0)\n",
    "print(n_clusters_)"
   ]
  },
  {
   "cell_type": "code",
   "execution_count": 13,
   "metadata": {},
   "outputs": [
    {
     "name": "stdout",
     "output_type": "stream",
     "text": [
      "HDBSCAN()\n"
     ]
    },
    {
     "data": {
      "text/plain": [
       "<AxesSubplot:ylabel='$\\\\lambda$ value'>"
      ]
     },
     "execution_count": 13,
     "metadata": {},
     "output_type": "execute_result"
    },
    {
     "data": {
      "image/png": "[encoded data removed]",
      "text/plain": [
       "<Figure size 864x864 with 2 Axes>"
      ]
     },
     "metadata": {
      "needs_background": "light"
     },
     "output_type": "display_data"
    }
   ],
   "source": [
    "print(hdbscan_result)\n",
    "fig = plt.figure(figsize=(12,12))\n",
    "clusterer.condensed_tree_.plot()"
   ]
  },
  {
   "cell_type": "code",
   "execution_count": null,
   "metadata": {},
   "outputs": [],
   "source": []
  },
  {
   "cell_type": "markdown",
   "metadata": {},
   "source": []
  },
  {
   "cell_type": "code",
   "execution_count": 14,
   "metadata": {},
   "outputs": [
    {
     "data": {
      "text/plain": [
       "Text(0, 0.5, 'Number of Light Curves')"
      ]
     },
     "execution_count": 14,
     "metadata": {},
     "output_type": "execute_result"
    },
    {
     "data": {
      "image/png": "[encoded data removed]",
      "text/plain": [
       "<Figure size 1440x1440 with 1 Axes>"
      ]
     },
     "metadata": {
      "needs_background": "light"
     },
     "output_type": "display_data"
    }
   ],
   "source": [
    "## clusterer.outlier_scores_\n",
    "fig = plt.figure(figsize=(20,20))\n",
    "plt.hist(clusterer.outlier_scores_, bins=100, color='purple', alpha=0.5)\n",
    "plt.xlabel('Outlier Score')\n",
    "plt.ylabel('Number of Light Curves')"
   ]
  },
  {
   "cell_type": "code",
   "execution_count": 15,
   "metadata": {},
   "outputs": [],
   "source": [
    "tsne = tsne_results \n",
    "filenames = np.array(y)\n",
    "cluster_score = np.array(hdbscan_result.labels_)\n",
    "cluster_score_reshape = cluster_score.reshape(len(x),1)\n",
    "tsne_filenames = np.append(filenames, tsne, axis=1)\n",
    "tsne_filenames_clusters = np.append(tsne_filenames,cluster_score_reshape, axis=1 )\n"
   ]
  },
  {
   "cell_type": "code",
   "execution_count": 16,
   "metadata": {},
   "outputs": [],
   "source": [
    "def get_cmap(n, name='nipy_spectral'):\n",
    "    '''Returns a function that maps each index in 0, 1, ..., n-1 to a distinct \n",
    "    RGB color; the keyword argument name must be a standard mpl colormap name.'''\n",
    "    return plt.cm.get_cmap(name, n)"
   ]
  },
  {
   "cell_type": "code",
   "execution_count": 17,
   "metadata": {},
   "outputs": [
    {
     "name": "stderr",
     "output_type": "stream",
     "text": [
      "*c* argument looks like a single numeric RGB or RGBA sequence, which should be avoided as value-mapping will have precedence in case its length matches with *x* & *y*.  Please use the *color* keyword-argument or provide a 2D array with a single row if you intend to specify the same RGB or RGBA value for all points.\n",
      "*c* argument looks like a single numeric RGB or RGBA sequence, which should be avoided as value-mapping will have precedence in case its length matches with *x* & *y*.  Please use the *color* keyword-argument or provide a 2D array with a single row if you intend to specify the same RGB or RGBA value for all points.\n",
      "*c* argument looks like a single numeric RGB or RGBA sequence, which should be avoided as value-mapping will have precedence in case its length matches with *x* & *y*.  Please use the *color* keyword-argument or provide a 2D array with a single row if you intend to specify the same RGB or RGBA value for all points.\n",
      "*c* argument looks like a single numeric RGB or RGBA sequence, which should be avoided as value-mapping will have precedence in case its length matches with *x* & *y*.  Please use the *color* keyword-argument or provide a 2D array with a single row if you intend to specify the same RGB or RGBA value for all points.\n",
      "*c* argument looks like a single numeric RGB or RGBA sequence, which should be avoided as value-mapping will have precedence in case its length matches with *x* & *y*.  Please use the *color* keyword-argument or provide a 2D array with a single row if you intend to specify the same RGB or RGBA value for all points.\n",
      "*c* argument looks like a single numeric RGB or RGBA sequence, which should be avoided as value-mapping will have precedence in case its length matches with *x* & *y*.  Please use the *color* keyword-argument or provide a 2D array with a single row if you intend to specify the same RGB or RGBA value for all points.\n",
      "*c* argument looks like a single numeric RGB or RGBA sequence, which should be avoided as value-mapping will have precedence in case its length matches with *x* & *y*.  Please use the *color* keyword-argument or provide a 2D array with a single row if you intend to specify the same RGB or RGBA value for all points.\n",
      "*c* argument looks like a single numeric RGB or RGBA sequence, which should be avoided as value-mapping will have precedence in case its length matches with *x* & *y*.  Please use the *color* keyword-argument or provide a 2D array with a single row if you intend to specify the same RGB or RGBA value for all points.\n",
      "*c* argument looks like a single numeric RGB or RGBA sequence, which should be avoided as value-mapping will have precedence in case its length matches with *x* & *y*.  Please use the *color* keyword-argument or provide a 2D array with a single row if you intend to specify the same RGB or RGBA value for all points.\n",
      "*c* argument looks like a single numeric RGB or RGBA sequence, which should be avoided as value-mapping will have precedence in case its length matches with *x* & *y*.  Please use the *color* keyword-argument or provide a 2D array with a single row if you intend to specify the same RGB or RGBA value for all points.\n",
      "*c* argument looks like a single numeric RGB or RGBA sequence, which should be avoided as value-mapping will have precedence in case its length matches with *x* & *y*.  Please use the *color* keyword-argument or provide a 2D array with a single row if you intend to specify the same RGB or RGBA value for all points.\n",
      "*c* argument looks like a single numeric RGB or RGBA sequence, which should be avoided as value-mapping will have precedence in case its length matches with *x* & *y*.  Please use the *color* keyword-argument or provide a 2D array with a single row if you intend to specify the same RGB or RGBA value for all points.\n",
      "*c* argument looks like a single numeric RGB or RGBA sequence, which should be avoided as value-mapping will have precedence in case its length matches with *x* & *y*.  Please use the *color* keyword-argument or provide a 2D array with a single row if you intend to specify the same RGB or RGBA value for all points.\n",
      "*c* argument looks like a single numeric RGB or RGBA sequence, which should be avoided as value-mapping will have precedence in case its length matches with *x* & *y*.  Please use the *color* keyword-argument or provide a 2D array with a single row if you intend to specify the same RGB or RGBA value for all points.\n",
      "*c* argument looks like a single numeric RGB or RGBA sequence, which should be avoided as value-mapping will have precedence in case its length matches with *x* & *y*.  Please use the *color* keyword-argument or provide a 2D array with a single row if you intend to specify the same RGB or RGBA value for all points.\n",
      "*c* argument looks like a single numeric RGB or RGBA sequence, which should be avoided as value-mapping will have precedence in case its length matches with *x* & *y*.  Please use the *color* keyword-argument or provide a 2D array with a single row if you intend to specify the same RGB or RGBA value for all points.\n",
      "*c* argument looks like a single numeric RGB or RGBA sequence, which should be avoided as value-mapping will have precedence in case its length matches with *x* & *y*.  Please use the *color* keyword-argument or provide a 2D array with a single row if you intend to specify the same RGB or RGBA value for all points.\n",
      "*c* argument looks like a single numeric RGB or RGBA sequence, which should be avoided as value-mapping will have precedence in case its length matches with *x* & *y*.  Please use the *color* keyword-argument or provide a 2D array with a single row if you intend to specify the same RGB or RGBA value for all points.\n",
      "*c* argument looks like a single numeric RGB or RGBA sequence, which should be avoided as value-mapping will have precedence in case its length matches with *x* & *y*.  Please use the *color* keyword-argument or provide a 2D array with a single row if you intend to specify the same RGB or RGBA value for all points.\n",
      "*c* argument looks like a single numeric RGB or RGBA sequence, which should be avoided as value-mapping will have precedence in case its length matches with *x* & *y*.  Please use the *color* keyword-argument or provide a 2D array with a single row if you intend to specify the same RGB or RGBA value for all points.\n",
      "*c* argument looks like a single numeric RGB or RGBA sequence, which should be avoided as value-mapping will have precedence in case its length matches with *x* & *y*.  Please use the *color* keyword-argument or provide a 2D array with a single row if you intend to specify the same RGB or RGBA value for all points.\n",
      "*c* argument looks like a single numeric RGB or RGBA sequence, which should be avoided as value-mapping will have precedence in case its length matches with *x* & *y*.  Please use the *color* keyword-argument or provide a 2D array with a single row if you intend to specify the same RGB or RGBA value for all points.\n",
      "*c* argument looks like a single numeric RGB or RGBA sequence, which should be avoided as value-mapping will have precedence in case its length matches with *x* & *y*.  Please use the *color* keyword-argument or provide a 2D array with a single row if you intend to specify the same RGB or RGBA value for all points.\n",
      "*c* argument looks like a single numeric RGB or RGBA sequence, which should be avoided as value-mapping will have precedence in case its length matches with *x* & *y*.  Please use the *color* keyword-argument or provide a 2D array with a single row if you intend to specify the same RGB or RGBA value for all points.\n",
      "*c* argument looks like a single numeric RGB or RGBA sequence, which should be avoided as value-mapping will have precedence in case its length matches with *x* & *y*.  Please use the *color* keyword-argument or provide a 2D array with a single row if you intend to specify the same RGB or RGBA value for all points.\n",
      "*c* argument looks like a single numeric RGB or RGBA sequence, which should be avoided as value-mapping will have precedence in case its length matches with *x* & *y*.  Please use the *color* keyword-argument or provide a 2D array with a single row if you intend to specify the same RGB or RGBA value for all points.\n"
     ]
    },
    {
     "name": "stderr",
     "output_type": "stream",
     "text": [
      "*c* argument looks like a single numeric RGB or RGBA sequence, which should be avoided as value-mapping will have precedence in case its length matches with *x* & *y*.  Please use the *color* keyword-argument or provide a 2D array with a single row if you intend to specify the same RGB or RGBA value for all points.\n",
      "*c* argument looks like a single numeric RGB or RGBA sequence, which should be avoided as value-mapping will have precedence in case its length matches with *x* & *y*.  Please use the *color* keyword-argument or provide a 2D array with a single row if you intend to specify the same RGB or RGBA value for all points.\n",
      "*c* argument looks like a single numeric RGB or RGBA sequence, which should be avoided as value-mapping will have precedence in case its length matches with *x* & *y*.  Please use the *color* keyword-argument or provide a 2D array with a single row if you intend to specify the same RGB or RGBA value for all points.\n",
      "*c* argument looks like a single numeric RGB or RGBA sequence, which should be avoided as value-mapping will have precedence in case its length matches with *x* & *y*.  Please use the *color* keyword-argument or provide a 2D array with a single row if you intend to specify the same RGB or RGBA value for all points.\n",
      "*c* argument looks like a single numeric RGB or RGBA sequence, which should be avoided as value-mapping will have precedence in case its length matches with *x* & *y*.  Please use the *color* keyword-argument or provide a 2D array with a single row if you intend to specify the same RGB or RGBA value for all points.\n",
      "*c* argument looks like a single numeric RGB or RGBA sequence, which should be avoided as value-mapping will have precedence in case its length matches with *x* & *y*.  Please use the *color* keyword-argument or provide a 2D array with a single row if you intend to specify the same RGB or RGBA value for all points.\n",
      "*c* argument looks like a single numeric RGB or RGBA sequence, which should be avoided as value-mapping will have precedence in case its length matches with *x* & *y*.  Please use the *color* keyword-argument or provide a 2D array with a single row if you intend to specify the same RGB or RGBA value for all points.\n",
      "*c* argument looks like a single numeric RGB or RGBA sequence, which should be avoided as value-mapping will have precedence in case its length matches with *x* & *y*.  Please use the *color* keyword-argument or provide a 2D array with a single row if you intend to specify the same RGB or RGBA value for all points.\n",
      "*c* argument looks like a single numeric RGB or RGBA sequence, which should be avoided as value-mapping will have precedence in case its length matches with *x* & *y*.  Please use the *color* keyword-argument or provide a 2D array with a single row if you intend to specify the same RGB or RGBA value for all points.\n",
      "*c* argument looks like a single numeric RGB or RGBA sequence, which should be avoided as value-mapping will have precedence in case its length matches with *x* & *y*.  Please use the *color* keyword-argument or provide a 2D array with a single row if you intend to specify the same RGB or RGBA value for all points.\n",
      "*c* argument looks like a single numeric RGB or RGBA sequence, which should be avoided as value-mapping will have precedence in case its length matches with *x* & *y*.  Please use the *color* keyword-argument or provide a 2D array with a single row if you intend to specify the same RGB or RGBA value for all points.\n",
      "*c* argument looks like a single numeric RGB or RGBA sequence, which should be avoided as value-mapping will have precedence in case its length matches with *x* & *y*.  Please use the *color* keyword-argument or provide a 2D array with a single row if you intend to specify the same RGB or RGBA value for all points.\n",
      "*c* argument looks like a single numeric RGB or RGBA sequence, which should be avoided as value-mapping will have precedence in case its length matches with *x* & *y*.  Please use the *color* keyword-argument or provide a 2D array with a single row if you intend to specify the same RGB or RGBA value for all points.\n",
      "*c* argument looks like a single numeric RGB or RGBA sequence, which should be avoided as value-mapping will have precedence in case its length matches with *x* & *y*.  Please use the *color* keyword-argument or provide a 2D array with a single row if you intend to specify the same RGB or RGBA value for all points.\n",
      "*c* argument looks like a single numeric RGB or RGBA sequence, which should be avoided as value-mapping will have precedence in case its length matches with *x* & *y*.  Please use the *color* keyword-argument or provide a 2D array with a single row if you intend to specify the same RGB or RGBA value for all points.\n",
      "*c* argument looks like a single numeric RGB or RGBA sequence, which should be avoided as value-mapping will have precedence in case its length matches with *x* & *y*.  Please use the *color* keyword-argument or provide a 2D array with a single row if you intend to specify the same RGB or RGBA value for all points.\n",
      "*c* argument looks like a single numeric RGB or RGBA sequence, which should be avoided as value-mapping will have precedence in case its length matches with *x* & *y*.  Please use the *color* keyword-argument or provide a 2D array with a single row if you intend to specify the same RGB or RGBA value for all points.\n",
      "*c* argument looks like a single numeric RGB or RGBA sequence, which should be avoided as value-mapping will have precedence in case its length matches with *x* & *y*.  Please use the *color* keyword-argument or provide a 2D array with a single row if you intend to specify the same RGB or RGBA value for all points.\n",
      "*c* argument looks like a single numeric RGB or RGBA sequence, which should be avoided as value-mapping will have precedence in case its length matches with *x* & *y*.  Please use the *color* keyword-argument or provide a 2D array with a single row if you intend to specify the same RGB or RGBA value for all points.\n",
      "*c* argument looks like a single numeric RGB or RGBA sequence, which should be avoided as value-mapping will have precedence in case its length matches with *x* & *y*.  Please use the *color* keyword-argument or provide a 2D array with a single row if you intend to specify the same RGB or RGBA value for all points.\n",
      "*c* argument looks like a single numeric RGB or RGBA sequence, which should be avoided as value-mapping will have precedence in case its length matches with *x* & *y*.  Please use the *color* keyword-argument or provide a 2D array with a single row if you intend to specify the same RGB or RGBA value for all points.\n",
      "*c* argument looks like a single numeric RGB or RGBA sequence, which should be avoided as value-mapping will have precedence in case its length matches with *x* & *y*.  Please use the *color* keyword-argument or provide a 2D array with a single row if you intend to specify the same RGB or RGBA value for all points.\n",
      "*c* argument looks like a single numeric RGB or RGBA sequence, which should be avoided as value-mapping will have precedence in case its length matches with *x* & *y*.  Please use the *color* keyword-argument or provide a 2D array with a single row if you intend to specify the same RGB or RGBA value for all points.\n",
      "*c* argument looks like a single numeric RGB or RGBA sequence, which should be avoided as value-mapping will have precedence in case its length matches with *x* & *y*.  Please use the *color* keyword-argument or provide a 2D array with a single row if you intend to specify the same RGB or RGBA value for all points.\n",
      "*c* argument looks like a single numeric RGB or RGBA sequence, which should be avoided as value-mapping will have precedence in case its length matches with *x* & *y*.  Please use the *color* keyword-argument or provide a 2D array with a single row if you intend to specify the same RGB or RGBA value for all points.\n",
      "*c* argument looks like a single numeric RGB or RGBA sequence, which should be avoided as value-mapping will have precedence in case its length matches with *x* & *y*.  Please use the *color* keyword-argument or provide a 2D array with a single row if you intend to specify the same RGB or RGBA value for all points.\n"
     ]
    },
    {
     "name": "stderr",
     "output_type": "stream",
     "text": [
      "*c* argument looks like a single numeric RGB or RGBA sequence, which should be avoided as value-mapping will have precedence in case its length matches with *x* & *y*.  Please use the *color* keyword-argument or provide a 2D array with a single row if you intend to specify the same RGB or RGBA value for all points.\n",
      "*c* argument looks like a single numeric RGB or RGBA sequence, which should be avoided as value-mapping will have precedence in case its length matches with *x* & *y*.  Please use the *color* keyword-argument or provide a 2D array with a single row if you intend to specify the same RGB or RGBA value for all points.\n",
      "*c* argument looks like a single numeric RGB or RGBA sequence, which should be avoided as value-mapping will have precedence in case its length matches with *x* & *y*.  Please use the *color* keyword-argument or provide a 2D array with a single row if you intend to specify the same RGB or RGBA value for all points.\n",
      "*c* argument looks like a single numeric RGB or RGBA sequence, which should be avoided as value-mapping will have precedence in case its length matches with *x* & *y*.  Please use the *color* keyword-argument or provide a 2D array with a single row if you intend to specify the same RGB or RGBA value for all points.\n",
      "*c* argument looks like a single numeric RGB or RGBA sequence, which should be avoided as value-mapping will have precedence in case its length matches with *x* & *y*.  Please use the *color* keyword-argument or provide a 2D array with a single row if you intend to specify the same RGB or RGBA value for all points.\n",
      "*c* argument looks like a single numeric RGB or RGBA sequence, which should be avoided as value-mapping will have precedence in case its length matches with *x* & *y*.  Please use the *color* keyword-argument or provide a 2D array with a single row if you intend to specify the same RGB or RGBA value for all points.\n",
      "*c* argument looks like a single numeric RGB or RGBA sequence, which should be avoided as value-mapping will have precedence in case its length matches with *x* & *y*.  Please use the *color* keyword-argument or provide a 2D array with a single row if you intend to specify the same RGB or RGBA value for all points.\n",
      "*c* argument looks like a single numeric RGB or RGBA sequence, which should be avoided as value-mapping will have precedence in case its length matches with *x* & *y*.  Please use the *color* keyword-argument or provide a 2D array with a single row if you intend to specify the same RGB or RGBA value for all points.\n",
      "*c* argument looks like a single numeric RGB or RGBA sequence, which should be avoided as value-mapping will have precedence in case its length matches with *x* & *y*.  Please use the *color* keyword-argument or provide a 2D array with a single row if you intend to specify the same RGB or RGBA value for all points.\n",
      "*c* argument looks like a single numeric RGB or RGBA sequence, which should be avoided as value-mapping will have precedence in case its length matches with *x* & *y*.  Please use the *color* keyword-argument or provide a 2D array with a single row if you intend to specify the same RGB or RGBA value for all points.\n",
      "*c* argument looks like a single numeric RGB or RGBA sequence, which should be avoided as value-mapping will have precedence in case its length matches with *x* & *y*.  Please use the *color* keyword-argument or provide a 2D array with a single row if you intend to specify the same RGB or RGBA value for all points.\n",
      "*c* argument looks like a single numeric RGB or RGBA sequence, which should be avoided as value-mapping will have precedence in case its length matches with *x* & *y*.  Please use the *color* keyword-argument or provide a 2D array with a single row if you intend to specify the same RGB or RGBA value for all points.\n",
      "*c* argument looks like a single numeric RGB or RGBA sequence, which should be avoided as value-mapping will have precedence in case its length matches with *x* & *y*.  Please use the *color* keyword-argument or provide a 2D array with a single row if you intend to specify the same RGB or RGBA value for all points.\n",
      "*c* argument looks like a single numeric RGB or RGBA sequence, which should be avoided as value-mapping will have precedence in case its length matches with *x* & *y*.  Please use the *color* keyword-argument or provide a 2D array with a single row if you intend to specify the same RGB or RGBA value for all points.\n",
      "*c* argument looks like a single numeric RGB or RGBA sequence, which should be avoided as value-mapping will have precedence in case its length matches with *x* & *y*.  Please use the *color* keyword-argument or provide a 2D array with a single row if you intend to specify the same RGB or RGBA value for all points.\n",
      "*c* argument looks like a single numeric RGB or RGBA sequence, which should be avoided as value-mapping will have precedence in case its length matches with *x* & *y*.  Please use the *color* keyword-argument or provide a 2D array with a single row if you intend to specify the same RGB or RGBA value for all points.\n",
      "*c* argument looks like a single numeric RGB or RGBA sequence, which should be avoided as value-mapping will have precedence in case its length matches with *x* & *y*.  Please use the *color* keyword-argument or provide a 2D array with a single row if you intend to specify the same RGB or RGBA value for all points.\n",
      "*c* argument looks like a single numeric RGB or RGBA sequence, which should be avoided as value-mapping will have precedence in case its length matches with *x* & *y*.  Please use the *color* keyword-argument or provide a 2D array with a single row if you intend to specify the same RGB or RGBA value for all points.\n"
     ]
    },
    {
     "data": {
      "image/png": "[encoded data removed]",
      "text/plain": [
       "<Figure size 7200x7200 with 1 Axes>"
      ]
     },
     "metadata": {
      "needs_background": "light"
     },
     "output_type": "display_data"
    }
   ],
   "source": [
    "cmap = get_cmap(n_clusters_)\n",
    "fig = plt.figure(figsize=(100,100))\n",
    "ax = fig.add_subplot(111)\n",
    "\n",
    "params = {'legend.fontsize': 'x-large',\n",
    "          'legend.fontsize': 100,\n",
    "          'legend.handlelength': 2,\n",
    "          'figure.figsize': (100, 100),\n",
    "         'axes.labelsize': '100',\n",
    "         'axes.titlesize':'100',\n",
    "         'xtick.labelsize':'100',\n",
    "         'ytick.labelsize':'100'}\n",
    "pylab.rcParams.update(params)\n",
    "\n",
    "for cluster in np.unique(tsne_filenames_clusters[:,n_clusters_]):\n",
    "    #msk = np.where(tsne_filenames_clusters[:,4]==cluster)[0]\n",
    "    msk = np.where(tsne_filenames_clusters[:,n_clusters_]==cluster)[0]\n",
    "    xx = tsne_filenames_clusters[msk,1]\n",
    "    yy = tsne_filenames_clusters[msk,2]\n",
    "    ax.scatter(xx, yy, alpha=0.6, label=cluster, c=cmap(cluster), s=1000)"
   ]
  },
  {
   "cell_type": "code",
   "execution_count": 18,
   "metadata": {},
   "outputs": [],
   "source": [
    "# save clusters for looking through in program such as astronomally using isolation forest to rank (great for big data sets)\n",
    "d = {}\n",
    "for cluster in np.unique(tsne_filenames_clusters[:,n_clusters_]):\n",
    "    #print(cluster)\n",
    "    msk = np.where(tsne_filenames_clusters[:,3]==cluster)[0]\n",
    "    #print(tsne_filenames_clusters[:,0])\n",
    "    d[\"cluster{0}\".format(cluster)] = tsne_filenames_clusters[msk,0]\n",
    "    xx = tsne_filenames_clusters[msk,1]\n",
    "    yy = tsne_filenames_clusters[msk,2]\n",
    "   #print(tsne_filenames_clusters)\n",
    "f = open(filename+'_clsuters.pkl', \"wb\")\n",
    "pickle.dump(d, f)\n",
    "f.close()"
   ]
  },
  {
   "cell_type": "code",
   "execution_count": null,
   "metadata": {},
   "outputs": [],
   "source": []
  },
  {
   "cell_type": "code",
   "execution_count": null,
   "metadata": {},
   "outputs": [],
   "source": []
  }
 ],
 "metadata": {
  "kernelspec": {
   "display_name": "Python 3 (ipykernel)",
   "language": "python",
   "name": "python3"
  },
  "language_info": {
   "codemirror_mode": {
    "name": "ipython",
    "version": 3
   },
   "file_extension": ".py",
   "mimetype": "text/x-python",
   "name": "python",
   "nbconvert_exporter": "python",
   "pygments_lexer": "ipython3",
   "version": "3.9.7"
  }
 },
 "nbformat": 4,
 "nbformat_minor": 2
}
